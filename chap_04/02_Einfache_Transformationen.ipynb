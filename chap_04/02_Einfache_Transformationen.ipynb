{
 "cells": [
  {
   "cell_type": "markdown",
   "metadata": {},
   "source": [
    "###### Content under Creative Commons Attribution license CC-BY 4.0, code under BSD 3-Clause License © 2022  by D. Koehn, T. Meier and J. Stampa, notebook style sheet by L.A. Barba, N.C. Clementi"
   ]
  },
  {
   "cell_type": "code",
   "execution_count": 1,
   "metadata": {},
   "outputs": [
    {
     "data": {
      "text/html": [
       "<link href=\"https://fonts.googleapis.com/css?family=Merriweather:300,300i,400,400i,700,700i,900,900i\" rel='stylesheet' >\n",
       "<link href=\"https://fonts.googleapis.com/css?family=Source+Sans+Pro:300,300i,400,400i,700,700i\" rel='stylesheet' >\n",
       "<link href='http://fonts.googleapis.com/css?family=Source+Code+Pro:300,400' rel='stylesheet' >\n",
       "<style>\n",
       "\n",
       "@font-face {\n",
       "    font-family: \"Computer Modern\";\n",
       "    src: url('http://mirrors.ctan.org/fonts/cm-unicode/fonts/otf/cmunss.otf');\n",
       "}\n",
       "\n",
       "\n",
       "#notebook_panel { /* main background */\n",
       "    background: rgb(245,245,245);\n",
       "}\n",
       "\n",
       "div.cell { /* set cell width */\n",
       "    width: 800px;\n",
       "}\n",
       "\n",
       "div #notebook { /* centre the content */\n",
       "    background: #fff; /* white background for content */\n",
       "    width: 1000px;\n",
       "    margin: auto;\n",
       "    padding-left: 0em;\n",
       "}\n",
       "\n",
       "#notebook li { /* More space between bullet points */\n",
       "margin-top:0.5em;\n",
       "}\n",
       "\n",
       "/* draw border around running cells */\n",
       "div.cell.border-box-sizing.code_cell.running { \n",
       "    border: 1px solid #111;\n",
       "}\n",
       "\n",
       "/* Put a solid color box around each cell and its output, visually linking them*/\n",
       "div.cell.code_cell {\n",
       "    background-color: rgb(256,256,256); \n",
       "    border-radius: 0px; \n",
       "    padding: 0.5em;\n",
       "    margin-left:1em;\n",
       "    margin-top: 1em;\n",
       "}\n",
       "\n",
       "\n",
       "div.text_cell_render{\n",
       "    font-family: 'Source Sans Pro', sans-serif;\n",
       "    line-height: 140%;\n",
       "    font-size: 110%;\n",
       "    width:680px;\n",
       "    margin-left:auto;\n",
       "    margin-right:auto;\n",
       "}\n",
       "\n",
       "/* Formatting for header cells */\n",
       ".text_cell_render h1 {\n",
       "    font-family: 'Merriweather', serif;\n",
       "    font-style:regular;\n",
       "    font-weight: bold;    \n",
       "    font-size: 250%;\n",
       "    line-height: 100%;\n",
       "    color: #004065;\n",
       "    margin-bottom: 1em;\n",
       "    margin-top: 0.5em;\n",
       "    display: block;\n",
       "}\t\n",
       ".text_cell_render h2 {\n",
       "    font-family: 'Merriweather', serif;\n",
       "    font-weight: bold; \n",
       "    font-size: 180%;\n",
       "    line-height: 100%;\n",
       "    color: #0096d6;\n",
       "    margin-bottom: 0.5em;\n",
       "    margin-top: 0.5em;\n",
       "    display: block;\n",
       "}\t\n",
       "\n",
       ".text_cell_render h3 {\n",
       "    font-family: 'Merriweather', serif;\n",
       "\tfont-size: 150%;\n",
       "    margin-top:12px;\n",
       "    margin-bottom: 3px;\n",
       "    font-style: regular;\n",
       "    color: #008367;\n",
       "}\n",
       "\n",
       ".text_cell_render h4 {    /*Use this for captions*/\n",
       "    font-family: 'Merriweather', serif;\n",
       "    font-weight: 300; \n",
       "    font-size: 100%;\n",
       "    line-height: 120%;\n",
       "    text-align: left;\n",
       "    width:500px;\n",
       "    margin-top: 1em;\n",
       "    margin-bottom: 2em;\n",
       "    margin-left: 80pt;\n",
       "    font-style: regular;\n",
       "}\n",
       "\n",
       ".text_cell_render h5 {  /*Use this for small titles*/\n",
       "    font-family: 'Source Sans Pro', sans-serif;\n",
       "    font-weight: regular;\n",
       "    font-size: 130%;\n",
       "    color: #e31937;\n",
       "    font-style: italic;\n",
       "    margin-bottom: .5em;\n",
       "    margin-top: 1em;\n",
       "    display: block;\n",
       "}\n",
       "\n",
       ".text_cell_render h6 { /*use this for copyright note*/\n",
       "    font-family: 'Source Code Pro', sans-serif;\n",
       "    font-weight: 300;\n",
       "    font-size: 9pt;\n",
       "    line-height: 100%;\n",
       "    color: grey;\n",
       "    margin-bottom: 1px;\n",
       "    margin-top: 1px;\n",
       "}\n",
       "\n",
       "    .CodeMirror{\n",
       "            font-family: \"Source Code Pro\";\n",
       "\t\t\tfont-size: 90%;\n",
       "    }\n",
       "/*    .prompt{\n",
       "        display: None;\n",
       "    }*/\n",
       "\t\n",
       "    \n",
       "    .warning{\n",
       "        color: rgb( 240, 20, 20 )\n",
       "        }  \n",
       "</style>\n",
       "<script>\n",
       "    MathJax.Hub.Config({\n",
       "                        TeX: {\n",
       "                           extensions: [\"AMSmath.js\"], \n",
       "                           equationNumbers: { autoNumber: \"AMS\", useLabelIds: true}\n",
       "                           },\n",
       "                tex2jax: {\n",
       "                    inlineMath: [ ['$','$'], [\"\\\\(\",\"\\\\)\"] ],\n",
       "                    displayMath: [ ['$$','$$'], [\"\\\\[\",\"\\\\]\"] ]\n",
       "                },\n",
       "                displayAlign: 'center', // Change this to 'center' to center equations.\n",
       "                \"HTML-CSS\": {\n",
       "                    styles: {'.MathJax_Display': {\"margin\": 4}}\n",
       "                }\n",
       "        });\n",
       "</script>\n"
      ],
      "text/plain": [
       "<IPython.core.display.HTML object>"
      ]
     },
     "execution_count": 1,
     "metadata": {},
     "output_type": "execute_result"
    }
   ],
   "source": [
    "# Execute this cell to load the notebook's style sheet, then ignore it\n",
    "from IPython.core.display import HTML\n",
    "css_file = '../style/custom.css'\n",
    "HTML(open(css_file, \"r\").read())"
   ]
  },
  {
   "cell_type": "markdown",
   "metadata": {},
   "source": [
    "# Digitale Signalbearbeitung in der Geophysik \n",
    "\n",
    "## Kapitel 4 Vorbereitende Datenbearbeitung"
   ]
  },
  {
   "cell_type": "markdown",
   "metadata": {},
   "source": [
    "### 4.4 Einfache Transformationen\n",
    "\n",
    "Oft sind bereits einfache Transformationen hilfreich, um das gewünschte Signal besser sichtbar zu machen oder Fehler zu beseitigen. Interessieren vor allem die hohen Frequenzen und die tiefen Frequenzen stören eher, kann eine zeitliche Differentiation der Wertereihe erfolgen - wenn nötig auch mehrmals. Eine Integration bzgl. der Zeit hilft dagegen, wenn eher die tiefen Frequenzen interessieren. Allerdings kann durch Integration auch langperiodisches Rauschen verstärkt werden, weshalb die Kombination mit einer Filterung empfehlenswert ist. Ein weiteres Beispiel ist die Amplitudenkorrektur z.B. bei reflexionsseismischen Messungen: die Amplitudenabnahme mit der Zeit wird korrigiert, um schwache spätere Einsätze besser sichtbar zu machen und künstlich Stationarität der Wertereihe bzgl. der Amplitude herbei zu führen.\n",
    "\n",
    "Ist die Amplitude nur bis auf einen unbekannten Faktor bestimmt, z.B. aufgrund unbekannter Ankopplung eines Geophons an den Untergrund, wird die Zeitreihe auf das Maximum der Wertereihe normiert. Es wird dann die Wellenform aber nicht ihr absoluter Wert interpretiert. Das ist bei vielen Anwendungen ausreichend, da oft nur Laufzeiten oder die Phase des Signals aber nicht die Amplitude ausgewertet werden.    \n",
    "\n",
    "Um kleinere Signale sichtbar zu machen, kann eine Logarithmierung der Wertereihe erfolgen:\n",
    "\n",
    "\\begin{equation}\n",
    "\\tilde{x}_i = \\ln {x_i}. \\tag{4.4}\n",
    "\\end{equation}\n",
    "\n",
    "Schauen wir uns das an einem Beispiel genauer an. Wie üblich importieren wir als erstes einige Python Bibliotheken."
   ]
  },
  {
   "cell_type": "code",
   "execution_count": 2,
   "metadata": {},
   "outputs": [],
   "source": [
    "# Importiere Python Bibliotheken \n",
    "# ------------------------------\n",
    "%matplotlib inline\n",
    "from ipywidgets import interactive\n",
    "import matplotlib.pyplot as plt\n",
    "import numpy as np"
   ]
  },
  {
   "cell_type": "markdown",
   "metadata": {},
   "source": [
    "Im nächsten Schritt verwenden wir die Sinusfunktion von Übungsaufgabe 3.4 und addieren einige amplitudenstarke Spikes, deren Amplituden wir interaktiv ändern können. Über einen  Schalter läßt sich die Logarithmierung der Zeitreihe aktivieren. "
   ]
  },
  {
   "cell_type": "code",
   "execution_count": 3,
   "metadata": {},
   "outputs": [],
   "source": [
    "def x_log(spike_amp,logx):\n",
    "    \n",
    "    # Define parameters\n",
    "    T = 25.                  # period 1 [s]\n",
    "    dt = .1                  # time sampling [s]\n",
    "    L = 1000.                # length of the time series [s]\n",
    "\n",
    "    # Define sine function ...\n",
    "    omega = 2. * np.pi / T   # compute circular frequency from period\n",
    "    t = np.arange(0,L+dt,dt) # compute time vector\n",
    "    x = np.sin(omega*t)  # compute sine wave\n",
    "    \n",
    "    # Add spike to the time series\n",
    "    N = len(x)\n",
    "    x[N//2] = spike_amp\n",
    "    \n",
    "    if(logx==True):\n",
    "        \n",
    "        # if x > 0\n",
    "        x = np.log(x)\n",
    "    \n",
    "        # if x <=0\n",
    "        #C = 1 / np.log(10)\n",
    "        #x = np.sign(x) * np.log(1+np.abs(x/C))\n",
    "    \n",
    "    # Initialize Plots\n",
    "    plt.figure(figsize=(10,5))\n",
    "    \n",
    "    # Plot time series\n",
    "    plt.plot(t, x, 'b')\n",
    "    plt.xlabel('Time (s)')\n",
    "    plt.ylabel('f(t) (s)')\n",
    "    \n",
    "    if(logx==True):\n",
    "        plt.ylabel('log(f(t)) (s)')\n",
    "        \n",
    "    plt.title('Time Series f(t) = Sin(t) + Spike(t)')"
   ]
  },
  {
   "cell_type": "markdown",
   "metadata": {},
   "source": [
    "Als nächstes können wir mit der erzeugten Zeitreihe und der Logarithmierung herumspielen .."
   ]
  },
  {
   "cell_type": "code",
   "execution_count": 4,
   "metadata": {},
   "outputs": [
    {
     "data": {
      "application/vnd.jupyter.widget-view+json": {
       "model_id": "b843610b98d7495d856af0becaef9aa8",
       "version_major": 2,
       "version_minor": 0
      },
      "text/plain": [
       "interactive(children=(FloatSlider(value=500.0, description='spike_amp', max=1000.0, step=50.0), Checkbox(value…"
      ]
     },
     "metadata": {},
     "output_type": "display_data"
    }
   ],
   "source": [
    "interactive_plot = interactive(x_log, spike_amp=(0., 1000.,50), logx=False)\n",
    "output = interactive_plot.children[-1]\n",
    "output.layout.height = '350px'\n",
    "interactive_plot"
   ]
  },
  {
   "cell_type": "markdown",
   "metadata": {},
   "source": [
    "Allerdings ist das eine nicht-lineare Transformation. Eventuell vorhandene lineare Zusammenhänge werden dadurch zerstört. Eine weitere digitale Bearbeitung der Daten ist dann meistens nicht mehr angebracht. Eine andere nicht-lineare Transformation, die sehr flexibel eingesetzt werden kann, um entweder schwache Signale sichtbar zu machen oder störendes Hintergrundrauschen zu unterdrücken ist:\n",
    "\n",
    "\\begin{equation}\n",
    "\\tilde{x}_i = sgn(x_i) |x_i|^{n}. \\tag{4.5}\n",
    "\\end{equation} \n",
    "\n",
    "Für $n = 1$ ergibt sich keine Änderung, für $n<1$ werden dagegen kleinere Amplituden verstärkt. Diese Transformation eignet sich aufgrund ihrer Flexibilität vor allem für die Darstellung von Wertereihen mit großem Dynamikumfang. Für $n>1$ werden schwächere Signale unterdrückt.\n",
    "\n",
    "Testen wir Transformation (4.5) an der Zeitreihe mit der Sinusschwingung und dem Spike."
   ]
  },
  {
   "cell_type": "code",
   "execution_count": 5,
   "metadata": {},
   "outputs": [],
   "source": [
    "def sgnxxn(n,sgnxxn):\n",
    "    \n",
    "    # Define parameters\n",
    "    T = 25.                  # period 1 [s]\n",
    "    dt = .1                  # time sampling [s]\n",
    "    L = 1000.                # length of the time series [s]\n",
    "    spike_amp = 1000.        # spike amplitude\n",
    "\n",
    "    # Define sine function ...\n",
    "    omega = 2. * np.pi / T   # compute circular frequency from period\n",
    "    t = np.arange(0,L+dt,dt) # compute time vector\n",
    "    x = np.sin(omega*t)  # compute sine wave\n",
    "    \n",
    "    # Add spike to the time series\n",
    "    N = len(x)\n",
    "    x[N//2] = spike_amp\n",
    "    \n",
    "    if(sgnxxn==True):\n",
    "        x = np.sign(x) * np.abs(x)**n\n",
    "    \n",
    "    # Initialize Plots\n",
    "    plt.figure(figsize=(10,5))\n",
    "    \n",
    "    # Plot time series\n",
    "    plt.plot(t, x, 'b')\n",
    "    plt.xlabel('Time (s)')\n",
    "    plt.ylabel('f(t) (s)')\n",
    "    \n",
    "    if(sgnxxn==True):\n",
    "        plt.ylabel('sgn(f(t))abs(f(t))**n (s)')\n",
    "        \n",
    "    plt.title('Time Series f(t) = Sin(t) + Spike(t)')"
   ]
  },
  {
   "cell_type": "code",
   "execution_count": 6,
   "metadata": {},
   "outputs": [
    {
     "data": {
      "application/vnd.jupyter.widget-view+json": {
       "model_id": "d7d0559d8a5743adbe989a9d1ba1b3b5",
       "version_major": 2,
       "version_minor": 0
      },
      "text/plain": [
       "interactive(children=(FloatSlider(value=1.0, description='n', max=2.0), Checkbox(value=False, description='sgn…"
      ]
     },
     "metadata": {},
     "output_type": "display_data"
    }
   ],
   "source": [
    "interactive_plot = interactive(sgnxxn, n=(0., 2., .1), sgnxxn=False)\n",
    "output = interactive_plot.children[-1]\n",
    "output.layout.height = '350px'\n",
    "interactive_plot"
   ]
  },
  {
   "cell_type": "markdown",
   "metadata": {},
   "source": [
    "Mitunter wird auch die Wertereihe zu einem Binärsignal reduziert, um Stationarität zu erzeugen und große Amplitudenunterschiede zu beseitigen:\n",
    "\n",
    "\\begin{equation}\n",
    "\\tilde{x}_i = \\begin{cases} 1,& x_i \\geq 0 \\\\ -1,& x_i < 0. \\end{cases} \\tag{4.6}\n",
    "\\end{equation}\n",
    "\n",
    "Erstaunlicherweise kann diese stark nicht-lineare Transformation zur Herstellung der [Stationarität](https://en.wikipedia.org/wiki/Stationary_process) für die Bestimmung der Greensfunktion aus dem Hintergrundrauschen erfolgreich eingesetzt werden.\n",
    "\n",
    "Um zu testen, ob eine Zeitreihe stationär ist, kann man den [Dickey-Fuller Test](https://pythondata.com/stationary-data-tests-for-time-series-forecasting/) verwenden. Dazu müssen wir nur die passende Python Funktion importieren ..."
   ]
  },
  {
   "cell_type": "code",
   "execution_count": 7,
   "metadata": {},
   "outputs": [],
   "source": [
    "from statsmodels.tsa.stattools import adfuller"
   ]
  },
  {
   "cell_type": "markdown",
   "metadata": {},
   "source": [
    "Um zu testen, ob die Transformation $(4.6)$ Stationarität erzeugt, addieren wir auf unsere Sinusfunktion mit der Amplitude $a$ einen linearen Trend mit der Steigung $b$"
   ]
  },
  {
   "cell_type": "code",
   "execution_count": 8,
   "metadata": {},
   "outputs": [],
   "source": [
    "def sgnx(a,b,sgnx):\n",
    "    \n",
    "    # Define parameters\n",
    "    T = 25.                  # period 1 [s]\n",
    "    dt = .1                  # time sampling [s]\n",
    "    L = 1000.                # length of the time series [s]\n",
    "\n",
    "    # Define sine function ...\n",
    "    omega = 2. * np.pi / T   # compute circular frequency from period\n",
    "    t = np.arange(0,L+dt,dt) # compute time vector\n",
    "    x = a*np.sin(omega*t)  # compute sine wave\n",
    "    \n",
    "    # Add linear trend to the time series\n",
    "    xlin = b * t\n",
    "    x = x + xlin\n",
    "        \n",
    "    if(sgnx==True):\n",
    "        x = np.sign(x)\n",
    "    \n",
    "    # Apply Dickey-Fuller test to x\n",
    "    res = adfuller(x)\n",
    "    \n",
    "    # Initialize Plots\n",
    "    plt.figure(figsize=(10,5))\n",
    "    \n",
    "    # Plot time series\n",
    "    plt.plot(t, x, 'b')\n",
    "    plt.xlabel('Time (s)')\n",
    "    plt.ylabel('f(t) (s)')\n",
    "    \n",
    "    if(sgnx==True):\n",
    "        plt.ylabel('sgn(f(t)) (s)')\n",
    "    \n",
    "    title = 'Time Series f(t) = a*Sin(t) + b*t, Dickey Fuller Test p-value = ' + str(res[1])\n",
    "    \n",
    "    plt.title(title)"
   ]
  },
  {
   "cell_type": "markdown",
   "metadata": {},
   "source": [
    "Genaugenommen, haben wir in der Funktion `sgnx` nicht Gl. (4.6) sondern die `NumPy` Funktion [sign](https://numpy.org/doc/stable/reference/generated/numpy.sign.html) implementiert."
   ]
  },
  {
   "cell_type": "code",
   "execution_count": 9,
   "metadata": {},
   "outputs": [
    {
     "data": {
      "application/vnd.jupyter.widget-view+json": {
       "model_id": "d55348b563cc4183bb32889f980fc2fd",
       "version_major": 2,
       "version_minor": 0
      },
      "text/plain": [
       "interactive(children=(FloatSlider(value=5.0, description='a', max=10.0), FloatSlider(value=0.0, description='b…"
      ]
     },
     "metadata": {},
     "output_type": "display_data"
    }
   ],
   "source": [
    "interactive_plot = interactive(sgnx, a=(0., 10., .1), b=(-.05, .05, .005),  sgnx=False)\n",
    "output = interactive_plot.children[-1]\n",
    "output.layout.height = '350px'\n",
    "interactive_plot"
   ]
  },
  {
   "cell_type": "markdown",
   "metadata": {},
   "source": [
    "Für die Sinusfunktion ohne linearen Trend ($b=0$) liefert der Dickey Fuller Test einen p-Wert von 0, womit wir eine stationäre Zeitreihe haben. Selbst bei kleinen Variationen von $b \\ne 0$, ergeben sich jedoch p-Werte nahe bei 1, womit die Zeitreihe nicht mehr stationär ist. \n",
    "\n",
    "Durch Anwendung der Transformation $sgn(x)$ springt der p-Wert sofort wieder auf Null, womit gezeigt wurde, daß die Signum-Transformation Stationarität herstellen kann. In diesem Fall geht dadurch jedoch ein großer Teil an Informationen verloren. Ein besserer Ansatz ist die Anwendung einer Trendkorrektur, die in Abschnitt 4.5 genauer diskutiert wird."
   ]
  },
  {
   "cell_type": "markdown",
   "metadata": {},
   "source": [
    "Für die Detektion eines Signals kann die folgende Transformation angewendet werden:\n",
    "\n",
    "\\begin{equation}\n",
    "\\tilde{x}_i = \\begin{cases} 0,& x_i < \\mbox{Schwellwert xc} \\\\ 1,& x_i \\geq \\mbox{Schwellwert xc}. \\end{cases} \\tag{4.7}\n",
    "\\end{equation}\n",
    "\n",
    "Das Resultat ist gleich Eins, falls die Amplitude der Wertereihe über einem Schwellwert liegt und damit das Vorhandensein eines Signals anzeigt.\n",
    "\n",
    "Testen wir das erneut für unsere Sinuszeitreihe, wobei wir einen Teil am Anfang der Zeitreihe isolieren, die Amplituden mit einer Gaussfunktion dämpfen und etwas zufallsverteilten Noise draufaddieren."
   ]
  },
  {
   "cell_type": "code",
   "execution_count": 10,
   "metadata": {},
   "outputs": [],
   "source": [
    "def sgndetect(xc,an,detect,damp,noise):\n",
    "    \n",
    "    # Define parameters\n",
    "    T = 25.                  # period 1 [s]\n",
    "    dt = .1                  # time sampling [s]\n",
    "    L = 1000.                # length of the time series [s]\n",
    "\n",
    "    # Define sine function ...\n",
    "    omega = 2. * np.pi / T   # compute circular frequency from period\n",
    "    t = np.arange(0,L+dt,dt) # compute time vector\n",
    "    x = np.sin(omega*t)  # compute sine wave\n",
    "    \n",
    "    # Isolate a part of the time series \n",
    "    N = len(x)\n",
    "    t1 = (int) (50 // dt)\n",
    "    t2 = (int) (100 // dt)\n",
    "    t3 = (int) (200 // dt)\n",
    "    x[:t1] = 0.\n",
    "    x[t2:t3] = 0.\n",
    "    \n",
    "    # Damp time series with Gaussian function before t3\n",
    "    if(damp==True):\n",
    "        a=1e-6\n",
    "        xdamp = x * np.exp(-a*(t-t3)**2)\n",
    "        x[:t3] = xdamp[:t3]\n",
    "        \n",
    "    # Add normal distributed noise to the time series\n",
    "    if(noise==True):\n",
    "        mu = 0.\n",
    "        sigma = .1\n",
    "        xnoise = np.random.normal(mu, sigma, N)\n",
    "        x = x + an * xnoise\n",
    "    \n",
    "    if(detect==True):\n",
    "        x[x>=xc] = 1.\n",
    "        x[x<xc] = 0.\n",
    "    \n",
    "    # Initialize Plots\n",
    "    plt.figure(figsize=(10,5))\n",
    "    \n",
    "    # Plot time series\n",
    "    plt.plot(t, x, 'b')\n",
    "    plt.xlabel('Time (s)')\n",
    "    plt.ylabel('f(t) (s)')\n",
    "    \n",
    "    if(detect==True):\n",
    "        plt.ylabel('sgn(f(t)) (s)')\n",
    "    \n",
    "    title = 'Time Series f(t) = Sin(t)'\n",
    "    \n",
    "    plt.title(title)"
   ]
  },
  {
   "cell_type": "code",
   "execution_count": 11,
   "metadata": {},
   "outputs": [
    {
     "data": {
      "application/vnd.jupyter.widget-view+json": {
       "model_id": "3eac9a85be554e7f95c28bd784b78386",
       "version_major": 2,
       "version_minor": 0
      },
      "text/plain": [
       "interactive(children=(FloatSlider(value=0.02, description='xc', max=0.04, step=0.005), FloatSlider(value=0.1, …"
      ]
     },
     "metadata": {},
     "output_type": "display_data"
    }
   ],
   "source": [
    "interactive_plot = interactive(sgndetect, xc=(0., .04, .005), an=(.0, .2, .01), detect=False, damp=False, noise=False)\n",
    "output = interactive_plot.children[-1]\n",
    "output.layout.height = '350px'\n",
    "interactive_plot"
   ]
  },
  {
   "cell_type": "markdown",
   "metadata": {},
   "source": [
    "Mitunter reicht die Multiplikation der Wertereihe mit einem konstanten Faktor, um Fehler zu korrigieren. Die fehlerhaften Wertereihen müssen nur mit einem Korrekturfaktor $a$ multipliziert werden, der allerdings unbekannt ist. Um ihn zu bestimmen, wird ein Modell für die Wertereihe angenommen. Für die korrigierte Wertereihe $\\hat{x}_i$ gilt danach:\n",
    "\n",
    "\\begin{equation}\n",
    "\\hat{x}_i = a \\tilde{x}_i, \\tag{4.8}\n",
    "\\label{eq:Faktor}\n",
    "\\end{equation}  \n",
    "\n",
    "wobei $\\tilde{x}_i$ die unkorrigierte, gemessene Wertereihe ist.\n",
    "\n",
    "Wir wollen das ganze an einer Zeitreihe ähnlich dem Huddle Test untersuchen. Dazu addieren wir auf unsere Sinusfunktion mit einer Periode von $T_1 = 25 s$ eine zweite Sinusfunktion mit einer Periode von $T_2 = 500 s$."
   ]
  },
  {
   "cell_type": "code",
   "execution_count": 12,
   "metadata": {},
   "outputs": [],
   "source": [
    "def fscale(a):\n",
    "    \n",
    "    # Define parameters\n",
    "    T1 = 25.                 # period 1 [s]\n",
    "    T2 = 500.                 # period 2 [s]\n",
    "    dt = .1                  # time sampling [s]\n",
    "    L = 1000.                # length of the time series [s]\n",
    "\n",
    "    # Define sine functions ...\n",
    "    omega1 = 2. * np.pi / T1   # compute circular frequency from period 1\n",
    "    omega2 = 2. * np.pi / T2   # compute circular frequency from period 2\n",
    "    t = np.arange(0,L+dt,dt) # compute time vector\n",
    "    \n",
    "    x1 = np.sin(omega1*t)  # compute sine wave 1\n",
    "    x2 = np.sin(omega2*t)  # compute sine wave 1\n",
    "    \n",
    "    # Add both sine functions\n",
    "    x = x1 + x2\n",
    "    \n",
    "    # Define uncorrected time series\n",
    "    ar = 1.27\n",
    "    xb = x * a\n",
    "    \n",
    "    # Define corrected time series\n",
    "    xh = x * ar\n",
    "    \n",
    "    # Initialize Plots\n",
    "    plt.figure(figsize=(10,5))\n",
    "    \n",
    "    # Plot time series\n",
    "    plt.plot(t, xb, 'b', label = r'uncorrected time series $\\overline{x}$')\n",
    "    plt.plot(t, xh, 'r', label = r'corrected time series $\\hat{x}$')\n",
    "    plt.xlabel('Time (s)')\n",
    "    plt.ylabel('f(t) (s)')\n",
    "    plt.legend()\n",
    "    title = 'Time Series f(t) = Sin(t)'\n",
    "    \n",
    "    plt.title(title)"
   ]
  },
  {
   "cell_type": "markdown",
   "metadata": {},
   "source": [
    "Durch Variation des Faktors $a$ können wir die unkorrigierte Zeitreihe $\\overline{x}$ in die korrigierte Zeitreihe $\\hat{x}$ transformieren. "
   ]
  },
  {
   "cell_type": "code",
   "execution_count": 13,
   "metadata": {},
   "outputs": [
    {
     "data": {
      "application/vnd.jupyter.widget-view+json": {
       "model_id": "45995078263a48daa380bd2ab8b83c4b",
       "version_major": 2,
       "version_minor": 0
      },
      "text/plain": [
       "interactive(children=(FloatSlider(value=5.0, description='a', max=10.0), Output(layout=Layout(height='350px'))…"
      ]
     },
     "metadata": {},
     "output_type": "display_data"
    }
   ],
   "source": [
    "interactive_plot = interactive(fscale, a=(.0, 10., .1))\n",
    "output = interactive_plot.children[-1]\n",
    "output.layout.height = '350px'\n",
    "interactive_plot"
   ]
  },
  {
   "cell_type": "markdown",
   "metadata": {},
   "source": [
    "Nimmt man an, dass durch ein benachbartes Referenzseismometer $x_i$ gemessen worden ist und deswegen als bekannt angenommen werden kann, lässt sich der Korrekturfaktor $a$ mit Hilfe der Methode der kleinsten Quadrate bestimmen. Dabei wird die Fehlerquadratsumme\n",
    "\n",
    "\\begin{equation}\n",
    "E = \\sum_{i=1}^N (x_i - \\hat{x}_i)^2 \\tag{4.9}\n",
    "\\end{equation} \n",
    "\n",
    "minimiert. D.h. für den Korrekturfaktor soll gelten:\n",
    "\n",
    "\\begin{equation}\n",
    "\\frac{\\partial E}{\\partial a}\\stackrel{!}{=}0. \\tag{4.10}\n",
    "\\end{equation}\n",
    "\n",
    "Diese Bedingung führt auf eine einfache Bestimmungsgleichung für $a$. Durch Multiplikation mit $a$ wird die korrigierte Wertereihe erhalten. \n",
    "\n",
    "Ähnlich kann man vorgehen, wenn in einer Wertereihe $x_i$ eine Störgröße vorhanden ist, die durch eine externe Messung $p_i$ identifiziert und gemessen werden kann. Im einfachsten Fall kann ein lineares Modell und zwar speziell  \n",
    "\n",
    "\\begin{equation}\n",
    "\\hat{x}_i=f(p_i) = ap_i \\tag{4.11}\n",
    "\\label{eq:extern}\n",
    "\\end{equation}\n",
    "\n",
    "angenommen werden. Dabei kann $x_i$ z.B. eine kontinuierliche Schweremessung und $p_i$ die Messung des Luftdrucks sein. $\\hat{x}_i$ ist der Anteil der Schweremessung, der durch den Luftdruck hervorgerufen wird. Ist der Faktor $a$ bekannt, der beschreibt, wie stark die Störgröße in der gemessenen Wertereihe auftritt, kann die externe Messung der Störgröße $p_i$ mit $a$ multipliziert und von der gemessenen Wertereihe abgezogen werden, um die korrigierte Wertereihe zu erhalten. Oft ist das nicht der Fall und er muss mittels der Methode der kleinsten Quadrate bestimmt werden. Die Fehlerquadratsumme lautet in diesem Fall: \n",
    "\n",
    "\\begin{equation}\n",
    "E = \\sum_{i=1}^N (x_i - a p_i)^2. \\tag{4.12}\n",
    "\\end{equation} \n",
    "\n",
    "Ihre Minimierung führt auf eine Bestimmungsgleichung für $a$ ähnliche wie im vorangegangenen Beispiel."
   ]
  },
  {
   "cell_type": "markdown",
   "metadata": {},
   "source": [
    "## Zusammenfassung:\n",
    "\n",
    "Mit Hilfe von einfachen Transformationen können ... \n",
    "\n",
    "- schwache Signale sichtbar gemacht\n",
    "\n",
    "- die Stationarität von Zeitreihen hergestellt\n",
    "\n",
    "- Signale detektiert \n",
    "\n",
    "- Amplitudenunterschiede korrigiert\n",
    "\n",
    "werden."
   ]
  }
 ],
 "metadata": {
  "anaconda-cloud": {},
  "kernelspec": {
   "display_name": "Python 3",
   "language": "python",
   "name": "python3"
  },
  "language_info": {
   "codemirror_mode": {
    "name": "ipython",
    "version": 3
   },
   "file_extension": ".py",
   "mimetype": "text/x-python",
   "name": "python",
   "nbconvert_exporter": "python",
   "pygments_lexer": "ipython3",
   "version": "3.6.8"
  }
 },
 "nbformat": 4,
 "nbformat_minor": 1
}
