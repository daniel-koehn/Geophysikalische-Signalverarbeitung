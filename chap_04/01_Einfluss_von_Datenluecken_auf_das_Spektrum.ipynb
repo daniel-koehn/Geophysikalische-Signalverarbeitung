{
 "cells": [
  {
   "cell_type": "markdown",
   "metadata": {},
   "source": [
    "###### Content under Creative Commons Attribution license CC-BY 4.0, code under BSD 3-Clause License © 2022  by D. Koehn, T. Meier and J. Stampa, notebook style sheet by L.A. Barba, N.C. Clementi"
   ]
  },
  {
   "cell_type": "code",
   "execution_count": 1,
   "metadata": {},
   "outputs": [
    {
     "data": {
      "text/html": [
       "<link href=\"https://fonts.googleapis.com/css?family=Merriweather:300,300i,400,400i,700,700i,900,900i\" rel='stylesheet' >\n",
       "<link href=\"https://fonts.googleapis.com/css?family=Source+Sans+Pro:300,300i,400,400i,700,700i\" rel='stylesheet' >\n",
       "<link href='http://fonts.googleapis.com/css?family=Source+Code+Pro:300,400' rel='stylesheet' >\n",
       "<style>\n",
       "\n",
       "@font-face {\n",
       "    font-family: \"Computer Modern\";\n",
       "    src: url('http://mirrors.ctan.org/fonts/cm-unicode/fonts/otf/cmunss.otf');\n",
       "}\n",
       "\n",
       "\n",
       "#notebook_panel { /* main background */\n",
       "    background: rgb(245,245,245);\n",
       "}\n",
       "\n",
       "div.cell { /* set cell width */\n",
       "    width: 800px;\n",
       "}\n",
       "\n",
       "div #notebook { /* centre the content */\n",
       "    background: #fff; /* white background for content */\n",
       "    width: 1000px;\n",
       "    margin: auto;\n",
       "    padding-left: 0em;\n",
       "}\n",
       "\n",
       "#notebook li { /* More space between bullet points */\n",
       "margin-top:0.5em;\n",
       "}\n",
       "\n",
       "/* draw border around running cells */\n",
       "div.cell.border-box-sizing.code_cell.running { \n",
       "    border: 1px solid #111;\n",
       "}\n",
       "\n",
       "/* Put a solid color box around each cell and its output, visually linking them*/\n",
       "div.cell.code_cell {\n",
       "    background-color: rgb(256,256,256); \n",
       "    border-radius: 0px; \n",
       "    padding: 0.5em;\n",
       "    margin-left:1em;\n",
       "    margin-top: 1em;\n",
       "}\n",
       "\n",
       "\n",
       "div.text_cell_render{\n",
       "    font-family: 'Source Sans Pro', sans-serif;\n",
       "    line-height: 140%;\n",
       "    font-size: 110%;\n",
       "    width:680px;\n",
       "    margin-left:auto;\n",
       "    margin-right:auto;\n",
       "}\n",
       "\n",
       "/* Formatting for header cells */\n",
       ".text_cell_render h1 {\n",
       "    font-family: 'Merriweather', serif;\n",
       "    font-style:regular;\n",
       "    font-weight: bold;    \n",
       "    font-size: 250%;\n",
       "    line-height: 100%;\n",
       "    color: #004065;\n",
       "    margin-bottom: 1em;\n",
       "    margin-top: 0.5em;\n",
       "    display: block;\n",
       "}\t\n",
       ".text_cell_render h2 {\n",
       "    font-family: 'Merriweather', serif;\n",
       "    font-weight: bold; \n",
       "    font-size: 180%;\n",
       "    line-height: 100%;\n",
       "    color: #0096d6;\n",
       "    margin-bottom: 0.5em;\n",
       "    margin-top: 0.5em;\n",
       "    display: block;\n",
       "}\t\n",
       "\n",
       ".text_cell_render h3 {\n",
       "    font-family: 'Merriweather', serif;\n",
       "\tfont-size: 150%;\n",
       "    margin-top:12px;\n",
       "    margin-bottom: 3px;\n",
       "    font-style: regular;\n",
       "    color: #008367;\n",
       "}\n",
       "\n",
       ".text_cell_render h4 {    /*Use this for captions*/\n",
       "    font-family: 'Merriweather', serif;\n",
       "    font-weight: 300; \n",
       "    font-size: 100%;\n",
       "    line-height: 120%;\n",
       "    text-align: left;\n",
       "    width:500px;\n",
       "    margin-top: 1em;\n",
       "    margin-bottom: 2em;\n",
       "    margin-left: 80pt;\n",
       "    font-style: regular;\n",
       "}\n",
       "\n",
       ".text_cell_render h5 {  /*Use this for small titles*/\n",
       "    font-family: 'Source Sans Pro', sans-serif;\n",
       "    font-weight: regular;\n",
       "    font-size: 130%;\n",
       "    color: #e31937;\n",
       "    font-style: italic;\n",
       "    margin-bottom: .5em;\n",
       "    margin-top: 1em;\n",
       "    display: block;\n",
       "}\n",
       "\n",
       ".text_cell_render h6 { /*use this for copyright note*/\n",
       "    font-family: 'Source Code Pro', sans-serif;\n",
       "    font-weight: 300;\n",
       "    font-size: 9pt;\n",
       "    line-height: 100%;\n",
       "    color: grey;\n",
       "    margin-bottom: 1px;\n",
       "    margin-top: 1px;\n",
       "}\n",
       "\n",
       "    .CodeMirror{\n",
       "            font-family: \"Source Code Pro\";\n",
       "\t\t\tfont-size: 90%;\n",
       "    }\n",
       "/*    .prompt{\n",
       "        display: None;\n",
       "    }*/\n",
       "\t\n",
       "    \n",
       "    .warning{\n",
       "        color: rgb( 240, 20, 20 )\n",
       "        }  \n",
       "</style>\n",
       "<script>\n",
       "    MathJax.Hub.Config({\n",
       "                        TeX: {\n",
       "                           extensions: [\"AMSmath.js\"], \n",
       "                           equationNumbers: { autoNumber: \"AMS\", useLabelIds: true}\n",
       "                           },\n",
       "                tex2jax: {\n",
       "                    inlineMath: [ ['$','$'], [\"\\\\(\",\"\\\\)\"] ],\n",
       "                    displayMath: [ ['$$','$$'], [\"\\\\[\",\"\\\\]\"] ]\n",
       "                },\n",
       "                displayAlign: 'center', // Change this to 'center' to center equations.\n",
       "                \"HTML-CSS\": {\n",
       "                    styles: {'.MathJax_Display': {\"margin\": 4}}\n",
       "                }\n",
       "        });\n",
       "</script>\n"
      ],
      "text/plain": [
       "<IPython.core.display.HTML object>"
      ]
     },
     "execution_count": 1,
     "metadata": {},
     "output_type": "execute_result"
    }
   ],
   "source": [
    "# Execute this cell to load the notebook's style sheet, then ignore it\n",
    "from IPython.core.display import HTML\n",
    "css_file = '../style/custom.css'\n",
    "HTML(open(css_file, \"r\").read())"
   ]
  },
  {
   "cell_type": "markdown",
   "metadata": {},
   "source": [
    "# Digitale Signalbearbeitung in der Geophysik \n",
    "\n",
    "## Kapitel 4 Vorbereitende Datenbearbeitung"
   ]
  },
  {
   "cell_type": "markdown",
   "metadata": {},
   "source": [
    "### 4.2 Auswirkung von Datenlücken auf das Signalspektrum\n",
    "\n",
    "Zunächst soll untersucht werden, wie sich das Spektrum eines Signals verändert, wenn fehlende Intervalle der Messung mit unterschiedlichen Methoden aufgefüllt werden.\n",
    "Eine einfache Möglichkeit, um fehlende Messwerte zu ersetzen, ist, dass entsprechende Intervall auf Null zu setzen. Dies entspricht einer Multiplikation der ursprünglichen, lückenlosen Funktion $f(t)$ mit einer boxcar-Funktion. Das Ergebnis ist die Funktion $\\tilde{f}(t)$, wobei $2T_e$ die Breite des fehlenden Intervalls  und $t_e$ die Mitte der Lücke ist:\n",
    "\n",
    "\\begin{equation}\n",
    "  \\tilde{f}(t) = f(t) \\, (1-boxcar{(t-t_e,T_e)}) \\, .\n",
    "\\end{equation}\n",
    "\n",
    "Für das Spektrum des Signals $\\tilde{F}(\\omega)$ folgt:\n",
    "\n",
    "\\begin{align}\n",
    "  \\tilde{F}(\\omega) &= F(\\omega) * (\\delta(\\omega) - 2 T_e sinc{(T_e \\omega)} e^{-i\\omega t_e})\\, ,\\notag \\\\\n",
    "  & = F(\\omega) - F(\\omega) *  2 T_e sinc{(T_e \\omega)} e^{-i\\omega t_e} \\, . \n",
    "\\end{align}\n",
    "\n",
    "Es zeigt sich, dass das Spektrum der Wertereihe mit Datenlücken aus dem tatsächlichen Spektrum der ungestörten Wertereihe und einem Störterm besteht. Der Störterm besteht aus dem ursprünglichen Spektrum gefaltet mit einer sinc-Funktion. Insbesondere werden somit Peaks des Spektrums in die Breite verschmiert und Nebenmaxima erzeugt. Mit kleiner werdender Breite ($T_e$) des fehlenden Intervalls nähert sich das Spektrum dem ungestörten Spektrum an.\n",
    "\n",
    "Dies wollen wir in dem folgenden Jupyter Notebook an einem einfachen Beispiel genauer untersuchen."
   ]
  },
  {
   "cell_type": "code",
   "execution_count": 2,
   "metadata": {},
   "outputs": [],
   "source": [
    "# Importiere Python Bibliotheken \n",
    "# ------------------------------\n",
    "%matplotlib inline\n",
    "from ipywidgets import interactive\n",
    "import matplotlib.pyplot as plt\n",
    "import numpy as np"
   ]
  },
  {
   "cell_type": "markdown",
   "metadata": {},
   "source": [
    "Neben den üblichen Python Bibliotheken `NumPy` und `Matplotlib` importieren wir diesmal auch `ipywidgets`, was uns erlaubt interaktive Notebookzellen zu erzeugen, so daß wir einfacher mit den Parametern herumspielen können. \n",
    "\n",
    "Basierend auf dem Python Code von Übungsaufgabe 3.4 hab ich eine kleine Funktion geschrieben, welche eine Datenlücke in eine 1000 s lange Zeitreihe mit einer Sinusfunktion einbaut. Eingabeparamter sind die Breite der Lücke $T_e$, sowie die zeitliche Mitte der Lücke $t_e$. "
   ]
  },
  {
   "cell_type": "code",
   "execution_count": 3,
   "metadata": {},
   "outputs": [],
   "source": [
    "def data_gaps(Te, te):\n",
    "    \n",
    "    # Define parameters\n",
    "    T = 25.                  # period 1 [s]\n",
    "    dt = .1                  # time sampling [s]\n",
    "    L = 1000.                # length of the time series [s]\n",
    "\n",
    "    # Define sine function ...\n",
    "    omega = 2. * np.pi / T   # compute circular frequency from period\n",
    "    t = np.arange(0,L+dt,dt) # compute time vector\n",
    "    x = np.sin(omega*t)  # compute sine wave\n",
    "    \n",
    "    # ... add local high frequency signal ...\n",
    "    #T1 = 15                    # period 2 [s]\n",
    "    #omega1 = 2. * np.pi / T1   # compute circular frequency from period 2\n",
    "    #x[1000:4000] = np.sin(omega*t[1000:4000]) + np.sin(omega1*t[1000:4000])\n",
    "    \n",
    "    # Add data gap \n",
    "    NTeh = (int)((Te/2) // dt) # half size of the gap [#samples]\n",
    "    Nte = (int)(te // dt)      # location of the gap [#samples]\n",
    "    \n",
    "    # Set values inside the gap to zero\n",
    "    x[Nte-NTeh:Nte+NTeh] = 0.\n",
    "    \n",
    "    # Fourier transform\n",
    "    X = np.fft.fft(x)\n",
    "    \n",
    "    # Normalize by length of the time series\n",
    "    N = len(x)               # length of the time series [#samples]\n",
    "    X = X / (N*dt)\n",
    "    \n",
    "    # estimate frequencies    \n",
    "    freq = np.fft.fftfreq(N, d=dt)\n",
    "    \n",
    "    # Initialize Plots\n",
    "    plt.figure(figsize=(10,5))\n",
    "    \n",
    "    # Plot time series\n",
    "    plt.subplot(121)\n",
    "    \n",
    "    plt.plot(t, x, 'b')\n",
    "    plt.plot(t[Nte],0,'ro')   # mark center of data gap\n",
    "    plt.xlabel('Time (s)')\n",
    "    plt.ylabel('Sin(t) (s)')\n",
    "    plt.title('Time Series Sin(t)')\n",
    "    \n",
    "    # Plot Spectrum\n",
    "    plt.subplot(122)\n",
    "    \n",
    "    plt.plot(freq, np.abs(X), 'b')\n",
    "    plt.xlabel('Freq (Hz)')\n",
    "    plt.ylabel('Amplitude |X(freq)|')\n",
    "    plt.title('Amplitude spectrum')\n",
    "    plt.xlim(0.01, 0.09)"
   ]
  },
  {
   "cell_type": "markdown",
   "metadata": {},
   "source": [
    "Mit der oben definierten Funktion `data_gaps` können wir im nächsten Schritt einen Plot erzeugen, bei dem wir interaktiv die Parameter $T_e$ und $t_e$ variieren können."
   ]
  },
  {
   "cell_type": "code",
   "execution_count": 4,
   "metadata": {},
   "outputs": [
    {
     "data": {
      "application/vnd.jupyter.widget-view+json": {
       "model_id": "6e88064dc32d4be6b656528ebf5c781c",
       "version_major": 2,
       "version_minor": 0
      },
      "text/plain": [
       "interactive(children=(FloatSlider(value=500.0, description='Te', max=1000.0, step=25.0), FloatSlider(value=500…"
      ]
     },
     "metadata": {},
     "output_type": "display_data"
    }
   ],
   "source": [
    "interactive_plot = interactive(data_gaps, Te=(0., 1000., 25.), te=(0., 1000., 100.))\n",
    "output = interactive_plot.children[-1]\n",
    "output.layout.height = '350px'\n",
    "interactive_plot"
   ]
  },
  {
   "cell_type": "markdown",
   "metadata": {},
   "source": [
    "Im nächsten Schritt versuchen wir die Datenlücke mit interpolierten Werten zu füllen, dazu laden wir die `SciPy` Funktion [interp1d](https://docs.scipy.org/doc/scipy-1.8.0/html-scipyorg/reference/generated/scipy.interpolate.interp1d.html#scipy.interpolate.interp1d) ..."
   ]
  },
  {
   "cell_type": "code",
   "execution_count": 5,
   "metadata": {},
   "outputs": [],
   "source": [
    "# Load interpolation function\n",
    "from scipy.interpolate import interp1d"
   ]
  },
  {
   "cell_type": "markdown",
   "metadata": {},
   "source": [
    "... entferne die Daten in der Lücke und interpoliere die fehlenden Werte ..."
   ]
  },
  {
   "cell_type": "code",
   "execution_count": 6,
   "metadata": {},
   "outputs": [],
   "source": [
    "def data_gaps_interp(Te, te):\n",
    "    \n",
    "    # Define parameters\n",
    "    T = 25.                  # period [s]\n",
    "    dt = .1                  # time sampling [s]\n",
    "    L = 1000.                # length of the time series [s]\n",
    "\n",
    "    # Define sine function ...\n",
    "    omega = 2. * np.pi / T   # compute circular frequency from period\n",
    "    t = np.arange(0,L+dt,dt) # compute time vector\n",
    "    x = np.sin(omega*t)      # compute sine wave\n",
    "    \n",
    "    # ... add local high frequency signal ...\n",
    "    #T1 = 15                    # period 2 [s]\n",
    "    #omega1 = 2. * np.pi / T1   # compute circular frequency from period 2\n",
    "    #x[1000:4000] = np.sin(omega*t[1000:4000]) + np.sin(omega1*t[1000:4000])\n",
    "    \n",
    "    # Add data gap \n",
    "    NTeh = (int)((Te/2) // dt) # half size of the gap [#samples]\n",
    "    Nte = (int)(te // dt)      # location of the gap [#samples]\n",
    "    \n",
    "    # Remove values inside the data gap\n",
    "    xg = np.delete(x, np.arange(Nte-NTeh,Nte+NTeh))\n",
    "    tg = np.delete(t, np.arange(Nte-NTeh,Nte+NTeh))    \n",
    "        \n",
    "    # Interpolate values in data gap\n",
    "    xint = interp1d(tg, xg, 'cubic')  # create interpolation function\n",
    "    x = xint(t)              # interpolate values for original time t\n",
    "    \n",
    "    # Fourier transform\n",
    "    X = np.fft.fft(x)\n",
    "    \n",
    "    # Normalize by length of the time series\n",
    "    N = len(x)               # length of the time series [#samples]\n",
    "    X = X / (N*dt)\n",
    "    \n",
    "    # estimate frequencies    \n",
    "    freq = np.fft.fftfreq(N, d=dt)\n",
    "    \n",
    "    # Initialize Plots\n",
    "    plt.figure(figsize=(10,5))\n",
    "    \n",
    "    # Plot time series\n",
    "    plt.subplot(121)\n",
    "    \n",
    "    plt.plot(t, x, 'b')\n",
    "    plt.plot(t[Nte],0,'ro')   # mark center of data gap\n",
    "    plt.xlabel('Time (s)')\n",
    "    plt.ylabel('Sin(t) (s)')\n",
    "    plt.title('Time Series Sin(t)')\n",
    "    \n",
    "    # Plot Spectrum\n",
    "    plt.subplot(122)\n",
    "    \n",
    "    plt.plot(freq, np.abs(X), 'b')\n",
    "    plt.xlabel('Freq (Hz)')\n",
    "    plt.ylabel('Amplitude |X(freq)|')\n",
    "    plt.title('Amplitude spectrum')\n",
    "    plt.xlim(0.01, 0.09)"
   ]
  },
  {
   "cell_type": "code",
   "execution_count": 7,
   "metadata": {},
   "outputs": [
    {
     "data": {
      "application/vnd.jupyter.widget-view+json": {
       "model_id": "6a63df3ec7024f0ab57f5f125bb084b4",
       "version_major": 2,
       "version_minor": 0
      },
      "text/plain": [
       "interactive(children=(FloatSlider(value=500.0, description='Te', max=1000.0, step=25.0), FloatSlider(value=500…"
      ]
     },
     "metadata": {},
     "output_type": "display_data"
    }
   ],
   "source": [
    "interactive_plot = interactive(data_gaps_interp, Te=(0., 1000., 25.), te=(0., 1000., 100.))\n",
    "output = interactive_plot.children[-1]\n",
    "output.layout.height = '350px'\n",
    "interactive_plot"
   ]
  },
  {
   "cell_type": "markdown",
   "metadata": {},
   "source": [
    "Das Ergebnis der Interpolation ist mehr oder weniger erfolgreich - eher weniger wenn die Datenlücke zu groß wird."
   ]
  },
  {
   "cell_type": "markdown",
   "metadata": {},
   "source": [
    "## Zusammenfassung:\n",
    "\n",
    "- Die Einführung von Datenlücken führt zu Nebenmaxima im Amplitudenspektrum\n",
    "- Durch Interpolation der Daten können wir die Datenlücke füllen, solange die Lücke nicht zu groß wird.\n",
    "- Das Beispiel zeigt allerdings auch, daß man die interpolierten Werte mit Vorsicht interpretieren sollte."
   ]
  }
 ],
 "metadata": {
  "anaconda-cloud": {},
  "kernelspec": {
   "display_name": "Python 3",
   "language": "python",
   "name": "python3"
  },
  "language_info": {
   "codemirror_mode": {
    "name": "ipython",
    "version": 3
   },
   "file_extension": ".py",
   "mimetype": "text/x-python",
   "name": "python",
   "nbconvert_exporter": "python",
   "pygments_lexer": "ipython3",
   "version": "3.6.8"
  }
 },
 "nbformat": 4,
 "nbformat_minor": 1
}
