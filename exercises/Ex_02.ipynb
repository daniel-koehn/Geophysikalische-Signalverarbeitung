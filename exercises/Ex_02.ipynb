{
 "cells": [
  {
   "cell_type": "markdown",
   "metadata": {},
   "source": [
    "###### Content under Creative Commons Attribution license CC-BY 4.0, code under BSD 3-Clause License © 2022  by D. Koehn, T. Meier and J. Stampa, notebook style sheet by L.A. Barba, N.C. Clementi"
   ]
  },
  {
   "cell_type": "code",
   "execution_count": 1,
   "metadata": {},
   "outputs": [
    {
     "data": {
      "text/html": [
       "<link href=\"https://fonts.googleapis.com/css?family=Merriweather:300,300i,400,400i,700,700i,900,900i\" rel='stylesheet' >\n",
       "<link href=\"https://fonts.googleapis.com/css?family=Source+Sans+Pro:300,300i,400,400i,700,700i\" rel='stylesheet' >\n",
       "<link href='http://fonts.googleapis.com/css?family=Source+Code+Pro:300,400' rel='stylesheet' >\n",
       "<style>\n",
       "\n",
       "@font-face {\n",
       "    font-family: \"Computer Modern\";\n",
       "    src: url('http://mirrors.ctan.org/fonts/cm-unicode/fonts/otf/cmunss.otf');\n",
       "}\n",
       "\n",
       "\n",
       "#notebook_panel { /* main background */\n",
       "    background: rgb(245,245,245);\n",
       "}\n",
       "\n",
       "div.cell { /* set cell width */\n",
       "    width: 800px;\n",
       "}\n",
       "\n",
       "div #notebook { /* centre the content */\n",
       "    background: #fff; /* white background for content */\n",
       "    width: 1000px;\n",
       "    margin: auto;\n",
       "    padding-left: 0em;\n",
       "}\n",
       "\n",
       "#notebook li { /* More space between bullet points */\n",
       "margin-top:0.5em;\n",
       "}\n",
       "\n",
       "/* draw border around running cells */\n",
       "div.cell.border-box-sizing.code_cell.running { \n",
       "    border: 1px solid #111;\n",
       "}\n",
       "\n",
       "/* Put a solid color box around each cell and its output, visually linking them*/\n",
       "div.cell.code_cell {\n",
       "    background-color: rgb(256,256,256); \n",
       "    border-radius: 0px; \n",
       "    padding: 0.5em;\n",
       "    margin-left:1em;\n",
       "    margin-top: 1em;\n",
       "}\n",
       "\n",
       "\n",
       "div.text_cell_render{\n",
       "    font-family: 'Source Sans Pro', sans-serif;\n",
       "    line-height: 140%;\n",
       "    font-size: 110%;\n",
       "    width:680px;\n",
       "    margin-left:auto;\n",
       "    margin-right:auto;\n",
       "}\n",
       "\n",
       "/* Formatting for header cells */\n",
       ".text_cell_render h1 {\n",
       "    font-family: 'Merriweather', serif;\n",
       "    font-style:regular;\n",
       "    font-weight: bold;    \n",
       "    font-size: 250%;\n",
       "    line-height: 100%;\n",
       "    color: #004065;\n",
       "    margin-bottom: 1em;\n",
       "    margin-top: 0.5em;\n",
       "    display: block;\n",
       "}\t\n",
       ".text_cell_render h2 {\n",
       "    font-family: 'Merriweather', serif;\n",
       "    font-weight: bold; \n",
       "    font-size: 180%;\n",
       "    line-height: 100%;\n",
       "    color: #0096d6;\n",
       "    margin-bottom: 0.5em;\n",
       "    margin-top: 0.5em;\n",
       "    display: block;\n",
       "}\t\n",
       "\n",
       ".text_cell_render h3 {\n",
       "    font-family: 'Merriweather', serif;\n",
       "\tfont-size: 150%;\n",
       "    margin-top:12px;\n",
       "    margin-bottom: 3px;\n",
       "    font-style: regular;\n",
       "    color: #008367;\n",
       "}\n",
       "\n",
       ".text_cell_render h4 {    /*Use this for captions*/\n",
       "    font-family: 'Merriweather', serif;\n",
       "    font-weight: 300; \n",
       "    font-size: 100%;\n",
       "    line-height: 120%;\n",
       "    text-align: left;\n",
       "    width:500px;\n",
       "    margin-top: 1em;\n",
       "    margin-bottom: 2em;\n",
       "    margin-left: 80pt;\n",
       "    font-style: regular;\n",
       "}\n",
       "\n",
       ".text_cell_render h5 {  /*Use this for small titles*/\n",
       "    font-family: 'Source Sans Pro', sans-serif;\n",
       "    font-weight: regular;\n",
       "    font-size: 130%;\n",
       "    color: #e31937;\n",
       "    font-style: italic;\n",
       "    margin-bottom: .5em;\n",
       "    margin-top: 1em;\n",
       "    display: block;\n",
       "}\n",
       "\n",
       ".text_cell_render h6 { /*use this for copyright note*/\n",
       "    font-family: 'Source Code Pro', sans-serif;\n",
       "    font-weight: 300;\n",
       "    font-size: 9pt;\n",
       "    line-height: 100%;\n",
       "    color: grey;\n",
       "    margin-bottom: 1px;\n",
       "    margin-top: 1px;\n",
       "}\n",
       "\n",
       "    .CodeMirror{\n",
       "            font-family: \"Source Code Pro\";\n",
       "\t\t\tfont-size: 90%;\n",
       "    }\n",
       "/*    .prompt{\n",
       "        display: None;\n",
       "    }*/\n",
       "\t\n",
       "    \n",
       "    .warning{\n",
       "        color: rgb( 240, 20, 20 )\n",
       "        }  \n",
       "</style>\n",
       "<script>\n",
       "    MathJax.Hub.Config({\n",
       "                        TeX: {\n",
       "                           extensions: [\"AMSmath.js\"], \n",
       "                           equationNumbers: { autoNumber: \"AMS\", useLabelIds: true}\n",
       "                           },\n",
       "                tex2jax: {\n",
       "                    inlineMath: [ ['$','$'], [\"\\\\(\",\"\\\\)\"] ],\n",
       "                    displayMath: [ ['$$','$$'], [\"\\\\[\",\"\\\\]\"] ]\n",
       "                },\n",
       "                displayAlign: 'center', // Change this to 'center' to center equations.\n",
       "                \"HTML-CSS\": {\n",
       "                    styles: {'.MathJax_Display': {\"margin\": 4}}\n",
       "                }\n",
       "        });\n",
       "</script>\n"
      ],
      "text/plain": [
       "<IPython.core.display.HTML object>"
      ]
     },
     "execution_count": 1,
     "metadata": {},
     "output_type": "execute_result"
    }
   ],
   "source": [
    "# Execute this cell to load the notebook's style sheet, then ignore it\n",
    "from IPython.core.display import HTML\n",
    "css_file = '../style/custom.css'\n",
    "HTML(open(css_file, \"r\").read())"
   ]
  },
  {
   "cell_type": "markdown",
   "metadata": {},
   "source": [
    "# Digitale Signalverarbeitung: Vorbereitende Datenbearbeitung\n",
    "\n",
    "## Kapitel 2 Übungen"
   ]
  },
  {
   "cell_type": "markdown",
   "metadata": {},
   "source": [
    "### Aufgabe 2.1 \n",
    "\n",
    "Weisen Sie einer Floating Point Variablen $𝑥$ einen Wert $10^{20}$ zu. Definieren Sie\n",
    "eine Variable $𝑦$ mit $𝑦 = 𝑥 + 1$. Berechnen Sie $𝑦 − 𝑥$ und interpretieren Sie das\n",
    "Ergebnis."
   ]
  },
  {
   "cell_type": "code",
   "execution_count": 2,
   "metadata": {},
   "outputs": [],
   "source": [
    "# Importiere Python Bibliotheken \n",
    "# ------------------------------\n",
    "%matplotlib inline\n",
    "from ipywidgets import interactive\n",
    "import matplotlib.pyplot as plt\n",
    "import numpy as np"
   ]
  },
  {
   "cell_type": "code",
   "execution_count": 116,
   "metadata": {},
   "outputs": [
    {
     "name": "stdout",
     "output_type": "stream",
     "text": [
      "y-x =  0.0\n"
     ]
    }
   ],
   "source": [
    "# Define x\n",
    "x = np.float64(1e20)\n",
    "\n",
    "# Compute y\n",
    "y = x + 1\n",
    "\n",
    "# Compute and print y-x\n",
    "print(\"y-x = \", y-x)"
   ]
  },
  {
   "cell_type": "markdown",
   "metadata": {},
   "source": [
    "### Aufgabe 2.2\n",
    "\n",
    "Definieren Sie einen Vektor mit normalverteilten Zufallszahlen mit dem Mittelwert\n",
    "0 und der Standardabweichung 1 und bestimmen Sie den Mittelwert und den\n",
    "Median und schätzen Sie die Standardabweichung, den Standardfehler, die Schiefe\n",
    "und die Kurtosis. Stellen Sie die Ergebnisse in Form einer Tabelle dar (Matlab:\n",
    "table) und interpretieren Sie die Ergebnisse. Die Länge des Vektors soll folgende\n",
    "Werte annehmen:\n",
    "\n",
    "a) 10,\n",
    "\n",
    "b) 100,\n",
    "\n",
    "c) 10000.\n",
    "\n",
    "\n",
    "### Aufgabe 2.3\n",
    "\n",
    "Definieren Sie einen Vektor 𝐱 der Länge 5000, der normalverteilte Zufallszahlen\n",
    "enthält. Stellen Sie den Vektor und ein Histogramm der auftretenden Werte graphisch\n",
    "dar. Lassen Sie das Programm mehrmals laufen."
   ]
  },
  {
   "cell_type": "code",
   "execution_count": null,
   "metadata": {},
   "outputs": [],
   "source": [
    "def stats(N, repeat):\n",
    "\n",
    "    # Define parameters\n",
    "    mu = 0.     # average\n",
    "    sigma = 1.  # standard derivation\n",
    "\n",
    "    # Compute normal distributed random numbers\n",
    "    x = np.random.normal(mu, sigma, N)\n",
    "\n",
    "    # Compute mean\n",
    "    x_mean = np.sum(x) / N\n",
    "   \n",
    "    # Compute median\n",
    "    x_median = np.median(x)\n",
    "    \n",
    "    # Compute standard deviation\n",
    "    alpha_2 = np.sum((x-x_mean)**2) / (N-1)\n",
    "    x_std = np.sqrt(alpha_2)\n",
    "    \n",
    "    # Compute standard error\n",
    "    x_error = x_std / np.sqrt(N)\n",
    "    \n",
    "    # Compute skewness    \n",
    "    alpha_3 = np.sum((x-x_mean)**3) / (N-1)\n",
    "    S = alpha_3 / alpha_2**(3./2.)\n",
    "    \n",
    "    # Compute kurtosis\n",
    "    alpha_4 = np.sum((x-x_mean)**4) / (N-1)\n",
    "    K = alpha_4 / alpha_2**(2.)\n",
    "    \n",
    "    # Compute optimum bin number using Freedman–Diaconis rule\n",
    "    q25, q75 = np.percentile(x, [25, 75])\n",
    "    bin_width = 2 * (q75 - q25) * len(x) ** (-1/3)\n",
    "    bins = round((x.max() - x.min()) / bin_width)\n",
    "    \n",
    "    # Plot histogram\n",
    "    plt.hist(x, bins=bins)\n",
    "    plt.ylabel('counts')\n",
    "    plt.xlabel('x bin')\n",
    "    plt.xlim(-4, 4)\n",
    "    \n",
    "    # Print mean, median, std, std error, skew, kurtosis \n",
    "    print(\"mean = \", x_mean)\n",
    "    print(\"median = \", x_median)\n",
    "    print(\"std = \", x_std)\n",
    "    print(\"std_error = \", x_error)\n",
    "    print(\"Skew = \", S)\n",
    "    print(\"Kurtosis = \", K)\n",
    "    \n",
    "    plt.show()"
   ]
  },
  {
   "cell_type": "code",
   "execution_count": null,
   "metadata": {},
   "outputs": [],
   "source": [
    "interactive_plot = interactive(stats, N=(10, 10000, 10), repeat=False)\n",
    "output = interactive_plot.children[-1]\n",
    "output.layout.height = '400px'\n",
    "interactive_plot"
   ]
  },
  {
   "cell_type": "markdown",
   "metadata": {},
   "source": [
    "### Aufgabe 2.4\n",
    "\n",
    "Modifizeren Sie die Zufallszahlen nach der Vorschrift $sgn(𝑥_i)|𝑥_𝑖|^\\gamma$ und stellen Sie den Vektor und ein Histogramm der auftretenden Werte graphisch dar. Schätzen Sie die Kurtosis. Interpretieren Sie die Ergebnisse. $\\gamma$ soll die folgenden Werte annehmen:\n",
    "\n",
    "a) 1.6,\n",
    "\n",
    "b) 0.4."
   ]
  },
  {
   "cell_type": "code",
   "execution_count": null,
   "metadata": {},
   "outputs": [],
   "source": [
    "def stats_mod(N, gamma, repeat):\n",
    "\n",
    "    # Define parameters\n",
    "    mu = 0.     # average\n",
    "    sigma = 1.  # standard derivation\n",
    "\n",
    "    # Compute normal distributed random numbers\n",
    "    x = np.random.normal(mu, sigma, N)\n",
    "    x = np.sign(x)*abs(x)**gamma\n",
    "    \n",
    "    # Compute mean\n",
    "    x_mean = np.sum(x) / N\n",
    "   \n",
    "    # Compute median\n",
    "    x_median = np.median(x)\n",
    "    \n",
    "    # Compute standard deviation\n",
    "    alpha_2 = np.sum((x-x_mean)**2) / (N-1)\n",
    "    x_std = np.sqrt(alpha_2)\n",
    "    \n",
    "    # Compute standard error\n",
    "    x_error = x_std / np.sqrt(N)\n",
    "    \n",
    "    # Compute skewness    \n",
    "    alpha_3 = np.sum((x-x_mean)**3) / (N-1)\n",
    "    S = alpha_3 / alpha_2**(3./2.)\n",
    "    \n",
    "    # Compute kurtosis\n",
    "    alpha_4 = np.sum((x-x_mean)**4) / (N-1)\n",
    "    K = alpha_4 / alpha_2**(2.)\n",
    "    \n",
    "    # Compute optimum bin number using Freedman–Diaconis rule\n",
    "    q25, q75 = np.percentile(x, [25, 75])\n",
    "    bin_width = 2 * (q75 - q25) * len(x) ** (-1/3)\n",
    "    bins = round((x.max() - x.min()) / bin_width)\n",
    "    \n",
    "    # Plot histogram\n",
    "    plt.hist(x, bins=bins)\n",
    "    plt.ylabel('counts')\n",
    "    plt.xlabel('x bin')\n",
    "    plt.xlim(-4, 4)\n",
    "    \n",
    "    # Print mean, median, std, std error, skew, kurtosis \n",
    "    print(\"mean = \", x_mean)\n",
    "    print(\"median = \", x_median)\n",
    "    print(\"std = \", x_std)\n",
    "    print(\"std_error = \", x_error)\n",
    "    print(\"Skew = \", S)\n",
    "    print(\"Kurtosis = \", K)\n",
    "    \n",
    "    plt.show()"
   ]
  },
  {
   "cell_type": "code",
   "execution_count": null,
   "metadata": {},
   "outputs": [],
   "source": [
    "interactive_plot = interactive(stats_mod, N=(10, 10000, 10), gamma=(0.,2.0,0.2), repeat=False)\n",
    "output = interactive_plot.children[-1]\n",
    "output.layout.height = '400px'\n",
    "interactive_plot"
   ]
  },
  {
   "cell_type": "markdown",
   "metadata": {},
   "source": [
    "### Aufgabe 2.5\n",
    "\n",
    "Definieren Sie eine Matrix, die normalverteilte Zufallszahlen enthalten soll. Die\n",
    "Dimension der Matrix soll (10×500) sein und 10 Realisierungen für einen diskreten\n",
    "Zufallsprozess mit 500 Samples enthalten. Stellen Sie das Ergebnis graphisch\n",
    "dar. Berechnen Sie die Zeit- und Ensemblemittelwerte und stellen Sie sie graphisch\n",
    "dar."
   ]
  },
  {
   "cell_type": "code",
   "execution_count": 83,
   "metadata": {},
   "outputs": [],
   "source": [
    "def time_ensemble_average(N, NT):\n",
    "\n",
    "    # Define parameters\n",
    "    mu = 0.     # average\n",
    "    sigma = 1.  # standard derivation\n",
    "\n",
    "    # Compute normal distributed random numbers in a N x NT matrix\n",
    "    x = np.random.normal(mu, sigma, [N,NT])\n",
    "    \n",
    "    # Compute time-mean\n",
    "    x_mean_time = np.sum(x,1) / N\n",
    "    \n",
    "    # Compute ensemble-mean\n",
    "    x_mean_ens = np.sum(x,0) / N\n",
    "    \n",
    "    # Plot random matrix\n",
    "    plt.figure(figsize=(9,5))\n",
    "    plt.pcolormesh(x)\n",
    "    plt.ylabel('Realization no.')\n",
    "    plt.xlabel('Time Sample')\n",
    "    plt.title('Random Matrix')\n",
    "    \n",
    "    # Plot time average\n",
    "    plt.figure(figsize=(9,2))\n",
    "    plt.plot(x_mean_time,'o-')\n",
    "    plt.ylabel('Amplitude')\n",
    "    plt.xlabel('Realization no.')\n",
    "    plt.title('Time Average')\n",
    "    \n",
    "    # Plot time average\n",
    "    plt.figure(figsize=(9,2))\n",
    "    plt.plot(x_mean_ens,'o-')\n",
    "    plt.ylabel('Amplitude')\n",
    "    plt.xlabel('Ensemble no.')\n",
    "    plt.title('Ensemble Average')\n",
    "    \n",
    "    plt.show()"
   ]
  },
  {
   "cell_type": "code",
   "execution_count": 84,
   "metadata": {},
   "outputs": [
    {
     "data": {
      "image/png": "[encoded data removed]",
      "text/plain": [
       "<Figure size 648x360 with 1 Axes>"
      ]
     },
     "metadata": {
      "needs_background": "light"
     },
     "output_type": "display_data"
    },
    {
     "data": {
      "image/png": "[encoded data removed]",
      "text/plain": [
       "<Figure size 648x144 with 1 Axes>"
      ]
     },
     "metadata": {
      "needs_background": "light"
     },
     "output_type": "display_data"
    },
    {
     "data": {
      "image/png": "[encoded data removed]",
      "text/plain": [
       "<Figure size 648x144 with 1 Axes>"
      ]
     },
     "metadata": {
      "needs_background": "light"
     },
     "output_type": "display_data"
    }
   ],
   "source": [
    "time_ensemble_average(10,500)"
   ]
  },
  {
   "cell_type": "markdown",
   "metadata": {},
   "source": [
    "### Aufgabe 2.6\n",
    "\n",
    "Definieren Sie zwei Vektoren 𝐱 und 𝐲, die normalverteilte Zufallszahlen enthalten\n",
    "und die Länge 1000 haben sollen. Stellen Sie das Ergebnis in Form eines zweidimensionalen\n",
    "(bivarianten) Histogramms dar."
   ]
  },
  {
   "cell_type": "code",
   "execution_count": 119,
   "metadata": {},
   "outputs": [],
   "source": [
    "def bivariant_hist(N):\n",
    "\n",
    "    # Define parameters\n",
    "    mu = 0.     # average\n",
    "    sigma = 1.  # standard derivation\n",
    "\n",
    "    # Compute normal distributed random numbers in vector x\n",
    "    x = np.random.normal(mu, sigma, N)\n",
    "    \n",
    "    # Compute normal distributed random numbers in vector y\n",
    "    y = np.random.normal(mu, sigma, N)\n",
    "    \n",
    "    # Compute optimum bin number using Freedman–Diaconis rule\n",
    "    q25, q75 = np.percentile(x, [25, 75])\n",
    "    bin_width = 2 * (q75 - q25) * len(x) ** (-1/3)\n",
    "    bins = round((x.max() - x.min()) / bin_width)\n",
    "    \n",
    "    # Plot bivariant histogram\n",
    "    plt.figure(figsize=(7,7))\n",
    "    plt.hist2d(x,y, bins=bins)\n",
    "    plt.ylabel('x bin')\n",
    "    plt.xlabel('y bin')\n",
    "    plt.title('Bivariant Histogram')\n",
    "    \n",
    "    plt.show()"
   ]
  },
  {
   "cell_type": "code",
   "execution_count": 120,
   "metadata": {},
   "outputs": [
    {
     "data": {
      "image/png": "[encoded data removed]",
      "text/plain": [
       "<Figure size 504x504 with 1 Axes>"
      ]
     },
     "metadata": {
      "needs_background": "light"
     },
     "output_type": "display_data"
    }
   ],
   "source": [
    "bivariant_hist(1000)"
   ]
  }
 ],
 "metadata": {
  "anaconda-cloud": {},
  "kernelspec": {
   "display_name": "Python 3 (ipykernel)",
   "language": "python",
   "name": "python3"
  },
  "language_info": {
   "codemirror_mode": {
    "name": "ipython",
    "version": 3
   },
   "file_extension": ".py",
   "mimetype": "text/x-python",
   "name": "python",
   "nbconvert_exporter": "python",
   "pygments_lexer": "ipython3",
   "version": "3.9.12"
  }
 },
 "nbformat": 4,
 "nbformat_minor": 1
}
