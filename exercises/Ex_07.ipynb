{
 "cells": [
  {
   "cell_type": "markdown",
   "metadata": {},
   "source": [
    "###### Content under Creative Commons Attribution license CC-BY 4.0, code under BSD 3-Clause License © 2022  by D. Koehn, T. Meier and J. Stampa, notebook style sheet by L.A. Barba, N.C. Clementi"
   ]
  },
  {
   "cell_type": "code",
   "execution_count": 1,
   "metadata": {},
   "outputs": [
    {
     "data": {
      "text/html": [
       "<link href=\"https://fonts.googleapis.com/css?family=Merriweather:300,300i,400,400i,700,700i,900,900i\" rel='stylesheet' >\n",
       "<link href=\"https://fonts.googleapis.com/css?family=Source+Sans+Pro:300,300i,400,400i,700,700i\" rel='stylesheet' >\n",
       "<link href='http://fonts.googleapis.com/css?family=Source+Code+Pro:300,400' rel='stylesheet' >\n",
       "<style>\n",
       "\n",
       "@font-face {\n",
       "    font-family: \"Computer Modern\";\n",
       "    src: url('http://mirrors.ctan.org/fonts/cm-unicode/fonts/otf/cmunss.otf');\n",
       "}\n",
       "\n",
       "\n",
       "#notebook_panel { /* main background */\n",
       "    background: rgb(245,245,245);\n",
       "}\n",
       "\n",
       "div.cell { /* set cell width */\n",
       "    width: 800px;\n",
       "}\n",
       "\n",
       "div #notebook { /* centre the content */\n",
       "    background: #fff; /* white background for content */\n",
       "    width: 1000px;\n",
       "    margin: auto;\n",
       "    padding-left: 0em;\n",
       "}\n",
       "\n",
       "#notebook li { /* More space between bullet points */\n",
       "margin-top:0.5em;\n",
       "}\n",
       "\n",
       "/* draw border around running cells */\n",
       "div.cell.border-box-sizing.code_cell.running { \n",
       "    border: 1px solid #111;\n",
       "}\n",
       "\n",
       "/* Put a solid color box around each cell and its output, visually linking them*/\n",
       "div.cell.code_cell {\n",
       "    background-color: rgb(256,256,256); \n",
       "    border-radius: 0px; \n",
       "    padding: 0.5em;\n",
       "    margin-left:1em;\n",
       "    margin-top: 1em;\n",
       "}\n",
       "\n",
       "\n",
       "div.text_cell_render{\n",
       "    font-family: 'Source Sans Pro', sans-serif;\n",
       "    line-height: 140%;\n",
       "    font-size: 110%;\n",
       "    width:680px;\n",
       "    margin-left:auto;\n",
       "    margin-right:auto;\n",
       "}\n",
       "\n",
       "/* Formatting for header cells */\n",
       ".text_cell_render h1 {\n",
       "    font-family: 'Merriweather', serif;\n",
       "    font-style:regular;\n",
       "    font-weight: bold;    \n",
       "    font-size: 250%;\n",
       "    line-height: 100%;\n",
       "    color: #004065;\n",
       "    margin-bottom: 1em;\n",
       "    margin-top: 0.5em;\n",
       "    display: block;\n",
       "}\t\n",
       ".text_cell_render h2 {\n",
       "    font-family: 'Merriweather', serif;\n",
       "    font-weight: bold; \n",
       "    font-size: 180%;\n",
       "    line-height: 100%;\n",
       "    color: #0096d6;\n",
       "    margin-bottom: 0.5em;\n",
       "    margin-top: 0.5em;\n",
       "    display: block;\n",
       "}\t\n",
       "\n",
       ".text_cell_render h3 {\n",
       "    font-family: 'Merriweather', serif;\n",
       "\tfont-size: 150%;\n",
       "    margin-top:12px;\n",
       "    margin-bottom: 3px;\n",
       "    font-style: regular;\n",
       "    color: #008367;\n",
       "}\n",
       "\n",
       ".text_cell_render h4 {    /*Use this for captions*/\n",
       "    font-family: 'Merriweather', serif;\n",
       "    font-weight: 300; \n",
       "    font-size: 100%;\n",
       "    line-height: 120%;\n",
       "    text-align: left;\n",
       "    width:500px;\n",
       "    margin-top: 1em;\n",
       "    margin-bottom: 2em;\n",
       "    margin-left: 80pt;\n",
       "    font-style: regular;\n",
       "}\n",
       "\n",
       ".text_cell_render h5 {  /*Use this for small titles*/\n",
       "    font-family: 'Source Sans Pro', sans-serif;\n",
       "    font-weight: regular;\n",
       "    font-size: 130%;\n",
       "    color: #e31937;\n",
       "    font-style: italic;\n",
       "    margin-bottom: .5em;\n",
       "    margin-top: 1em;\n",
       "    display: block;\n",
       "}\n",
       "\n",
       ".text_cell_render h6 { /*use this for copyright note*/\n",
       "    font-family: 'Source Code Pro', sans-serif;\n",
       "    font-weight: 300;\n",
       "    font-size: 9pt;\n",
       "    line-height: 100%;\n",
       "    color: grey;\n",
       "    margin-bottom: 1px;\n",
       "    margin-top: 1px;\n",
       "}\n",
       "\n",
       "    .CodeMirror{\n",
       "            font-family: \"Source Code Pro\";\n",
       "\t\t\tfont-size: 90%;\n",
       "    }\n",
       "/*    .prompt{\n",
       "        display: None;\n",
       "    }*/\n",
       "\t\n",
       "    \n",
       "    .warning{\n",
       "        color: rgb( 240, 20, 20 )\n",
       "        }  \n",
       "</style>\n",
       "<script>\n",
       "    MathJax.Hub.Config({\n",
       "                        TeX: {\n",
       "                           extensions: [\"AMSmath.js\"], \n",
       "                           equationNumbers: { autoNumber: \"AMS\", useLabelIds: true}\n",
       "                           },\n",
       "                tex2jax: {\n",
       "                    inlineMath: [ ['$','$'], [\"\\\\(\",\"\\\\)\"] ],\n",
       "                    displayMath: [ ['$$','$$'], [\"\\\\[\",\"\\\\]\"] ]\n",
       "                },\n",
       "                displayAlign: 'center', // Change this to 'center' to center equations.\n",
       "                \"HTML-CSS\": {\n",
       "                    styles: {'.MathJax_Display': {\"margin\": 4}}\n",
       "                }\n",
       "        });\n",
       "</script>\n"
      ],
      "text/plain": [
       "<IPython.core.display.HTML object>"
      ]
     },
     "execution_count": 1,
     "metadata": {},
     "output_type": "execute_result"
    }
   ],
   "source": [
    "# Execute this cell to load the notebook's style sheet, then ignore it\n",
    "from IPython.core.display import HTML\n",
    "css_file = '../style/custom.css'\n",
    "HTML(open(css_file, \"r\").read())"
   ]
  },
  {
   "cell_type": "markdown",
   "metadata": {},
   "source": [
    "# Digitale Signalverarbeitung: Faltung und Filterung\n",
    "\n",
    "## Kapitel 7 Übungen"
   ]
  },
  {
   "cell_type": "markdown",
   "metadata": {},
   "source": [
    "### Aufgabe 7.1\n",
    "\n",
    "Zeigen Sie, dass $(\\delta \\ast f)(\\tau) = f(\\tau)$ ist. Interpretieren Sie das Ergebnis."
   ]
  },
  {
   "cell_type": "markdown",
   "metadata": {},
   "source": [
    "Laut Vorlesung ist die Faltung zweier kontinuierlicher Funktionen definiert als \n",
    "\n",
    "\\begin{equation}\n",
    "(\\delta \\ast f)(\\tau)=\\int_{-\\infty}^{\\infty}\\delta(t')f(\\tau-t')dt'\\notag\n",
    "\\end{equation}\n",
    "\n",
    "Die [Siebeigenschaft der Dirac'schen Deltafunktion](https://de.wikipedia.org/wiki/Delta-Distribution#Eigenschaften) führt dazu, daß das Integral den Funktionswert $f(\\tau-t')$ an der Stelle $t'=0$ ergibt. Damit folgt\n",
    "\n",
    "\\begin{equation}\n",
    "(\\delta \\ast f)(\\tau)=\\int_{-\\infty}^{\\infty}\\delta(t')f(\\tau-t')dt'=f(\\tau)\\notag\n",
    "\\end{equation}\n",
    "\n",
    "was zu zeigen war."
   ]
  },
  {
   "cell_type": "markdown",
   "metadata": {},
   "source": [
    "### Aufgabe 7.2\n",
    "\n",
    "Zeigen Sie, dass eine gleitende Mittelung einer Faltung mit einer Boxcar-Funktion entspricht."
   ]
  },
  {
   "cell_type": "markdown",
   "metadata": {},
   "source": [
    "Wurde bereits in [Aufgabe 4.5](https://nbviewer.org/github/daniel-koehn/Geophysikalische-Signalverarbeitung/blob/master/exercises/Ex_04.ipynb) gezeigt."
   ]
  },
  {
   "cell_type": "markdown",
   "metadata": {},
   "source": [
    "### Aufgabe 7.3\n",
    "\n",
    "Definieren Sie eine 200 s lange Wertereihe, die bei 100 s den Wert 1 annimmt und ansonsten Null ist. Der Abtastschritt soll 0.1 s betragen. Filtern Sie die Wertereihe mit einem einseitigen Butterworth-Filter (Ordnung 3), der die folgenden Eigenschaften besitzt:\n",
    "- Tiefpass, Grenzfrequenz 0.02 Hz. \n",
    "- Hochpass, Grenzfrequenz 0.02 Hz.\n",
    "\n",
    "Berechnen Sie das Amplitudenspektrum der gefilterten Wertereihen. Stellen Sie die Ergebnisse graphisch dar und interpretieren Sie die Ergebnisse."
   ]
  },
  {
   "cell_type": "markdown",
   "metadata": {},
   "source": [
    "### Aufgabe 7.4\n",
    "\n",
    "Berechnen Sie einen Butterworth-Bandpass mit den Grenzfrequenzen  0.02 Hz und 0.1 Hz. Filtern Sie die Wertereihe der vorangegangenen Aufgabe von beiden Seiten. Interpretieren Sie die Ergebnisse."
   ]
  },
  {
   "cell_type": "markdown",
   "metadata": {},
   "source": [
    "Wir lösen Aufgabe 7.3 und 7.4 mit einem Pythoncode. Wie immer importieren wir als erstes die üblichen Pyhton Bibliotheken. Aus der `SciPy` Bibliothek benötigen wir einige Codes zur Definition und Anwendung von Butterworth Filtern ..."
   ]
  },
  {
   "cell_type": "code",
   "execution_count": 2,
   "metadata": {},
   "outputs": [],
   "source": [
    "# Importiere Python Bibliotheken \n",
    "# ------------------------------\n",
    "%matplotlib inline\n",
    "from ipywidgets import interactive\n",
    "import matplotlib.pyplot as plt\n",
    "import numpy as np\n",
    "from scipy import signal"
   ]
  },
  {
   "cell_type": "markdown",
   "metadata": {},
   "source": [
    "Ich will das Problem möglichst modular programmieren, so daß man den Code bei Bedarf auch in anderen Codes verwenden kann. In der Funktion `butt_filt` wird der Butterworth-Filter definiert und auf die Zeitreihe $x(t)$ angewendet. \n",
    "\n",
    "Die Parameter **ffiltmin** und **fflitmax** legen die untere und obere Grenzfrequenz für einen Bandpass-Filter fest. Im Fall eines Tiefpass oder Hochpassfilters wird ffiltmin als Grenzfrequenz verwendet. Mit dem Parameter **order** läßt sich die Ordnung des Butterworthfilters definieren.\n",
    "\n",
    "Mit der `SciPy` Funktion [signal.butter](https://docs.scipy.org/doc/scipy/reference/generated/scipy.signal.butter.html) wird der Butterworthfilter definiert und mit [signal.sosfilt](https://docs.scipy.org/doc/scipy/reference/generated/scipy.signal.sosfilt.html) einseitig auf die Zeitreihe angewendet. Soll der Filter zweitseitig angewendet werden, verwendet man einfach die Funktion [signal.sosfiltfilt](https://docs.scipy.org/doc/scipy/reference/generated/scipy.signal.sosfiltfilt.html). Die Schalter **low**, **high** und **band** aktivieren entweder einen Tiefpass-, Hochpass- oder Bandpass Butterworth Filter. Mit der Option **two_sided** läßt sich die zweiseitige Filterung aktivieren, per Default wird eine einseitige Filterung angewendet.  "
   ]
  },
  {
   "cell_type": "code",
   "execution_count": 3,
   "metadata": {},
   "outputs": [],
   "source": [
    "def butt_filt(x,dt,ffiltmin,ffiltmax,order,low,high,band,two_sided):\n",
    "    \n",
    "    fs = 1./dt # sample frequency\n",
    "    \n",
    "    # design low-pass filter\n",
    "    # ----------------------\n",
    "    if(low==True):\n",
    "        \n",
    "        sos = signal.butter(order, ffiltmin, 'lp', fs=fs, output='sos')\n",
    "            \n",
    "    # design high-pass filter\n",
    "    # -----------------------\n",
    "    if(high==True):\n",
    "        \n",
    "        sos = signal.butter(order, ffiltmin, 'hp', fs=fs, output='sos')\n",
    "    \n",
    "    # design band-pass filter\n",
    "    # -----------------------\n",
    "    if(band==True):\n",
    "        \n",
    "        sos = signal.butter(order, [ffiltmin,ffiltmax], 'bp', fs=fs, output='sos')    \n",
    "    \n",
    "    # apply filter to time series x(t) either one-sided or two-sided    \n",
    "    # --------------------------------------------------------------\n",
    "    if(two_sided==False):\n",
    "        \n",
    "        x = signal.sosfilt(sos, x)     # apply one-sided filter\n",
    "        \n",
    "    else:\n",
    "        \n",
    "        x = signal.sosfiltfilt(sos, x) # apply two-sided filter        \n",
    "    \n",
    "    return x"
   ]
  },
  {
   "cell_type": "markdown",
   "metadata": {},
   "source": [
    "Um die Zeitreihe möglichst flexibel definieren zu können, programmieren wir dafür ebenfalls eine Funktion `time_series`. Als erstes implementieren wir die Zeitreihe gemäß Aufgabe 7.3 ... "
   ]
  },
  {
   "cell_type": "code",
   "execution_count": 4,
   "metadata": {},
   "outputs": [],
   "source": [
    "def time_series():\n",
    "    \n",
    "    # Define parameters\n",
    "    dt = .1                # time sampling [s]\n",
    "    L = 200.               # length of the time series [s]\n",
    "    tspike = 100.          # position of spike in time series [s]\n",
    "    \n",
    "    # Define time series ...\n",
    "    t = np.arange(0,L+dt,dt) # compute time vector\n",
    "    nt = len(t)              # number of samples in time series\n",
    "    x = np.zeros(nt)         # intialize time series with zeros\n",
    "    \n",
    "    # Compute time sample of spike\n",
    "    ntspike = (int)(tspike // dt)\n",
    "    \n",
    "    # Add spike to time series\n",
    "    x[ntspike] = 1.\n",
    "    \n",
    "    return t, x"
   ]
  },
  {
   "cell_type": "markdown",
   "metadata": {},
   "source": [
    "Für die Berechnung der Amplitudenspektren verwenden wir die Funktion `x_fft` zur Berechnung der FFT und Frequenzen. Diese können wir einfach aus dem Notebook zu [Übung 3](https://nbviewer.org/github/daniel-koehn/Geophysikalische-Signalverarbeitung/blob/master/exercises/Ex03_FFT.ipynb) übernehmen ..."
   ]
  },
  {
   "cell_type": "code",
   "execution_count": 5,
   "metadata": {},
   "outputs": [],
   "source": [
    "def x_fft(x,dt):\n",
    "    \n",
    "    # Fourier transform\n",
    "    X = np.fft.fft(x)\n",
    "    \n",
    "    # Normalize by length of the time series\n",
    "    N = len(x)\n",
    "    X = X / (N*dt)\n",
    "    \n",
    "    # estimate frequencies    \n",
    "    freq = np.fft.fftfreq(N, d=dt)\n",
    "    \n",
    "    return freq,X"
   ]
  },
  {
   "cell_type": "markdown",
   "metadata": {},
   "source": [
    "Schließlich programmieren wir die Funktion `butterworth` in der die Zeitreihe definiert, die Filter designt, auf die Zeitreihe $x(t)$ angewendet, Amplitudenspektren berechnet und  visualisiert werden ..."
   ]
  },
  {
   "cell_type": "code",
   "execution_count": 6,
   "metadata": {},
   "outputs": [],
   "source": [
    "def butterworth(low,high,band,two_sided,order):\n",
    "    \n",
    "    # Define filter parameters\n",
    "    ffiltmin = 0.02        # minimum cut-off frequency for Butterworth filter [Hz]\n",
    "    ffiltmax = 0.1         # maximum cut-off frequency for Butterworth filter [Hz]\n",
    "    \n",
    "    # Define time series\n",
    "    # ------------------\n",
    "    t, x = time_series()\n",
    "    nt = len(t)     # number of samples in time series\n",
    "    dt = t[1]-t[0]  # sample interval [s]\n",
    "    \n",
    "\n",
    "    # Compute frequencies and spectrum of time series x(t)\n",
    "    freq, X = x_fft(x,dt)\n",
    "    \n",
    "    # Define and apply Butterworth ...\n",
    "    # --------------------------------\n",
    "    if(low==True): # ... low-pass filter\n",
    "        \n",
    "        x_low = butt_filt(x,dt,ffiltmin,ffiltmax,order,True,False,False,two_sided)\n",
    "                \n",
    "        # fft of low-pass filtered time series\n",
    "        freq, X_low = x_fft(x_low,dt)\n",
    "        \n",
    "    if(high==True): # ... high-pass filter\n",
    "\n",
    "        x_high = butt_filt(x,dt,ffiltmin,ffiltmax,order,False,True,False,two_sided)\n",
    "        \n",
    "        # fft of high-pass filtered time series\n",
    "        freq, X_high = x_fft(x_high,dt)\n",
    "        \n",
    "    if(band==True): # ... band-pass filter\n",
    "        \n",
    "        x_band = butt_filt(x,dt,ffiltmin,ffiltmax,order,False,False,True,two_sided)        \n",
    "        \n",
    "        # fft of band-pass filtered time series\n",
    "        freq, X_band = x_fft(x_band,dt)    \n",
    "    \n",
    "    # Plot time series x(t)\n",
    "    # ---------------------\n",
    "    plt.figure(figsize=(20,10))\n",
    "    \n",
    "    plt.subplot(211)\n",
    "    \n",
    "    if(low==False and high==False and band==False):\n",
    "        plt.plot(t, x, 'b-',lw=3,label='x(t)')\n",
    "        \n",
    "    if(low==True):\n",
    "        plt.plot(t, x_low, 'r-',lw=3,label='low-pass x(t)')        \n",
    "        \n",
    "    if(high==True):\n",
    "        plt.plot(t, x_high, 'g-',lw=3,label='high-pass x(t)')\n",
    "        \n",
    "    if(band==True):\n",
    "        plt.plot(t, x_band, 'y-',lw=3,label='band-pass x(t)')    \n",
    "        \n",
    "    plt.title('x(t)')\n",
    "    plt.xlabel('time [s]')\n",
    "    plt.ylabel('(Filtered) time series x(t)')\n",
    "    plt.legend()\n",
    "    plt.grid()\n",
    "    \n",
    "    plt.subplot(212)\n",
    "    \n",
    "    # plot KKF\n",
    "    plt.plot(freq[:nt//2], np.abs(X[:nt//2]), 'b-',lw=3,label='X(f)')\n",
    "    if(low==True):\n",
    "        plt.plot(freq[:nt//2], np.abs(X_low[:nt//2]), 'r-',lw=3,label='low-pass X(f)')\n",
    "        \n",
    "    if(high==True):\n",
    "        plt.plot(freq[:nt//2], np.abs(X_high[:nt//2]), 'g-',lw=3,label='high-pass X(f)')\n",
    "        \n",
    "    if(band==True):\n",
    "        plt.plot(freq[:nt//2], np.abs(X_band[:nt//2]), 'y-',lw=3,label='band-pass X(f)')\n",
    "        \n",
    "    plt.title('Amplitude spectra of (filtered) time series')\n",
    "    plt.xlabel(r'frequency f [Hz]')\n",
    "    plt.ylabel('Amplitude')\n",
    "    plt.legend()\n",
    "    plt.xlim(0,.2)\n",
    "    plt.grid()"
   ]
  },
  {
   "cell_type": "markdown",
   "metadata": {},
   "source": [
    "Um den Einfluß verschiedener Filter auf die Zeitreihe einfacher vergleichen zu können, verwenden wir interaktive Jupyter Widgets. Neben Schaltern für die Tief-, Hoch- und Bandpass Butterworth Filter kann auch eine zweiseitige Filterung aktiviert werden. Die Ordnung des Filters läßt sich interaktiv zwischen 1 und 10 variieren."
   ]
  },
  {
   "cell_type": "code",
   "execution_count": 7,
   "metadata": {},
   "outputs": [
    {
     "data": {
      "application/vnd.jupyter.widget-view+json": {
       "model_id": "55f75f8c721e4f1f8d91422f61f9475b",
       "version_major": 2,
       "version_minor": 0
      },
      "text/plain": [
       "interactive(children=(Checkbox(value=False, description='low'), Checkbox(value=False, description='high'), Che…"
      ]
     },
     "metadata": {},
     "output_type": "display_data"
    }
   ],
   "source": [
    "interactive_plot = interactive(butterworth, low=False, high=False, band=False, two_sided=False, order=(1,10,1))\n",
    "output = interactive_plot.children[-1]\n",
    "output.layout.height = '350px'\n",
    "interactive_plot"
   ]
  },
  {
   "cell_type": "markdown",
   "metadata": {},
   "source": [
    "Der Code zeigt ...\n",
    "\n",
    "- Die Anwendung der Filter führt zu der erwarteten Filterwirkung des weißen Spektrums einer Zeitreihe mit dem Dirac'schen Delta-Impuls, welche durch die Grenzfrequenzen vorgegeben werden. \n",
    "\n",
    "- Durch Variation der Ordnung des Filters läßt sich die Flankensteilheit des Filters einstellen. Mit größerer Flankensteilheit im Frequenzbereich treten deutlichere Side-Lobes im Zeitbereich auf. Entsprechend sollte man die Ordnung des Filters so wählen, daß ein guter Kompromiss zwischen Filterwirkung und Side-Lobes gefunden wird.\n",
    "\n",
    "- Der einseitige Filter führt zu einer Minimum-Phasenfilterung, der zweiseitige Filter dagegen zu einer Zero-Phasefilterung des Delta-Impulses. Je nachdem wie die Daten weiterverarbeitet, analysiert und interpretiert werden sollen, kann die Wahl eines einseitigen oder zweiseitigen Filters entscheidend sein."
   ]
  },
  {
   "cell_type": "markdown",
   "metadata": {},
   "source": [
    "### Aufgabe 7.5\n",
    "\n",
    "Verändern Sie die Wertereihe so, dass alle Werte 1 sind. Wiederholen Sie die einseitige und zweiseitige Filterung. Interpretieren Sie die Ergebnisse."
   ]
  },
  {
   "cell_type": "markdown",
   "metadata": {},
   "source": [
    "Da der Code modular programmiert wurde, müssen wir nur die Zeitreihe in der Funktion `time_series` gemäß Aufgabenstellung 7.5 ändern ... "
   ]
  },
  {
   "cell_type": "code",
   "execution_count": 8,
   "metadata": {},
   "outputs": [],
   "source": [
    "def time_series():\n",
    "    \n",
    "    # Define parameters\n",
    "    dt = .1                # time sampling [s]\n",
    "    L = 200.               # length of the time series [s]\n",
    "    tspike = 100.          # position of spike in time series [s]\n",
    "    \n",
    "    # Define time series ...\n",
    "    t = np.arange(0,L+dt,dt) # compute time vector\n",
    "    nt = len(t)              # number of samples in time series\n",
    "    x = np.ones(nt)         # intialize time series with ones\n",
    "    \n",
    "    return t, x"
   ]
  },
  {
   "cell_type": "markdown",
   "metadata": {},
   "source": [
    "... und das interaktive IPython Widget neu starten ..."
   ]
  },
  {
   "cell_type": "code",
   "execution_count": 9,
   "metadata": {},
   "outputs": [
    {
     "data": {
      "application/vnd.jupyter.widget-view+json": {
       "model_id": "1a86d44baaee4f7ca60cbf4485676ab6",
       "version_major": 2,
       "version_minor": 0
      },
      "text/plain": [
       "interactive(children=(Checkbox(value=False, description='low'), Checkbox(value=False, description='high'), Che…"
      ]
     },
     "metadata": {},
     "output_type": "display_data"
    }
   ],
   "source": [
    "interactive_plot = interactive(butterworth, low=False, high=False, band=False, two_sided=False, order=(1,10,1))\n",
    "output = interactive_plot.children[-1]\n",
    "output.layout.height = '350px'\n",
    "interactive_plot"
   ]
  },
  {
   "cell_type": "markdown",
   "metadata": {},
   "source": [
    "Wenn die Zeitreihe einen konstanten Wert (Bias) besitzt, ergibt sich ein Dirac'scher Deltaimpuls bei einer Frequenz von 0 Hz im Amplitudenspektrum. Entsprechend sollte ...\n",
    "\n",
    "- ... der Tiefpassfilter die Zeitreihe nicht verändern. Das funktioniert bei dem zweiseitigen Filter sehr gut. Bei der Variation der Ordnung des Butterworthfilters treten nur teilweise etwas seltsame Achsenskalierungen auf, die versuchen kleine Abweichungen in der gefilterten Zeitreihe wiederzuspiegeln. Der einseitige Filter hat aufgrund der Minimalphasigkeit allerdings das Problem, daß die gefilterte Zeitreihe am Anfang einen Wert von Null annimmt und erst mit zunehmender Zeit den Wert 1.\n",
    "\n",
    "- ... der Hochpass- und Bandpassfilter bei den vorgegebenen Grenzfrequenzen den Bias entfernen. Wie beim Tiefpassfilter liefert der zweiseitige Filter das gewünschte Ergebnis. Der einseitige Filter liefert hingegen stark von Null abweichende Werte zu Beginn der Zeitreihe."
   ]
  }
 ],
 "metadata": {
  "anaconda-cloud": {},
  "kernelspec": {
   "display_name": "Python 3",
   "language": "python",
   "name": "python3"
  },
  "language_info": {
   "codemirror_mode": {
    "name": "ipython",
    "version": 3
   },
   "file_extension": ".py",
   "mimetype": "text/x-python",
   "name": "python",
   "nbconvert_exporter": "python",
   "pygments_lexer": "ipython3",
   "version": "3.6.8"
  }
 },
 "nbformat": 4,
 "nbformat_minor": 1
}
