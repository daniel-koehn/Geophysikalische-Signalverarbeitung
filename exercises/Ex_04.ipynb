{
 "cells": [
  {
   "cell_type": "markdown",
   "metadata": {},
   "source": [
    "###### Content under Creative Commons Attribution license CC-BY 4.0, code under BSD 3-Clause License © 2022  by D. Koehn, T. Meier and J. Stampa, notebook style sheet by L.A. Barba, N.C. Clementi"
   ]
  },
  {
   "cell_type": "code",
   "execution_count": 1,
   "metadata": {},
   "outputs": [
    {
     "data": {
      "text/html": [
       "<link href=\"https://fonts.googleapis.com/css?family=Merriweather:300,300i,400,400i,700,700i,900,900i\" rel='stylesheet' >\n",
       "<link href=\"https://fonts.googleapis.com/css?family=Source+Sans+Pro:300,300i,400,400i,700,700i\" rel='stylesheet' >\n",
       "<link href='http://fonts.googleapis.com/css?family=Source+Code+Pro:300,400' rel='stylesheet' >\n",
       "<style>\n",
       "\n",
       "@font-face {\n",
       "    font-family: \"Computer Modern\";\n",
       "    src: url('http://mirrors.ctan.org/fonts/cm-unicode/fonts/otf/cmunss.otf');\n",
       "}\n",
       "\n",
       "\n",
       "#notebook_panel { /* main background */\n",
       "    background: rgb(245,245,245);\n",
       "}\n",
       "\n",
       "div.cell { /* set cell width */\n",
       "    width: 800px;\n",
       "}\n",
       "\n",
       "div #notebook { /* centre the content */\n",
       "    background: #fff; /* white background for content */\n",
       "    width: 1000px;\n",
       "    margin: auto;\n",
       "    padding-left: 0em;\n",
       "}\n",
       "\n",
       "#notebook li { /* More space between bullet points */\n",
       "margin-top:0.5em;\n",
       "}\n",
       "\n",
       "/* draw border around running cells */\n",
       "div.cell.border-box-sizing.code_cell.running { \n",
       "    border: 1px solid #111;\n",
       "}\n",
       "\n",
       "/* Put a solid color box around each cell and its output, visually linking them*/\n",
       "div.cell.code_cell {\n",
       "    background-color: rgb(256,256,256); \n",
       "    border-radius: 0px; \n",
       "    padding: 0.5em;\n",
       "    margin-left:1em;\n",
       "    margin-top: 1em;\n",
       "}\n",
       "\n",
       "\n",
       "div.text_cell_render{\n",
       "    font-family: 'Source Sans Pro', sans-serif;\n",
       "    line-height: 140%;\n",
       "    font-size: 110%;\n",
       "    width:680px;\n",
       "    margin-left:auto;\n",
       "    margin-right:auto;\n",
       "}\n",
       "\n",
       "/* Formatting for header cells */\n",
       ".text_cell_render h1 {\n",
       "    font-family: 'Merriweather', serif;\n",
       "    font-style:regular;\n",
       "    font-weight: bold;    \n",
       "    font-size: 250%;\n",
       "    line-height: 100%;\n",
       "    color: #004065;\n",
       "    margin-bottom: 1em;\n",
       "    margin-top: 0.5em;\n",
       "    display: block;\n",
       "}\t\n",
       ".text_cell_render h2 {\n",
       "    font-family: 'Merriweather', serif;\n",
       "    font-weight: bold; \n",
       "    font-size: 180%;\n",
       "    line-height: 100%;\n",
       "    color: #0096d6;\n",
       "    margin-bottom: 0.5em;\n",
       "    margin-top: 0.5em;\n",
       "    display: block;\n",
       "}\t\n",
       "\n",
       ".text_cell_render h3 {\n",
       "    font-family: 'Merriweather', serif;\n",
       "\tfont-size: 150%;\n",
       "    margin-top:12px;\n",
       "    margin-bottom: 3px;\n",
       "    font-style: regular;\n",
       "    color: #008367;\n",
       "}\n",
       "\n",
       ".text_cell_render h4 {    /*Use this for captions*/\n",
       "    font-family: 'Merriweather', serif;\n",
       "    font-weight: 300; \n",
       "    font-size: 100%;\n",
       "    line-height: 120%;\n",
       "    text-align: left;\n",
       "    width:500px;\n",
       "    margin-top: 1em;\n",
       "    margin-bottom: 2em;\n",
       "    margin-left: 80pt;\n",
       "    font-style: regular;\n",
       "}\n",
       "\n",
       ".text_cell_render h5 {  /*Use this for small titles*/\n",
       "    font-family: 'Source Sans Pro', sans-serif;\n",
       "    font-weight: regular;\n",
       "    font-size: 130%;\n",
       "    color: #e31937;\n",
       "    font-style: italic;\n",
       "    margin-bottom: .5em;\n",
       "    margin-top: 1em;\n",
       "    display: block;\n",
       "}\n",
       "\n",
       ".text_cell_render h6 { /*use this for copyright note*/\n",
       "    font-family: 'Source Code Pro', sans-serif;\n",
       "    font-weight: 300;\n",
       "    font-size: 9pt;\n",
       "    line-height: 100%;\n",
       "    color: grey;\n",
       "    margin-bottom: 1px;\n",
       "    margin-top: 1px;\n",
       "}\n",
       "\n",
       "    .CodeMirror{\n",
       "            font-family: \"Source Code Pro\";\n",
       "\t\t\tfont-size: 90%;\n",
       "    }\n",
       "/*    .prompt{\n",
       "        display: None;\n",
       "    }*/\n",
       "\t\n",
       "    \n",
       "    .warning{\n",
       "        color: rgb( 240, 20, 20 )\n",
       "        }  \n",
       "</style>\n",
       "<script>\n",
       "    MathJax.Hub.Config({\n",
       "                        TeX: {\n",
       "                           extensions: [\"AMSmath.js\"], \n",
       "                           equationNumbers: { autoNumber: \"AMS\", useLabelIds: true}\n",
       "                           },\n",
       "                tex2jax: {\n",
       "                    inlineMath: [ ['$','$'], [\"\\\\(\",\"\\\\)\"] ],\n",
       "                    displayMath: [ ['$$','$$'], [\"\\\\[\",\"\\\\]\"] ]\n",
       "                },\n",
       "                displayAlign: 'center', // Change this to 'center' to center equations.\n",
       "                \"HTML-CSS\": {\n",
       "                    styles: {'.MathJax_Display': {\"margin\": 4}}\n",
       "                }\n",
       "        });\n",
       "</script>\n"
      ],
      "text/plain": [
       "<IPython.core.display.HTML object>"
      ]
     },
     "execution_count": 1,
     "metadata": {},
     "output_type": "execute_result"
    }
   ],
   "source": [
    "# Execute this cell to load the notebook's style sheet, then ignore it\n",
    "from IPython.core.display import HTML\n",
    "css_file = '../style/custom.css'\n",
    "HTML(open(css_file, \"r\").read())"
   ]
  },
  {
   "cell_type": "markdown",
   "metadata": {},
   "source": [
    "# Digitale Signalverarbeitung: Vorbereitende Datenbearbeitung\n",
    "\n",
    "## Kapitel 4 Übungen"
   ]
  },
  {
   "cell_type": "markdown",
   "metadata": {},
   "source": [
    "### Aufgabe 4.1 \n",
    "\n",
    "Durch Gl. (4.8) wird ein einfacher linearer Zusammenhang zwischen einer unkorrigierten, gemessenen Wertereihe $\\tilde{x}_i$ und einem Referenzwertereihe $x_i$ definiert. Leiten Sie die Bestimmungsgleichung für den Faktor $a$ mit Hilfe der Methode der kleinsten Quadrate her. Interpretieren Sie das Ergebnis mit Hilfe von Korrelationsfunktionen. "
   ]
  },
  {
   "cell_type": "markdown",
   "metadata": {},
   "source": [
    "Wir setzen die Beziehung zwischen korrigierter $\\hat{x}_i$ und unkorrigierter Zeitreihe $\\tilde{x}_i$\n",
    "\n",
    "\\begin{equation}\n",
    "\\hat{x}_i = a \\tilde{x}_i \\tag{4.8}\n",
    "\\end{equation}\n",
    "\n",
    "in die zu minimierende Zielfunktion \n",
    "\n",
    "\\begin{equation}\n",
    "E = \\sum_{i=1}^N (x_i - \\hat{x}_i)^2 \\tag{4.9}\n",
    "\\end{equation}\n",
    "\n",
    "ein und erhalten\n",
    "\n",
    "\\begin{equation}\n",
    "E = \\sum_{i=1}^N (x_i - a \\tilde{x}_i)^2. \\notag\n",
    "\\end{equation}\n",
    "\n",
    "Ableitung nach der zu optimierenden Größe, in diesem Fall dem Skalierungsfaktor $a$, ergibt:\n",
    "\n",
    "\\begin{equation}\n",
    "\\frac{\\partial E}{\\partial a} = -2\\sum_{i=1}^N (x_i - a \\tilde{x}_i) \\tilde{x}_i.\\notag\n",
    "\\end{equation}\n",
    "\n",
    "Als Bedingung dafür daß die Zielfunktion $E$ ein Minimum annimmt, setzen wir die Ableitung gleich Null.\n",
    "\n",
    "\\begin{equation}\n",
    "\\frac{\\partial E}{\\partial a} = -2\\sum_{i=1}^N (x_i - a \\tilde{x}_i) \\tilde{x}_i = 0\\notag\n",
    "\\end{equation}\n",
    "\n",
    "Dies können wir etwas vereinfachen, indem wir beide Seiten mit dem Faktor $-\\frac{1}{2}$ multiplizieren.\n",
    "\n",
    "\\begin{equation}\n",
    "\\sum_{i=1}^N (x_i - a \\tilde{x}_i) \\tilde{x}_i = 0\\notag\n",
    "\\end{equation}\n",
    "\n",
    "Umformen nach dem \"optimalen\" Skalierungsfaktor $a$ ergibt:\n",
    "\n",
    "\\begin{equation}\n",
    "a = \\frac{\\sum_{i=1}^N x_i \\tilde{x}_i}{\\sum_{i=1}^N \\tilde{x}_i \\tilde{x}_i}\\notag\n",
    "\\end{equation}\n",
    "\n",
    "Diese Gleichung können wir so interpretieren, daß die Zero-Lag Korrelation zwischen den Zeitreihen $x_i$ und $\\tilde{x}_i$ auf die Zero-Lag Autokorrelation der Zeitreihe $\\tilde{x}_i$ normiert wird. \n",
    "\n",
    "Testen wir ob das Ergebnis richtig ist, indem wir eine Zeitreihe basierend auf zwei Sinusschwingungen in Python erzeugen ..."
   ]
  },
  {
   "cell_type": "code",
   "execution_count": 2,
   "metadata": {},
   "outputs": [],
   "source": [
    "# Importiere Python Bibliotheken \n",
    "# ------------------------------\n",
    "%matplotlib inline\n",
    "from ipywidgets import interactive\n",
    "import matplotlib.pyplot as plt\n",
    "import numpy as np\n",
    "from statsmodels.tsa.stattools import adfuller"
   ]
  },
  {
   "cell_type": "code",
   "execution_count": 3,
   "metadata": {},
   "outputs": [],
   "source": [
    "def sin_func(a):\n",
    "    \n",
    "    # Define parameters\n",
    "    T1 = 25.                 # period 1 [s]\n",
    "    T2 = 500.                # period 2 [s]\n",
    "    dt = .1                  # time sampling [s]\n",
    "    L = 1000.                # length of the time series [s]\n",
    "\n",
    "    # Define sine functions ...\n",
    "    omega1 = 2. * np.pi / T1   # compute circular frequency from period 1\n",
    "    omega2 = 2. * np.pi / T2   # compute circular frequency from period 2\n",
    "    t = np.arange(0,L+dt,dt) # compute time vector\n",
    "    \n",
    "    x1 = np.sin(omega1*t)  # compute sine wave 1\n",
    "    x2 = np.sin(omega2*t)  # compute sine wave 1\n",
    "    \n",
    "    # Add both sine functions\n",
    "    x = a*(x1 + x2)\n",
    "    \n",
    "    return x, t"
   ]
  },
  {
   "cell_type": "markdown",
   "metadata": {},
   "source": [
    "Mit dem Faktor a = 1. erzeugen wir eine unkorrigierte Zeitreihe xb ..."
   ]
  },
  {
   "cell_type": "code",
   "execution_count": 4,
   "metadata": {},
   "outputs": [],
   "source": [
    "xb, t = sin_func(1.)"
   ]
  },
  {
   "cell_type": "markdown",
   "metadata": {},
   "source": [
    "... und mit dem Faktor $a = \\frac{\\pi}{9.16}$  die Referenzzeitreihe x ..."
   ]
  },
  {
   "cell_type": "code",
   "execution_count": 5,
   "metadata": {},
   "outputs": [],
   "source": [
    "x, t = sin_func(np.pi/9.16)"
   ]
  },
  {
   "cell_type": "markdown",
   "metadata": {},
   "source": [
    "Der Plot der Referenzzeitreihe und unkorrigierten Zeitreihe zeigt einen deutlichen Amplitudenunterschied"
   ]
  },
  {
   "cell_type": "code",
   "execution_count": 6,
   "metadata": {},
   "outputs": [
    {
     "data": {
      "text/plain": [
       "Text(0.5, 1.0, 'Uncorrected and reference time series')"
      ]
     },
     "execution_count": 6,
     "metadata": {},
     "output_type": "execute_result"
    },
    {
     "data": {
      "image/png": "[encoded data removed]",
      "text/plain": [
       "<Figure size 720x360 with 1 Axes>"
      ]
     },
     "metadata": {
      "needs_background": "light"
     },
     "output_type": "display_data"
    }
   ],
   "source": [
    "# Initialize Plots\n",
    "plt.figure(figsize=(10,5))\n",
    "    \n",
    "# Plot time series\n",
    "plt.plot(t, xb, 'b', label = r'uncorrected time series $\\overline{x}$')\n",
    "plt.plot(t, x, 'r', label = r'reference time series $x$')\n",
    "plt.xlabel('Time (s)')\n",
    "plt.ylabel('f(t) (s)')\n",
    "plt.legend()\n",
    "plt.title('Uncorrected and reference time series')"
   ]
  },
  {
   "cell_type": "markdown",
   "metadata": {},
   "source": [
    "Den optimalen Skalierungsfaktor $a$ können wir einfach durch Summation über die Produkte der Zeitreihen bestimmen. "
   ]
  },
  {
   "cell_type": "code",
   "execution_count": 7,
   "metadata": {},
   "outputs": [
    {
     "name": "stdout",
     "output_type": "stream",
     "text": [
      "0.34296863030456254\n"
     ]
    }
   ],
   "source": [
    "a = np.sum(x*xb) / np.sum(xb*xb)\n",
    "print(a)"
   ]
  },
  {
   "cell_type": "markdown",
   "metadata": {},
   "source": [
    "Anwenden des Faktors $a$ auf die unkorrigierte Zeitreihe, zeigt daß sich beide Zeitreihen perfekt überlagern lassen."
   ]
  },
  {
   "cell_type": "code",
   "execution_count": 8,
   "metadata": {},
   "outputs": [
    {
     "data": {
      "text/plain": [
       "Text(0.5, 1.0, 'Corrected and reference time series')"
      ]
     },
     "execution_count": 8,
     "metadata": {},
     "output_type": "execute_result"
    },
    {
     "data": {
      "image/png": "[encoded data removed]",
      "text/plain": [
       "<Figure size 720x360 with 1 Axes>"
      ]
     },
     "metadata": {
      "needs_background": "light"
     },
     "output_type": "display_data"
    }
   ],
   "source": [
    "# Initialize Plots\n",
    "plt.figure(figsize=(10,5))\n",
    "    \n",
    "# Plot time series\n",
    "plt.plot(t, a*xb, 'b', label = r'corrected time series $a\\overline{x}$')\n",
    "plt.plot(t, x, 'r', label = r'reference time series $x$')\n",
    "plt.xlabel('Time (s)')\n",
    "plt.ylabel('f(t) (s)')\n",
    "plt.legend()\n",
    "plt.title('Corrected and reference time series')"
   ]
  },
  {
   "cell_type": "markdown",
   "metadata": {},
   "source": [
    "### Aufgabe 4.2\n",
    "\n",
    "Leiten Sie analog die Bestimmungsgleichung für den Faktor $a$ im Fall einer extern gemessenen Störgröße Gl. (4.11) mit Hilfe der Methode der kleinsten Quadrate her. Interpretieren Sie auch dieses Ergebnis mittels Korrelationsfunktionen."
   ]
  },
  {
   "cell_type": "markdown",
   "metadata": {},
   "source": [
    "Analog zu Aufgabe 4.1 folgt für den optimalen Skalierungsfaktor $a$ in diesem Fall:\n",
    "\n",
    "\\begin{equation}\n",
    "a = \\frac{\\sum_{i=1}^N x_i \\tilde{p}_i}{\\sum_{i=1}^N \\tilde{p}_i \\tilde{p}_i}\\notag\n",
    "\\end{equation}"
   ]
  },
  {
   "cell_type": "markdown",
   "metadata": {},
   "source": [
    "### Aufgabe 4.3\n",
    "\n",
    "Durch Gl. (4.15) wird ein Trend in Form eines Polynomansatzes formuliert. Leiten Sie mit Hilfe der Methode der kleinsten Quadrate die Bestimmungsgleichung für die $a_k$, $k=0,...,q,$ her."
   ]
  },
  {
   "cell_type": "markdown",
   "metadata": {},
   "source": [
    "Wir setzen Gl. (4.15)\n",
    "\n",
    "\\begin{equation}\n",
    "m_i(a_j)=a_0+ a_1t_i+a_2t_i^2+\\dots + a_qt_i^q = \\sum\\limits_{j=0}^{q} a_j t_i^j \\tag{4.15}\n",
    "\\end{equation}\n",
    "\n",
    "in die zu minimierende Zielfunktion (4.16) \n",
    "\n",
    "\\begin{equation}\n",
    "E=\\sum\\limits_{i=0}^N (x_i -m_i)^2 \\rightarrow \\mbox{Min.} \\tag{4.16}\n",
    "\\end{equation}\n",
    "\n",
    "ein und erhalten\n",
    "\n",
    "\\begin{equation}\n",
    "E=\\sum\\limits_{i=0}^N (x_i - \\sum\\limits_{j=0}^{q} a_j t_i^j)^2 \\notag\n",
    "\\end{equation}\n",
    "\n",
    "Ableitung nach dem zu optimierenden Koeffizienten $a_k$ und nullsetzen ergibt:\n",
    "\n",
    "\\begin{equation}\n",
    "\\frac{\\partial E}{\\partial a_k} = -2 \\sum\\limits_{i=0}^N (x_i - \\sum\\limits_{j=0}^{q} a_j t_i^j) t_i^k = 0\\notag\n",
    "\\end{equation}\n",
    "\n",
    "Nach Division durch -2 und einigen kleinen Umformungen der Summen folgt:\n",
    "\n",
    "\\begin{equation}\n",
    "\\sum\\limits_{i=0}^N x_i t_i^k - \\sum\\limits_{i=0}^N \\sum\\limits_{j=0}^{q} a_j t_i^j t_i^k = 0\\notag\n",
    "\\end{equation}\n",
    "\n",
    "Nach Verschiebung des zweiten Terms auf die RHS und vertauschen der Summationsreihenfolge, erhalten wir das gesuchte lineare Gleichungssystem zur Bestimmung der Parameter $a_k$, $k=0,...,q$:\n",
    "\\begin{equation}\n",
    "\\sum_{i=0}^N x_i t_i^k = \\sum_{j=0}^q a_j \\sum_{i=0}^N t_i^j t_i^k. \\tag{4.18}\n",
    "\\end{equation}"
   ]
  },
  {
   "cell_type": "markdown",
   "metadata": {},
   "source": [
    "### Aufgabe 4.4\n",
    "\n",
    "Überprüfen Sie Ihr Ergebnis indem Sie $q=0$ setzen. Es ergibt sich eine Gleichung für die Bestimmung des Mittelwerts. Interpretieren Sie das Ergebnis: Warum ist die Schätzung des Mittelwertes optimal im Sinne kleinster Fehlerquadrate? "
   ]
  },
  {
   "cell_type": "markdown",
   "metadata": {},
   "source": [
    "Aus $q = 0$ folgt, daß auch $k=0$ sein muß. Aus (Gl. 4.18) folgt\n",
    "\n",
    "\\begin{equation}\n",
    "\\sum_{i=0}^N x_i t_i^0 = \\sum_{j=0}^0 a_j \\sum_{i=0}^N t_i^j t_i^0. \\notag\n",
    "\\end{equation}\n",
    "\n",
    "Mit $t_i^0 = 1$ läßt sich das Problem weiter vereinfachen\n",
    "\n",
    "\\begin{equation}\n",
    "\\sum_{i=0}^N x_i = \\sum_{j=0}^0 a_j \\sum_{i=0}^N t_i^j. \\notag\n",
    "\\end{equation}\n",
    "\n",
    "Berechnung der Summe $\\sum_{j=0}^0$ auf der RHS ergibt\n",
    "\n",
    "\\begin{equation}\n",
    "\\sum_{i=0}^N x_i = a_0 \\sum_{i=0}^N t_i^0. \\notag\n",
    "\\end{equation}\n",
    "\n",
    "Mit $\\sum_{i=0}^N t_i^0 = \\sum_{i=0}^N 1 = N$ folgt\n",
    "\n",
    "\\begin{equation}\n",
    "\\sum_{i=0}^N x_i = N a_0 \\notag\n",
    "\\end{equation}\n",
    "\n",
    "oder der Mittelwert\n",
    "\n",
    "\\begin{equation}\n",
    "a_0 = \\frac{1}{N} \\sum_{i=0}^N x_i. \\notag\n",
    "\\end{equation}\n",
    "\n",
    "D.h. die beste Anpassung eines konstaten Koeffizieten an eine Zeitreihe ergibt deren arithmetischen Mittelwert.\n",
    "\n",
    "Setzen wir unser Ergebnis in Gl. (4.16) ein\n",
    "\n",
    "\\begin{equation}\n",
    "E=\\sum\\limits_{i=0}^N (x_i -m_i)^2 \\rightarrow \\mbox{Min.} \\tag{4.16}\n",
    "\\end{equation}\n",
    "\n",
    "so ergibt sich \n",
    "\n",
    "\\begin{equation}\n",
    "E=\\sum\\limits_{i=0}^N (x_i - a_0)^2=\\sum\\limits_{i=0}^N (x_i - \\frac{1}{N} \\sum_{j=0}^N x_j)^2 \\rightarrow \\mbox{Min.} \\notag\n",
    "\\end{equation}\n",
    "\n",
    "D.h. bis auf einen Faktor $1/(N-1)$ minimieren wir mit der Zielfunktion effektiv die Varianz zwischen den Werten der Zeitreihe $x_i$ und dem Mittelwert $a_0$."
   ]
  },
  {
   "cell_type": "markdown",
   "metadata": {},
   "source": [
    "### Aufgabe 4.5\n",
    "\n",
    "Zeigen Sie, dass eine zweiseitige gleitende Mittelung einer Faltung mit einer Boxcar-Funktion entspricht. Wie ändert sich das Spektrum der beobachteten Wertereihe\n",
    "durch die gleitende Mittelung?"
   ]
  },
  {
   "cell_type": "markdown",
   "metadata": {},
   "source": [
    "Wir definieren die diskrete Boxcar-Funktion als \n",
    "\n",
    "\\begin{equation}\n",
    "boxcar_i := \n",
    "\\begin{cases}\n",
    "\\frac{1}{2q+1}\\; \\text{für} -q <= i <= q \\\\\n",
    "0\\; \\text{sonst}\n",
    "\\end{cases}\n",
    "\\notag\n",
    "\\end{equation}\n",
    "\n",
    "Die Faltung der Boxcar Funktion mit einer Zeitreihe $x_i$ ergibt\n",
    "\n",
    "\\begin{equation}\n",
    "(boxcar * x)_i = \\sum_{j=-\\infty}^{\\infty} boxcar_j x_{i-j}\\notag\n",
    "\\end{equation}\n",
    "\n",
    "oder nach einsetzen der Boxcar-Funktion und einigen kleinen Umformungen folgt sofort\n",
    "\n",
    "\\begin{equation}\n",
    "(boxcar * x)_i = \\sum_{j=-q}^{q} \\frac{1}{2q+1} x_{i-j} = \\frac{1}{2q+1}\\sum_{j=-q}^{q} x_{i-j} = \\hat{m}_i,\\notag \n",
    "\\end{equation}\n",
    "\n",
    "d.h. die diskrete Faltung der Boxcar Funktion mit der Zeitreihe entspricht dem zweiseitigen, gleitenden Mittelung $\\hat{m}_i$.\n",
    "\n",
    "Zur Berechnung des Einflußes gleitenden Mittelung auf das Spektrum der Zeitreihe $x_i$, berechnen wir die diskrete Fouriertransformation der Boxcar Funktion:\n",
    "\n",
    "\\begin{equation}\n",
    "DFT(boxcar)(\\omega) = \\sum_{m=-\\infty}^{\\infty} boxcar_m e^{-i \\omega m} \\notag\n",
    "\\end{equation}\n",
    "\n",
    "Einsetzen der Definition der Boxcar Funktion ergibt \n",
    "\n",
    "\\begin{equation}\n",
    "DFT(boxcar)(\\omega) = \\frac{1}{2q+1}\\sum_{m=-q}^{q}e^{-i \\omega m} \\notag\n",
    "\\end{equation}\n",
    "\n",
    "Die Summe auf der RHS entspricht einer [geometrischen Reihe](https://de.wikipedia.org/wiki/Geometrische_Reihe), für die wir folgende Identität nutzen können:\n",
    "\n",
    "\\begin{equation}\n",
    "\\sum_{m=-q}^{q} a^m = \\frac{a^{-q}+a^{q+1}}{1-a} \\notag\n",
    "\\end{equation}\n",
    "\n",
    "Mit $a = e^{-i \\omega}$ folgt\n",
    "\n",
    "\\begin{equation}\n",
    "DFT(boxcar)(\\omega) = \\frac{1}{2q+1} \\frac{e^{i q \\omega}-e^{-i\\omega(q+1)}}{1-e^{-i\\omega}} \\notag\n",
    "\\end{equation}\n",
    "\n",
    "Schreiben wir eine Funktion zur Berechnung der DFT der Boxcar-Funktion ..."
   ]
  },
  {
   "cell_type": "code",
   "execution_count": 9,
   "metadata": {},
   "outputs": [],
   "source": [
    "def box_spec(q):\n",
    "    \n",
    "    # Define parameters\n",
    "    wmax = np.pi           # maximum frequency [rad/s]\n",
    "    dw = wmax / 1000       # sample interval in frequency domain [rad/s]\n",
    "    \n",
    "\n",
    "    # Define frequency array ...\n",
    "    w = np.arange(dw,wmax+dw,dw)\n",
    "    \n",
    "    # Compute DFT of boxcar function\n",
    "    # two-sided boxcar function\n",
    "    DFT = 1./(2*q+1) * (np.exp(1j*q*w)-np.exp(-1j*(q+1)*w)) / (1-np.exp(-1j*w))\n",
    "    \n",
    "    # one-sided boxcar function\n",
    "    #DFT = 1./(q+1) * (1-np.exp(-1j*(q+1)*w)) / (1-np.exp(-1j*w))\n",
    "    \n",
    "    return w, DFT"
   ]
  },
  {
   "cell_type": "markdown",
   "metadata": {},
   "source": [
    "... können wir die Amplitudenspektren für unterschiedliche Fensterlägen plotten."
   ]
  },
  {
   "cell_type": "code",
   "execution_count": 10,
   "metadata": {},
   "outputs": [
    {
     "data": {
      "text/plain": [
       "Text(0.5, 1.0, 'Amplitude Spectra of Boxcar Functions with variable window length')"
      ]
     },
     "execution_count": 10,
     "metadata": {},
     "output_type": "execute_result"
    },
    {
     "data": {
      "image/png": "[encoded data removed]",
      "text/plain": [
       "<Figure size 720x360 with 1 Axes>"
      ]
     },
     "metadata": {
      "needs_background": "light"
     },
     "output_type": "display_data"
    }
   ],
   "source": [
    "# compute Boxcar DFT for different window lengths\n",
    "w, DFT2 = box_spec(2)\n",
    "w, DFT4 = box_spec(4)\n",
    "w, DFT8 = box_spec(8)\n",
    "w, DFT16 = box_spec(16)\n",
    "\n",
    "# Initialize Plots\n",
    "plt.figure(figsize=(10,5))\n",
    "    \n",
    "# Plot time series\n",
    "plt.plot(w, np.abs(DFT2), 'r', label = r'DFT(Boxcar), q = 2')\n",
    "plt.plot(w, np.abs(DFT4), 'g', label = r'DFT(Boxcar), q = 4')\n",
    "plt.plot(w, np.abs(DFT8), 'b', label = r'DFT(Boxcar), q = 8')\n",
    "plt.plot(w, np.abs(DFT16), 'm', label = r'DFT(Boxcar), q = 16')\n",
    "plt.xlabel(r'$\\omega (rad/s)$')\n",
    "plt.ylabel('DFT(Boxcar)')\n",
    "plt.legend()\n",
    "plt.title('Amplitude Spectra of Boxcar Functions with variable window length')"
   ]
  },
  {
   "cell_type": "markdown",
   "metadata": {},
   "source": [
    "Alle Boxcar-Filter wirken wie ein Tiefpass-Filter, wobei diese mit zunehmender Fensterlänge engbandiger werden. Allerdings ist die Filterung nicht perfekt, da auch sehr viele hohe Frequenzen durchgelassen werden."
   ]
  },
  {
   "cell_type": "markdown",
   "metadata": {},
   "source": [
    "### Aufgabe 4.6\n",
    "\n",
    "Definieren Sie eine Wertereihe $x_i = m_i + n_i$. Die Länge soll 200 s und der Abtastschritt 1 s sein. $n_i$ sollen normalverteilte Zufallsgrößen sein. Nehmen Sie für den Trend das Modell $m_i = \\frac{0.0001}{\\mbox{s}} t_i^2$ an. Führen Sie eine Trendkorrektur mit einem Polynomansatz durch.\n",
    "\n",
    "- Die Ordnung für die Trendkorrektur soll 1 und die Standardabweichung für das zufällige Rauschen soll ebenfalls 1 sein.\n",
    "\n",
    "- Die Ordnung für die Trendkorrektur soll 1 und die Standardabweichung für das zufällige Rauschen soll 0.1 sein.\n",
    "\n",
    "- Die Ordnung für die Trendkorrektur soll 2 und die Standardabweichung für das zufällige Rauschen soll 1 sein.\n",
    "\n",
    "- Die Ordnung für die Trendkorrektur soll 2 und die Standardabweichung für das zufällige Rauschen soll 0.1 sein.\n",
    "\n",
    "Interpretieren Sie die Ergebnisse."
   ]
  },
  {
   "cell_type": "markdown",
   "metadata": {},
   "source": [
    "Zur Lösung dieser Aufgabe müssen wir optimale Koeffizienten für Polynomansätze 1. und 2. Grades finden. Dazu nutzen wir das lineare Gleichungssystem (4.18) zur Bestimmung der Parameter $a_k$, $k=0,...,q$:\n",
    "\\begin{equation}\n",
    "\\sum_{i=0}^N x_i t_i^k = \\sum_{j=0}^q a_j \\sum_{i=0}^N t_i^j t_i^k. \\tag{4.18}\n",
    "\\end{equation}"
   ]
  },
  {
   "cell_type": "markdown",
   "metadata": {},
   "source": [
    "##### Polynomansatz mit Grad 1 (q=1)\n",
    "\n",
    "Mit (4.18) ergibt sich das Gleichungssystem für $k = 0$ und $q = 1$ zu\n",
    "\n",
    "\\begin{equation}\n",
    "\\sum_{i=0}^N x_i t_i^0 = \\sum_{j=0}^1 a_j \\sum_{i=0}^N t_i^j t_i^0. \\notag\n",
    "\\end{equation}\n",
    "\n",
    "Mit $t_i^0 = 1$ folgt\n",
    "\n",
    "\\begin{equation}\n",
    "\\sum_{i=0}^N x_i = a_0 \\sum_{i=0}^N t_i^0 t_i^0 + a_1 \\sum_{i=0}^N t_i^1 t_i^0 \\notag\n",
    "\\end{equation}\n",
    "\n",
    "oder \n",
    "\n",
    "\\begin{equation}\n",
    "\\sum_{i=0}^N x_i = N a_0 + a_1 \\sum_{i=0}^N t_i \\tag{E1}\n",
    "\\end{equation}\n",
    "\n",
    "Für $k=1$ und $q=1$ folgt aus Gl. (4.18)\n",
    "\n",
    "\\begin{equation}\n",
    "\\sum_{i=0}^N x_i t_i^1 = \\sum_{j=0}^1 a_j \\sum_{i=0}^N t_i^j t_i^1 \\notag\n",
    "\\end{equation}\n",
    "\n",
    "nach Ausführung der Summe $\\sum_{j=0}^1$ auf der RHS\n",
    "\n",
    "\\begin{equation}\n",
    "\\sum_{i=0}^N x_i t_i = a_0 \\sum_{i=0}^N t_i^0 t_i + a_1 \\sum_{i=0}^N t_i^1 t_i\\notag\n",
    "\\end{equation}\n",
    "\n",
    "oder \n",
    "\n",
    "\\begin{equation}\n",
    "\\sum_{i=0}^N x_i t_i = a_0 \\sum_{i=0}^N t_i + a_1 \\sum_{i=0}^N t_i^2\\tag{E2}\n",
    "\\end{equation}\n",
    "\n",
    "Die Gl. (E1) und (E2) bilden ein lineares Gleichungssystem:\n",
    "\n",
    "\\begin{equation}\n",
    "N a_0 + a_1 \\sum_{i=0}^N t_i = \\sum_{i=0}^N x_i\\tag{E1}\n",
    "\\end{equation}\n",
    "\n",
    "\\begin{equation}\n",
    "a_0 \\sum_{i=0}^N t_i + a_1 \\sum_{i=0}^N t_i^2 = \\sum_{i=0}^N x_i t_i\\tag{E2}\n",
    "\\end{equation}\n",
    "\n",
    "welches wir explizit nach den Koeffizienten $a_0$ und $a_1$ auflösen könnten, oder wir schreiben das Gleichungssystem als Matrix-Vektorgleichung:\n",
    "\n",
    "\\begin{equation}\n",
    "\\begin{pmatrix} N & \\sum_{i=0}^N t_i \\\\ \\sum_{i=0}^N t_i & \\sum_{i=0}^N t_i^2 \\end{pmatrix} \n",
    "\\begin{pmatrix} a_0  \\\\ a_1 \\end{pmatrix} =\n",
    "\\begin{pmatrix} \\sum_{i=0}^N x_i \\\\ \\sum_{i=0}^N x_i t_i \\end{pmatrix}\n",
    "\\notag\n",
    "\\end{equation}\n",
    "\n",
    "oder \n",
    "\n",
    "\\begin{equation}\n",
    "M a = b,\n",
    "\\notag\n",
    "\\end{equation}\n",
    "\n",
    "aus der wir die Koeffizienten über\n",
    "\n",
    "\\begin{equation}\n",
    "a = M^{-1}b, \n",
    "\\notag\n",
    "\\end{equation}\n",
    "\n",
    "bestimmen können, wobei $M^{-1}$ die inverse Matrix der Matrix $M$ bezeichnet, welche wir einfach in Python berechnen können."
   ]
  },
  {
   "cell_type": "markdown",
   "metadata": {},
   "source": [
    "##### Polynomansatz mit Grad 2 (q=2)\n",
    "\n",
    "Analog zu dem linearen Fall $q=1$ ergibt sich für den quadratischen Trend $q=2$ folgendes lineares Gleichungssystem für die optimalen Koeffizienten $a_0,a_1,a_2$:\n",
    "\n",
    "\\begin{equation}\n",
    "\\begin{pmatrix} N & \\sum_{i=0}^N t_i & \\sum_{i=0}^N t_i^2\\\\ \\sum_{i=0}^N t_i & \\sum_{i=0}^N t_i^2 & \\sum_{i=0}^N t_i^3 \\\\\n",
    "\\sum_{i=0}^N t_i^2 & \\sum_{i=0}^N t_i^3 & \\sum_{i=0}^N t_i^4\n",
    "\\end{pmatrix} \n",
    "\\begin{pmatrix} a_0  \\\\ a_1 \\\\ a_2\\end{pmatrix} =\n",
    "\\begin{pmatrix} \\sum_{i=0}^N x_i \\\\ \\sum_{i=0}^N x_i t_i \\\\ \\sum_{i=0}^N x_i t_i^2\\end{pmatrix}\n",
    "\\notag\n",
    "\\end{equation}\n",
    "\n",
    "Jetzt können wir die Aufgabe in Python implementieren ..."
   ]
  },
  {
   "cell_type": "code",
   "execution_count": 11,
   "metadata": {},
   "outputs": [],
   "source": [
    "def trend_corr(q,sn):\n",
    "    \n",
    "    # Define parameters\n",
    "    dt = 1.                 # time sampling [s]\n",
    "    L = 200.                # length of the time series [s]\n",
    "\n",
    "    # Define time array\n",
    "    t = np.arange(0,L+dt,dt) # compute time vector\n",
    "    N = len(t)\n",
    "    \n",
    "    # Create trend ...\n",
    "    m = 0.0001 * t**2\n",
    "    \n",
    "    # ... create normal random noise with standard deviation sn ...\n",
    "    # Here I set a fixed seed to reproduce the same random numbers every time \n",
    "    # I change the parameters sn, wsta, wlta, wk, kurtosis, so the time series \n",
    "    # does not change. THIS IS A VERY BAD PRACTICE: DON'T DO THIS IF\n",
    "    # IF YOUR APPLICATION HAS TO RELY ON RANDOM NUMBERS\n",
    "    np.random.seed(seed=12345656)\n",
    "    xnoise = np.random.normal(0., sn, N)\n",
    "    \n",
    "    # ... add random noise to trend\n",
    "    x = m + xnoise\n",
    "    \n",
    "    # compute linear trend (q=1)\n",
    "    if(q==1):\n",
    "        \n",
    "        # assemble matrix M\n",
    "        M = np.matrix([[N, np.sum(t)], [np.sum(t), np.sum(t**2)]])\n",
    "        \n",
    "        # assemble vector b\n",
    "        b = np.matrix([[np.sum(x)],[np.sum(x*t)]])\n",
    "        \n",
    "        # compute inverse of M and solve for optimum coefficients a\n",
    "        a = np.linalg.inv(M)*b\n",
    "        \n",
    "        # create trend\n",
    "        mopt = (float)(a[0]) + (float)(a[1]) * t\n",
    "    \n",
    "    # compute quadratic trend (q=2)\n",
    "    if(q==2):\n",
    "        \n",
    "        # assemble matrix M\n",
    "        M = np.matrix([[N, np.sum(t), np.sum(t**2)], \n",
    "                       [np.sum(t), np.sum(t**2), np.sum(t**3)],\n",
    "                       [np.sum(t**2),np.sum(t**3),np.sum(t**4)]])\n",
    "        \n",
    "        # assemble vector b\n",
    "        b = np.matrix([[np.sum(x)],[np.sum(x*t)],[np.sum(x*t**2)]])\n",
    "        \n",
    "        # compute inverse of M and solve for optimum coefficients a\n",
    "        a = np.linalg.inv(M)*b\n",
    "        \n",
    "        # create trend\n",
    "        mopt = (float)(a[0]) + (float)(a[1]) * t + (float)(a[2]) * t**2\n",
    "        \n",
    "    \n",
    "    # Initialize Plots\n",
    "    plt.figure(figsize=(20,10))\n",
    "    \n",
    "    plt.subplot(211)\n",
    "    \n",
    "    # Plot time series\n",
    "    plt.plot(t, x, 'b', label = r'time series x = m + xnoise')\n",
    "    if(q==1):\n",
    "        plt.plot(t, mopt, 'r', label = r'linear trend (q=1)')\n",
    "    if(q==2):\n",
    "        plt.plot(t, mopt, 'r', label = r'quadratic trend (q=2)')    \n",
    "    plt.xlabel('Time (s)')\n",
    "    plt.ylabel('x(t) (s)')\n",
    "    plt.legend()\n",
    "    \n",
    "    # Apply Dickey-Fuller test to uncorrected time series x\n",
    "    res = adfuller(x)\n",
    "    \n",
    "    title = 'x = Noise + Trend, Dickey-Fuller Test p-value = ' + str(res[1])\n",
    "    plt.title(title)\n",
    "    \n",
    "    plt.subplot(212)\n",
    "    \n",
    "    # Plot time series\n",
    "    if(q==1):\n",
    "        plt.plot(t, x-mopt, 'r', label = r'x - linear trend (q=1)')\n",
    "    if(q==2):\n",
    "        plt.plot(t, x-mopt, 'r', label = r'x - quadratic trend (q=2)')    \n",
    "    plt.xlabel('Time (s)')\n",
    "    plt.ylabel('x(t) (s)')\n",
    "    plt.legend()\n",
    "    \n",
    "     # Apply Dickey-Fuller test to uncorrected time series x\n",
    "    res1 = adfuller(x-mopt)\n",
    "    \n",
    "    title = 'Trendcorrected time series, Dickey-Fuller Test p-value = ' + str(res1[1])\n",
    "    plt.title(title)"
   ]
  },
  {
   "cell_type": "code",
   "execution_count": 12,
   "metadata": {},
   "outputs": [
    {
     "data": {
      "application/vnd.jupyter.widget-view+json": {
       "model_id": "a1ccbe1911344143bb00d3edfa4d47f3",
       "version_major": 2,
       "version_minor": 0
      },
      "text/plain": [
       "interactive(children=(IntSlider(value=1, description='q', max=2, min=1), FloatSlider(value=0.5, description='s…"
      ]
     },
     "metadata": {},
     "output_type": "display_data"
    }
   ],
   "source": [
    "interactive_plot = interactive(trend_corr, q=(1, 2, 1), sn=(.1, 1, .1) )\n",
    "output = interactive_plot.children[-1]\n",
    "output.layout.height = '350px'\n",
    "interactive_plot"
   ]
  },
  {
   "cell_type": "markdown",
   "metadata": {},
   "source": [
    "Bei großen Noiseamplituden kann der Trend der Zeitreihe sowohl durch eine lineare als auch quadratische Funktion angepasst werden. Bei kleinen Noiseamplituden, erlaubt dagegen nur der quadratische Test eine erfolgreiche Anpassung. Dies wird durch die p-Werte des Dickey-Fuller Tests unterstützt.  "
   ]
  },
  {
   "cell_type": "markdown",
   "metadata": {},
   "source": [
    "### Aufgabe 4.7\n",
    "\n",
    "Für das Modell der vorangegangenen Aufgabe soll die Trendkorrektur mit einer zweiseitigen gleitenden Mittelung durchgeführt werden. Die Standardabweichung des zufälligen Rauschens soll 1 bzw. 0.1 sein. Wählen sie die Länge des gleitenden Fensters sinnvoll."
   ]
  },
  {
   "cell_type": "code",
   "execution_count": 13,
   "metadata": {},
   "outputs": [],
   "source": [
    "def trend_corr_mov(q,sn):\n",
    "    \n",
    "    # Define parameters\n",
    "    dt = 1.                 # time sampling [s]\n",
    "    L = 200.                # length of the time series [s]\n",
    "\n",
    "    # Define time array\n",
    "    t = np.arange(0,L+dt,dt) # compute time vector\n",
    "    N = len(t)\n",
    "    \n",
    "    # Create trend ...\n",
    "    m = 0.0001 * t**2\n",
    "    \n",
    "    # ... create normal random noise with standard deviation sn ...\n",
    "    # Here I set a fixed seed to reproduce the same random numbers every time \n",
    "    # I change the parameters sn, wsta, wlta, wk, kurtosis, so the time series \n",
    "    # does not change. THIS IS A VERY BAD PRACTICE: DON'T DO THIS IF\n",
    "    # IF YOUR APPLICATION HAS TO RELY ON RANDOM NUMBERS\n",
    "    np.random.seed(seed=12345656)\n",
    "    xnoise = np.random.normal(0., sn, N)\n",
    "    \n",
    "    # ... add random noise to trend\n",
    "    x = m + xnoise\n",
    "    \n",
    "    # compute trend using a two-sided moving average\n",
    "    box = np.zeros(N)     # initialize boxcar function\n",
    "    nbox = (int)(q // dt) # compute window length in time samples\n",
    "    box[:nbox] = 1. / nbox       # define boxcar function\n",
    "    \n",
    "    # compute moving average by convolution of boxcar with time series\n",
    "    mopt = np.convolve(box,x)\n",
    "    mopt = mopt[:N]   # use only positive lags\n",
    "    \n",
    "    # Initialize Plots\n",
    "    plt.figure(figsize=(20,10))\n",
    "    \n",
    "    plt.subplot(211)\n",
    "    \n",
    "    # Plot time series\n",
    "    plt.plot(t, x, 'b', label = r'time series x = m + xnoise')\n",
    "    plt.plot(t, mopt, 'r', label = r'moving average trend')    \n",
    "    plt.xlabel('Time (s)')\n",
    "    plt.ylabel('x(t) (s)')\n",
    "    plt.legend()\n",
    "    \n",
    "    # Apply Dickey-Fuller test to uncorrected time series x\n",
    "    res = adfuller(x)\n",
    "    \n",
    "    title = 'x = Noise + Trend, Dickey-Fuller Test p-value = ' + str(res[1])\n",
    "    plt.title(title)\n",
    "    \n",
    "    plt.subplot(212)\n",
    "    \n",
    "    # Plot time series\n",
    "    plt.plot(t, x-mopt, 'r', label = r'x - moving average')\n",
    "    plt.xlabel('Time (s)')\n",
    "    plt.ylabel('x(t) (s)')\n",
    "    plt.legend()\n",
    "    \n",
    "     # Apply Dickey-Fuller test to uncorrected time series x\n",
    "    res1 = adfuller(x-mopt)\n",
    "    \n",
    "    title = 'Trendcorrected time series, Dickey-Fuller Test p-value = ' + str(res1[1])\n",
    "    plt.title(title)"
   ]
  },
  {
   "cell_type": "code",
   "execution_count": 14,
   "metadata": {},
   "outputs": [
    {
     "data": {
      "application/vnd.jupyter.widget-view+json": {
       "model_id": "99e36401975f4495b1e5733a266f57a6",
       "version_major": 2,
       "version_minor": 0
      },
      "text/plain": [
       "interactive(children=(IntSlider(value=92, description='q', max=200, min=2, step=10), FloatSlider(value=0.5, de…"
      ]
     },
     "metadata": {},
     "output_type": "display_data"
    }
   ],
   "source": [
    "interactive_plot = interactive(trend_corr_mov, q=(2, 200, 10), sn=(.1, 1, .1) )\n",
    "output = interactive_plot.children[-1]\n",
    "output.layout.height = '350px'\n",
    "interactive_plot"
   ]
  },
  {
   "cell_type": "markdown",
   "metadata": {},
   "source": [
    "Abhängig von der Noiseamplitude muß man die Fensterlänge anpassen, damit sich möglichst kleine p-Werte beim Dickey-Fuller Test ergeben. Wählt man eine zu große Fensterlänge, nähert sich das gleitende Mittel dem arithmetischen Mittelwert der Zeitreihe."
   ]
  },
  {
   "cell_type": "markdown",
   "metadata": {},
   "source": [
    "### Aufgabe 4.8\n",
    "\n",
    "Definieren Sie eine Funktion $\\cos(\\omega_1 t) + 0.4 \\cos(\\omega_2 t)$ im Intervall $(0 s, 60 s)$ für $\\omega_1 = \\frac{2 \\pi}{20 s}$, $\\omega_2 = \\frac{2\\pi}{1 s}$ mit einem Abtastschritt von $\\Delta t = 0.1 s$. Ändern Sie den Abtastschritt auf 4 s. Nutzen Sie die Matlab-Funktion `resample`. Berechnen Sie die Wertereihe auch für einen Abtastschritt von 4 s. Vergleichen und interpretieren Sie die Ergebnisse."
   ]
  },
  {
   "cell_type": "markdown",
   "metadata": {},
   "source": [
    "Das Problem läßt sich einfach in Python implementieren, z.B. mit der `SciPy` Funktion [resample](https://docs.scipy.org/doc/scipy/reference/generated/scipy.signal.resample.html)."
   ]
  },
  {
   "cell_type": "code",
   "execution_count": 15,
   "metadata": {},
   "outputs": [],
   "source": [
    "from scipy import signal"
   ]
  },
  {
   "cell_type": "code",
   "execution_count": 16,
   "metadata": {},
   "outputs": [],
   "source": [
    "def cos_resamp(dtnew):\n",
    "\n",
    "    # Define parameters\n",
    "    L = 60.                # length of the time series [s]\n",
    "    dt = .1                # time sampling [s]\n",
    "\n",
    "    omega1 = 2. * np.pi / 20. # circular frequency 1\n",
    "    omega2 = 2. * np.pi / 1. # circular frequency 2\n",
    "\n",
    "    # Define cos functions ...\n",
    "    t = np.arange(dt,L+dt,dt)                     # compute time vector   \n",
    "    x = np.cos(omega1*t) + .4 * np.cos(omega2*t)  # compute time series\n",
    "\n",
    "    # Compute new time vector with sample interval dtnew\n",
    "    tnew = np.arange(dtnew,L+dtnew,dtnew)    # compute time vector   \n",
    "    Nnew = len(tnew)                         # new number of time samples\n",
    "    \n",
    "    # Resample time series\n",
    "    xnew = signal.resample(x, Nnew)\n",
    "    #xnew = np.interp(tnew,t,x)\n",
    "    \n",
    "    # Initialize Plots\n",
    "    plt.figure(figsize=(10,5))\n",
    "    \n",
    "    # Plot time series\n",
    "    plt.plot(t, x, 'b', label = r'x(t), dt = .1 s')\n",
    "    label = r'$x_{new}(t),\\; dt_{new} = $' + str(dtnew) + ' s'\n",
    "    plt.plot(tnew, xnew, 'r', label = label)\n",
    "    plt.xlabel(r'Time [s]')\n",
    "    plt.ylabel(r'$\\cos(\\omega_1 t) + 0.4 \\cos(\\omega_2 t)$')\n",
    "    plt.legend(loc='upper right')\n",
    "    title = 'Resampling of time series x(t) from dt = .1 s to dtresamp = ' + str(dtnew) + ' s' \n",
    "    plt.title(title)\n",
    "    \n",
    "    print('len(tnew) = ', len(tnew))\n",
    "    print('len(t) = ', len(t))"
   ]
  },
  {
   "cell_type": "code",
   "execution_count": 17,
   "metadata": {},
   "outputs": [
    {
     "data": {
      "application/vnd.jupyter.widget-view+json": {
       "model_id": "c4620a14433843d084457c5418734844",
       "version_major": 2,
       "version_minor": 0
      },
      "text/plain": [
       "interactive(children=(FloatSlider(value=4.01, description='dtnew', max=9.0, min=0.01, step=1.0), Output(layout…"
      ]
     },
     "metadata": {},
     "output_type": "display_data"
    }
   ],
   "source": [
    "interactive_plot = interactive(cos_resamp, dtnew=(0.01, 9., 1.))\n",
    "output = interactive_plot.children[-1]\n",
    "output.layout.height = '350px'\n",
    "interactive_plot"
   ]
  },
  {
   "cell_type": "markdown",
   "metadata": {},
   "source": [
    "Das Resampeln der Zeitreihe funktioniert für kleine Vergrößerungen des Sampleintervalls. Größere Sampleintervalle führen zu Aliasing in der resampelten Zeitreihe."
   ]
  },
  {
   "cell_type": "markdown",
   "metadata": {},
   "source": [
    "### Aufgabe 4.9\n",
    "\n",
    "Definieren Sie eine Funktion $e^{-\\alpha t} \\sin(\\omega_0 t)$ im Intervall $(0 s, 40 s)$ für $\\omega_0 = \\frac{2 \\pi}{20 s}$, $\\Delta t = 2 s$ und $\\alpha = \\frac{1}{20 s}$. Berechnen Sie das Amplitudenspektrum und stellen Sie es graphisch dar. Hängen Sie im Intervall $(40 s, 120 s)$ Nullen an. Wie ändert sich das Amplitudenspektrum. Interpretieren Sie die Ergebnisse."
   ]
  },
  {
   "cell_type": "markdown",
   "metadata": {},
   "source": [
    "Um die Aufgabe zu lösen, müssen wir nur die Zeitreihe und das dazugehörige Amplitudenspektrum berechnen und plotten."
   ]
  },
  {
   "cell_type": "code",
   "execution_count": 18,
   "metadata": {},
   "outputs": [],
   "source": [
    "def resample_spec(Nzero):\n",
    "    \n",
    "    # Define parameters\n",
    "    dt = 2.                  # time sampling [s]\n",
    "    L = 40.                  # length of the time series [s]\n",
    "\n",
    "    # Define sine function ...\n",
    "    t = np.arange(0.,L+dt,dt)      # compute time vector\n",
    "    \n",
    "    omega = 2. * np.pi / 20.      # circular frequency of sine wave\n",
    "    alpha = 1. / 20.              # damping parameter alpha in exponential function\n",
    "    \n",
    "    s = np.exp(-alpha*t) * np.sin(omega*t) # compute exponential damping + sine wave\n",
    "    \n",
    "    # Add zeros to the time series\n",
    "    zeros = np.zeros(Nzero)\n",
    "    s = np.hstack((s, zeros))\n",
    "    \n",
    "    # Compute new time vector\n",
    "    N = len(s)               # length of the time series [#samples]\n",
    "    t = np.arange(0.,(N*dt),dt)      # compute time vector\n",
    "    \n",
    "    # Fourier transform\n",
    "    S = np.fft.fft(s)\n",
    "    \n",
    "    # Normalize by length of the time series\n",
    "    S = S / (N*dt)\n",
    "    \n",
    "    # estimate frequencies    \n",
    "    freq = np.fft.fftfreq(N, d=dt)\n",
    "    \n",
    "    # Initialize Plots\n",
    "    plt.figure(figsize=(20,10))\n",
    "    \n",
    "    # Plot time series\n",
    "    plt.subplot(211)\n",
    "    \n",
    "    plt.plot(t, s, 'r',label=r'$e^{-\\alpha t}sin(\\omega t)$')\n",
    "    plt.legend(loc='upper right')\n",
    "    plt.xlabel('Time (s)')\n",
    "    plt.ylabel('s(t) (s)')\n",
    "    plt.xlim(0.,np.max(t))    \n",
    "    plt.title(r'Resampling of frequency domain by adding zeros')\n",
    "    \n",
    "    # Plot Spectrum\n",
    "    plt.subplot(212)\n",
    "    \n",
    "    plt.plot(freq, np.abs(S), 'b')\n",
    "    plt.xlabel('Freq (Hz)')\n",
    "    plt.ylabel('Amplitude |X(freq)|')\n",
    "    plt.title(r'Amplitude spectrum of Time Series $s$')\n",
    "    plt.xlim(0., .24)"
   ]
  },
  {
   "cell_type": "code",
   "execution_count": 19,
   "metadata": {},
   "outputs": [
    {
     "data": {
      "application/vnd.jupyter.widget-view+json": {
       "model_id": "35630b05a43e48299b53b176afff3467",
       "version_major": 2,
       "version_minor": 0
      },
      "text/plain": [
       "interactive(children=(IntSlider(value=100, description='Nzero', max=200, step=10), Output(layout=Layout(height…"
      ]
     },
     "metadata": {},
     "output_type": "display_data"
    }
   ],
   "source": [
    "interactive_plot = interactive(resample_spec, Nzero=(0, 200, 10))\n",
    "output = interactive_plot.children[-1]\n",
    "output.layout.height = '350px'\n",
    "interactive_plot"
   ]
  },
  {
   "cell_type": "markdown",
   "metadata": {},
   "source": [
    "Das hinzufügen der Nullen am Ende der Zeitreihe verkleinert das Abtastintervall im Frequenzbereich. Allerdings fügt man effektiv eine Datenlücke in die Zeitreihe ein, was laut [Vorlesung](https://nbviewer.org/github/daniel-koehn/Geophysikalische-Signalverarbeitung/blob/master/chap_04/01_Einfluss_von_Datenluecken_auf_das_Spektrum.ipynb) zum Auftreten von Nebenmaxima im Frequenzbereich führen sollte. In diesem Beispiele sind die Nebenmaxima nicht deutlich ausgeprägt, da die Funktion exponentiell gedämpft wird, aber ansatzweise deutlich im Amplitudenspektrum sichtbar."
   ]
  }
 ],
 "metadata": {
  "anaconda-cloud": {},
  "kernelspec": {
   "display_name": "Python 3",
   "language": "python",
   "name": "python3"
  },
  "language_info": {
   "codemirror_mode": {
    "name": "ipython",
    "version": 3
   },
   "file_extension": ".py",
   "mimetype": "text/x-python",
   "name": "python",
   "nbconvert_exporter": "python",
   "pygments_lexer": "ipython3",
   "version": "3.7.4"
  }
 },
 "nbformat": 4,
 "nbformat_minor": 1
}
