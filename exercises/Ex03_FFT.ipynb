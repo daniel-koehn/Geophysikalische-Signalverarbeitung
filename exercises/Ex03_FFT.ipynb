{
 "cells": [
  {
   "cell_type": "markdown",
   "metadata": {},
   "source": [
    "###### Content under Creative Commons Attribution license CC-BY 4.0, code under BSD 3-Clause License © 2022 by D. Koehn, notebook style sheet by L.A. Barba, N.C. Clementi"
   ]
  },
  {
   "cell_type": "code",
   "execution_count": 1,
   "metadata": {},
   "outputs": [
    {
     "data": {
      "text/html": [
       "<link href=\"https://fonts.googleapis.com/css?family=Merriweather:300,300i,400,400i,700,700i,900,900i\" rel='stylesheet' >\n",
       "<link href=\"https://fonts.googleapis.com/css?family=Source+Sans+Pro:300,300i,400,400i,700,700i\" rel='stylesheet' >\n",
       "<link href='http://fonts.googleapis.com/css?family=Source+Code+Pro:300,400' rel='stylesheet' >\n",
       "<style>\n",
       "\n",
       "@font-face {\n",
       "    font-family: \"Computer Modern\";\n",
       "    src: url('http://mirrors.ctan.org/fonts/cm-unicode/fonts/otf/cmunss.otf');\n",
       "}\n",
       "\n",
       "\n",
       "#notebook_panel { /* main background */\n",
       "    background: rgb(245,245,245);\n",
       "}\n",
       "\n",
       "div.cell { /* set cell width */\n",
       "    width: 800px;\n",
       "}\n",
       "\n",
       "div #notebook { /* centre the content */\n",
       "    background: #fff; /* white background for content */\n",
       "    width: 1000px;\n",
       "    margin: auto;\n",
       "    padding-left: 0em;\n",
       "}\n",
       "\n",
       "#notebook li { /* More space between bullet points */\n",
       "margin-top:0.5em;\n",
       "}\n",
       "\n",
       "/* draw border around running cells */\n",
       "div.cell.border-box-sizing.code_cell.running { \n",
       "    border: 1px solid #111;\n",
       "}\n",
       "\n",
       "/* Put a solid color box around each cell and its output, visually linking them*/\n",
       "div.cell.code_cell {\n",
       "    background-color: rgb(256,256,256); \n",
       "    border-radius: 0px; \n",
       "    padding: 0.5em;\n",
       "    margin-left:1em;\n",
       "    margin-top: 1em;\n",
       "}\n",
       "\n",
       "\n",
       "div.text_cell_render{\n",
       "    font-family: 'Source Sans Pro', sans-serif;\n",
       "    line-height: 140%;\n",
       "    font-size: 110%;\n",
       "    width:680px;\n",
       "    margin-left:auto;\n",
       "    margin-right:auto;\n",
       "}\n",
       "\n",
       "/* Formatting for header cells */\n",
       ".text_cell_render h1 {\n",
       "    font-family: 'Merriweather', serif;\n",
       "    font-style:regular;\n",
       "    font-weight: bold;    \n",
       "    font-size: 250%;\n",
       "    line-height: 100%;\n",
       "    color: #004065;\n",
       "    margin-bottom: 1em;\n",
       "    margin-top: 0.5em;\n",
       "    display: block;\n",
       "}\t\n",
       ".text_cell_render h2 {\n",
       "    font-family: 'Merriweather', serif;\n",
       "    font-weight: bold; \n",
       "    font-size: 180%;\n",
       "    line-height: 100%;\n",
       "    color: #0096d6;\n",
       "    margin-bottom: 0.5em;\n",
       "    margin-top: 0.5em;\n",
       "    display: block;\n",
       "}\t\n",
       "\n",
       ".text_cell_render h3 {\n",
       "    font-family: 'Merriweather', serif;\n",
       "\tfont-size: 150%;\n",
       "    margin-top:12px;\n",
       "    margin-bottom: 3px;\n",
       "    font-style: regular;\n",
       "    color: #008367;\n",
       "}\n",
       "\n",
       ".text_cell_render h4 {    /*Use this for captions*/\n",
       "    font-family: 'Merriweather', serif;\n",
       "    font-weight: 300; \n",
       "    font-size: 100%;\n",
       "    line-height: 120%;\n",
       "    text-align: left;\n",
       "    width:500px;\n",
       "    margin-top: 1em;\n",
       "    margin-bottom: 2em;\n",
       "    margin-left: 80pt;\n",
       "    font-style: regular;\n",
       "}\n",
       "\n",
       ".text_cell_render h5 {  /*Use this for small titles*/\n",
       "    font-family: 'Source Sans Pro', sans-serif;\n",
       "    font-weight: regular;\n",
       "    font-size: 130%;\n",
       "    color: #e31937;\n",
       "    font-style: italic;\n",
       "    margin-bottom: .5em;\n",
       "    margin-top: 1em;\n",
       "    display: block;\n",
       "}\n",
       "\n",
       ".text_cell_render h6 { /*use this for copyright note*/\n",
       "    font-family: 'Source Code Pro', sans-serif;\n",
       "    font-weight: 300;\n",
       "    font-size: 9pt;\n",
       "    line-height: 100%;\n",
       "    color: grey;\n",
       "    margin-bottom: 1px;\n",
       "    margin-top: 1px;\n",
       "}\n",
       "\n",
       "    .CodeMirror{\n",
       "            font-family: \"Source Code Pro\";\n",
       "\t\t\tfont-size: 90%;\n",
       "    }\n",
       "/*    .prompt{\n",
       "        display: None;\n",
       "    }*/\n",
       "\t\n",
       "    \n",
       "    .warning{\n",
       "        color: rgb( 240, 20, 20 )\n",
       "        }  \n",
       "</style>\n",
       "<script>\n",
       "    MathJax.Hub.Config({\n",
       "                        TeX: {\n",
       "                           extensions: [\"AMSmath.js\"], \n",
       "                           equationNumbers: { autoNumber: \"AMS\", useLabelIds: true}\n",
       "                           },\n",
       "                tex2jax: {\n",
       "                    inlineMath: [ ['$','$'], [\"\\\\(\",\"\\\\)\"] ],\n",
       "                    displayMath: [ ['$$','$$'], [\"\\\\[\",\"\\\\]\"] ]\n",
       "                },\n",
       "                displayAlign: 'center', // Change this to 'center' to center equations.\n",
       "                \"HTML-CSS\": {\n",
       "                    styles: {'.MathJax_Display': {\"margin\": 4}}\n",
       "                }\n",
       "        });\n",
       "</script>\n"
      ],
      "text/plain": [
       "<IPython.core.display.HTML object>"
      ]
     },
     "execution_count": 1,
     "metadata": {},
     "output_type": "execute_result"
    }
   ],
   "source": [
    "# Execute this cell to load the notebook's style sheet, then ignore it\n",
    "from IPython.core.display import HTML\n",
    "css_file = '../style/custom.css'\n",
    "HTML(open(css_file, \"r\").read())"
   ]
  },
  {
   "cell_type": "markdown",
   "metadata": {},
   "source": [
    "# Digitale Signalverarbeitung: Mathematische Grundlagen"
   ]
  },
  {
   "cell_type": "markdown",
   "metadata": {},
   "source": [
    "## Aufgabe 3.2  \n",
    "\n",
    "Definieren Sie eine Sinusfunktion mit einer Periode von 25 s und berechnen Sie das Spektrum. Stellen Sie das Amplitudenspektrum, den Realteil und den Imaginärteil grafisch in einem geeigneten positiven Frequenzbereich grafisch dar. Der Abtastschritt soll 0.1 s betragen. Die Anzahl der Werte muss so gewählt werden, dass genau ein ganzzahliges Vielfache der Periode in dem Beobachtungsintervall dargestellt wird. Achten Sie weiter darauf, dass die Sinusfunktion ein Leistungssignal ist und dass Sie das Spektrum entsprechend normieren. Wollen Sie den doppelten Wert des Amplitudenspektrums darstellen? Warum? Die Länge des Beobachtungsintervalls soll nacheinander die folgenden Werte annehmen:\n",
    "\n",
    "- 50 s,\n",
    "- 100 s,\n",
    "- 1000 s,\n",
    "- 10000 s.\n",
    "\n",
    "Interpretieren Sie die Ergebnisse. Wie verändert sich der Abtastschritt im Frequenzbereich?"
   ]
  },
  {
   "cell_type": "code",
   "execution_count": 2,
   "metadata": {
    "code_folding": [
     0
    ]
   },
   "outputs": [],
   "source": [
    "# Import Libraries\n",
    "%matplotlib inline\n",
    "import numpy as np\n",
    "import matplotlib.pyplot as plt"
   ]
  },
  {
   "cell_type": "markdown",
   "metadata": {},
   "source": [
    "Wir beginnen mit der Definition der Periode der Sinusfunktion und dem zeitlichen Sampleintervall."
   ]
  },
  {
   "cell_type": "code",
   "execution_count": 3,
   "metadata": {
    "code_folding": []
   },
   "outputs": [],
   "source": [
    "# Define parameters\n",
    "T = 25.                  # period\n",
    "dt = .1                  # time sampling"
   ]
  },
  {
   "cell_type": "markdown",
   "metadata": {},
   "source": [
    "Da wir laut Aufgabenstellung unterschiedlich lange Zeitreihen erzeugen sollen, ist es naheliegend diese allgemein in einer Funktion zu definieren und anschließend nur die Eingabeparameter zu variieren."
   ]
  },
  {
   "cell_type": "code",
   "execution_count": 4,
   "metadata": {},
   "outputs": [],
   "source": [
    "def def_sine(T,dt,L):\n",
    "    \n",
    "    omega = 2. * np.pi / T   # compute circular frequency from period\n",
    "    t = np.arange(0,L+dt,dt) # compute time vector\n",
    "    x = np.sin(omega*t)      # compute sine wave\n",
    "    \n",
    "    return t,x"
   ]
  },
  {
   "cell_type": "markdown",
   "metadata": {},
   "source": [
    "Mit der Funktion `def_sine` können wir nur einfach die gewünschten Zeitreihen erzeugen."
   ]
  },
  {
   "cell_type": "code",
   "execution_count": 5,
   "metadata": {},
   "outputs": [],
   "source": [
    "t_25, x_25 = def_sine(T,dt,25)\n",
    "t_50, x_50 = def_sine(T,dt,50)\n",
    "t_100, x_100 = def_sine(T,dt,100)\n",
    "t_1000, x_1000 = def_sine(T,dt,1000)\n",
    "t_10000, x_10000 = def_sine(T,dt,10000)"
   ]
  },
  {
   "cell_type": "markdown",
   "metadata": {},
   "source": [
    "Mit der `Numpy` Funktion [fft.fft](https://numpy.org/doc/stable/reference/generated/numpy.fft.fft.html) können wir die Fouriertransformation ausrechnen, mit der Funktion [fft.fftfreq](https://numpy.org/doc/stable/reference/generated/numpy.fft.fftfreq.html) die dazugehörigen Frequenzen. Da es sich bei der Sinusfunktion um ein Leistungssignal handelt, normieren wir die fouriertransformierte Zeitreihe auf die Länge des Beobachtungsintervalls $L = N dt$, wobei $N$ die Zahl der Zeitsample und $dt$ das Sampleintervall bezeichnen. Alle Schritte fassen wir in der Funktion `x_fft` zusammen ..."
   ]
  },
  {
   "cell_type": "code",
   "execution_count": 6,
   "metadata": {},
   "outputs": [],
   "source": [
    "def x_fft(x,dt):\n",
    "    \n",
    "    # Fourier transform\n",
    "    X = np.fft.fft(x)\n",
    "    \n",
    "    # Normalize by length of the time series\n",
    "    N = len(x)\n",
    "    X = X / (N*dt)\n",
    "    \n",
    "    # estimate frequencies    \n",
    "    freq = np.fft.fftfreq(N, d=dt)\n",
    "    \n",
    "    return freq,X"
   ]
  },
  {
   "cell_type": "markdown",
   "metadata": {},
   "source": [
    "... und wenden diese auf die Zeitreihen an."
   ]
  },
  {
   "cell_type": "code",
   "execution_count": 7,
   "metadata": {},
   "outputs": [],
   "source": [
    "# Compute FFT and frequencies\n",
    "freq_25, X_25 = x_fft(x_25,dt)\n",
    "freq_50, X_50 = x_fft(x_50,dt)\n",
    "freq_100, X_100 = x_fft(x_100,dt)\n",
    "freq_1000, X_1000 = x_fft(x_1000,dt)\n",
    "freq_10000, X_10000 = x_fft(x_10000,dt)"
   ]
  },
  {
   "cell_type": "markdown",
   "metadata": {},
   "source": [
    "Anschließend plotten wir die Amplitudenspektren ..."
   ]
  },
  {
   "cell_type": "code",
   "execution_count": 8,
   "metadata": {},
   "outputs": [
    {
     "data": {
      "text/plain": [
       "(0, 0.15)"
      ]
     },
     "execution_count": 8,
     "metadata": {},
     "output_type": "execute_result"
    },
    {
     "data": {
      "image/png": "[encoded data removed]",
      "text/plain": [
       "<Figure size 432x288 with 1 Axes>"
      ]
     },
     "metadata": {
      "needs_background": "light"
     },
     "output_type": "display_data"
    }
   ],
   "source": [
    "plt.plot(freq_25, np.abs(X_25), 'r', label='L = 25 s')\n",
    "plt.plot(freq_50, np.abs(X_50), 'g', label='L = 50 s')\n",
    "plt.plot(freq_100, np.abs(X_100), 'b', label='L = 100 s')\n",
    "plt.plot(freq_1000, np.abs(X_1000), 'm', label='L = 1000 s')\n",
    "plt.plot(freq_10000, np.abs(X_10000), 'c', label='L = 10000 s')\n",
    "plt.xlabel('Freq (Hz)')\n",
    "plt.ylabel('Amplitude |X(freq)|')\n",
    "plt.title('Amplitude spectra')\n",
    "plt.legend()\n",
    "plt.xlim(0, 0.15)"
   ]
  },
  {
   "cell_type": "markdown",
   "metadata": {},
   "source": [
    "Man sieht sehr deutlich, daß bei einer Verlängerung der Zeitreihe das Amplitudenspektrum besser aufgelöst wird. Entfernt man die Normierung der Fouriertransformation auf die Länge des Beobachtungsintervalls, sieht man auch daß die Amplitude des Peaks mit zunehmender Länge des Beobachtungsintervalls zunimmt. Im Extremfall einer unendlich langen Zeitreihe erhalten wir den Diracschen $\\delta$-Impuls.\n",
    "\n",
    "Man könnte das Amplitudenspektrum noch mit einem Faktor 2 mulitplizieren, um die Energie,  welche in dem zweiten Peak bei -0.04 Hz vorhanden ist, diesem Peak bei 0.4 Hz hinzufügen. Damit würde man die Gesamtenergie der Zeitreihe veranschaulichen, dabei allerdings ignorieren, daß die Gesamtenergie auf den positiven und negativen Peak verteilt ist. "
   ]
  },
  {
   "cell_type": "markdown",
   "metadata": {},
   "source": [
    "Schließlich plotten wir den Real- ..."
   ]
  },
  {
   "cell_type": "code",
   "execution_count": 9,
   "metadata": {},
   "outputs": [
    {
     "data": {
      "text/plain": [
       "(0, 0.15)"
      ]
     },
     "execution_count": 9,
     "metadata": {},
     "output_type": "execute_result"
    },
    {
     "data": {
      "image/png": "[encoded data removed]",
      "text/plain": [
       "<Figure size 432x288 with 1 Axes>"
      ]
     },
     "metadata": {
      "needs_background": "light"
     },
     "output_type": "display_data"
    }
   ],
   "source": [
    "plt.plot(freq_25, np.real(X_25), 'r', label='L = 25 s')\n",
    "plt.plot(freq_50, np.real(X_50), 'g', label='L = 50 s')\n",
    "plt.plot(freq_100, np.real(X_100), 'b', label='L = 100 s')\n",
    "plt.plot(freq_1000, np.real(X_1000), 'm', label='L = 1000 s')\n",
    "plt.plot(freq_10000, np.real(X_10000), 'c', label='L = 10000 s')\n",
    "plt.xlabel('Freq (Hz)')\n",
    "plt.ylabel('Re(X)')\n",
    "plt.title('Real Part')\n",
    "plt.legend()\n",
    "plt.xlim(0, 0.15)"
   ]
  },
  {
   "cell_type": "markdown",
   "metadata": {},
   "source": [
    "... und Imaginärteil."
   ]
  },
  {
   "cell_type": "code",
   "execution_count": 10,
   "metadata": {},
   "outputs": [
    {
     "data": {
      "text/plain": [
       "(0, 0.15)"
      ]
     },
     "execution_count": 10,
     "metadata": {},
     "output_type": "execute_result"
    },
    {
     "data": {
      "image/png": "[encoded data removed]",
      "text/plain": [
       "<Figure size 432x288 with 1 Axes>"
      ]
     },
     "metadata": {
      "needs_background": "light"
     },
     "output_type": "display_data"
    }
   ],
   "source": [
    "plt.plot(freq_25, np.imag(X_25), 'r', label='L = 25 s')\n",
    "plt.plot(freq_50, np.imag(X_50), 'g', label='L = 50 s')\n",
    "plt.plot(freq_100, np.imag(X_100), 'b', label='L = 100 s')\n",
    "plt.plot(freq_1000, np.imag(X_1000), 'm', label='L = 1000 s')\n",
    "plt.plot(freq_10000, np.imag(X_10000), 'c', label='L = 10000 s')\n",
    "plt.xlabel('Freq (Hz)')\n",
    "plt.ylabel('Im(X)')\n",
    "plt.title('Imaginary Part')\n",
    "plt.legend()\n",
    "plt.xlim(0, 0.15)"
   ]
  },
  {
   "cell_type": "markdown",
   "metadata": {},
   "source": [
    "Warum hat die numerische FFT der Sinusfunktion eigentlich einen Realteil? Bei der kontinuierlichen Sinusfunktion ist der Realteil gleich Null."
   ]
  },
  {
   "cell_type": "markdown",
   "metadata": {},
   "source": [
    "## Aufgabe 3.2  \n",
    "\n",
    "Verändern sie die Periode der Sinusfunktion auf 22 s und wiederholen Sie die Berechnungen der vorangegangenen Aufgabe für die dort angegebenen Längen des Beobachtungsintervalls, die jetzt keine ganzzahligen Vielfache der Periode mehr sind. Interpretieren Sie die Ergebnisse."
   ]
  },
  {
   "cell_type": "code",
   "execution_count": 11,
   "metadata": {
    "code_folding": []
   },
   "outputs": [],
   "source": [
    "# Define parameters\n",
    "T1 = 22.                 # new period\n",
    "dt = .1                  # time sampling"
   ]
  },
  {
   "cell_type": "markdown",
   "metadata": {},
   "source": [
    "Definition der neuen Zeitreihen ..."
   ]
  },
  {
   "cell_type": "code",
   "execution_count": 12,
   "metadata": {},
   "outputs": [],
   "source": [
    "t_25, x_25 = def_sine(T1,dt,25)\n",
    "t_50, x_50 = def_sine(T1,dt,50)\n",
    "t_100, x_100 = def_sine(T1,dt,100)\n",
    "t_1000, x_1000 = def_sine(T1,dt,1000)\n",
    "t_10000, x_10000 = def_sine(T1,dt,10000)"
   ]
  },
  {
   "cell_type": "markdown",
   "metadata": {},
   "source": [
    "... und deren Fouriertransformierte und Amplitudenspektren."
   ]
  },
  {
   "cell_type": "code",
   "execution_count": 13,
   "metadata": {},
   "outputs": [
    {
     "data": {
      "text/plain": [
       "(0, 0.15)"
      ]
     },
     "execution_count": 13,
     "metadata": {},
     "output_type": "execute_result"
    },
    {
     "data": {
      "image/png": "[encoded data removed]",
      "text/plain": [
       "<Figure size 432x288 with 1 Axes>"
      ]
     },
     "metadata": {
      "needs_background": "light"
     },
     "output_type": "display_data"
    }
   ],
   "source": [
    "# Compute FFT and frequencies\n",
    "freq_25, X_25 = x_fft(x_25,dt)\n",
    "freq_50, X_50 = x_fft(x_50,dt)\n",
    "freq_100, X_100 = x_fft(x_100,dt)\n",
    "freq_1000, X_1000 = x_fft(x_1000,dt)\n",
    "freq_10000, X_10000 = x_fft(x_10000,dt)\n",
    "\n",
    "plt.plot(freq_25, np.abs(X_25), 'r', label='L = 25 s')\n",
    "plt.plot(freq_50, np.abs(X_50), 'g', label='L = 50 s')\n",
    "plt.plot(freq_100, np.abs(X_100), 'b', label='L = 100 s')\n",
    "plt.plot(freq_1000, np.abs(X_1000), 'm', label='L = 1000 s')\n",
    "plt.plot(freq_10000, np.abs(X_10000), 'c', label='L = 10000 s')\n",
    "plt.xlabel('Freq (Hz)')\n",
    "plt.ylabel('FFT Amplitude |X(freq)|')\n",
    "plt.title('Amplitude spectra')\n",
    "plt.legend()\n",
    "plt.xlim(0, .15)"
   ]
  },
  {
   "cell_type": "markdown",
   "metadata": {},
   "source": [
    "Im Vergleich zu den Amplitudenspektren des Sinussignals bei T = 25 s sieht man bei T = 22 s und großen Längen der Zeitreihe eine deutlich Verschiebung des Maximums des Peaks zu $\\frac{1}{22\\; s} = 0.045 Hz$. Bei kürzeren Zeitreihen, welche die Sinusfunktion nur über wenige Perioden abtasten, tritt der Peak der Spektrallinie bei einer falschen Frequenz auf. Darüberhinaus erscheinen die Linien breiter. Dies kann man dadurch erklären, daß die Zeitreihen nicht mehr periodisch sind."
   ]
  },
  {
   "cell_type": "markdown",
   "metadata": {},
   "source": [
    "## Aufgabe 3.3 \n",
    "\n",
    "Definieren Sie ein zweidimensionales Feld $\\cos(k_x x)\\cos(k_y y)$ mit $k_x = 2\\pi/(50 \\mbox{m})$ und $k_y = 0$. Das Intervall soll in x- und y-Richtung jeweils $(0,200 \\mbox{m})$ sein. Der Abtastschritt soll in x- und y-Richtung 1 m sein. Stellen Sie das Amplitudenspektrum der zweidimensionale Fourtransformation im zweidimensionalen Intervall$-0.1 \\mbox{m} \\leq k_x \\leq 0.1 \\mbox{m}$ und $-0.1 \\mbox{m} \\leq k_y \\leq 0.1 \\mbox{m}$ graphisch dar. Interpretieren Sie die Ergebnisse."
   ]
  },
  {
   "cell_type": "code",
   "execution_count": 14,
   "metadata": {},
   "outputs": [
    {
     "data": {
      "image/png": "[encoded data removed]",
      "text/plain": [
       "<Figure size 576x576 with 2 Axes>"
      ]
     },
     "metadata": {
      "needs_background": "light"
     },
     "output_type": "display_data"
    }
   ],
   "source": [
    "# Definitionen\n",
    "dh = 1. # räumliche Abtastung\n",
    "\n",
    "# Wellenzahlen in x- und y-Richtung\n",
    "kx = 2. * np.pi / 50.\n",
    "ky = 0.\n",
    "\n",
    "# 2D Koordinaten\n",
    "X, Y = np.meshgrid(np.arange(0, 200., 1.), np.arange(0, 200., 1.))\n",
    "\n",
    "# Berechne zweidimensionales Wellenfeld\n",
    "f = np.cos(kx*X)*np.cos(ky*Y)\n",
    "\n",
    "# Image size\n",
    "plt.figure(figsize=(8,8))\n",
    "\n",
    "# Plotte Wellenfeld f\n",
    "image = plt.imshow(f, cmap=plt.cm.seismic_r, interpolation='nearest', \n",
    "                   extent=[np.min(X),np.max(X),np.min(Y),np.max(Y)],aspect=1)\n",
    "\n",
    "cbar = plt.colorbar(aspect=5.55, pad=0.02)\n",
    "cbar.set_label('f(x,y)', labelpad=10)\n",
    "plt.title('Wellenfeld f')\n",
    "plt.xlabel('x [m]')\n",
    "plt.ylabel('y [m]')\n",
    "plt.show()"
   ]
  },
  {
   "cell_type": "markdown",
   "metadata": {},
   "source": [
    "Berechne 2D Fouriertransformation des Wellenfeldes f(x,y) mit der `NumPy` Funktion [fft2](https://numpy.org/doc/stable/reference/generated/numpy.fft.fft2.html) und verschiebe den Nullpunkt in die Mitte des 2D Spektrums mit [fftshift](https://numpy.org/doc/stable/reference/generated/numpy.fft.fftshift.html)"
   ]
  },
  {
   "cell_type": "code",
   "execution_count": 15,
   "metadata": {},
   "outputs": [],
   "source": [
    "# 2D FFT\n",
    "F = np.fft.fft2(f)\n",
    "\n",
    "# Normalize 2D FFT\n",
    "Nx, Ny = np.shape(F)\n",
    "F = F / (dh*Nx)\n",
    "\n",
    "# Shift zero-frequency to the center of the 2D spectrum\n",
    "F = np.fft.fftshift(F, axes=None)"
   ]
  },
  {
   "cell_type": "markdown",
   "metadata": {},
   "source": [
    "Berechne Kreiswellenzahlen KX, KY"
   ]
  },
  {
   "cell_type": "code",
   "execution_count": 16,
   "metadata": {},
   "outputs": [],
   "source": [
    "# Compute wavenumbers in x- and y-direction\n",
    "KX = np.arange(-Nx//2, Nx//2, 1)\n",
    "KY = np.arange(-Ny//2, Ny//2, 1)\n",
    "\n",
    "KX = 2. * np.pi * KX / (dh*Nx)\n",
    "KY = 2. * np.pi * KY / (dh*Ny)"
   ]
  },
  {
   "cell_type": "markdown",
   "metadata": {},
   "source": [
    "Plotte 2D Amplitudenspektrum"
   ]
  },
  {
   "cell_type": "code",
   "execution_count": 17,
   "metadata": {},
   "outputs": [
    {
     "data": {
      "image/png": "[encoded data removed]",
      "text/plain": [
       "<Figure size 576x576 with 2 Axes>"
      ]
     },
     "metadata": {
      "needs_background": "light"
     },
     "output_type": "display_data"
    }
   ],
   "source": [
    "# Plotte 2D Amplitudenspektrum\n",
    "\n",
    "# Image size\n",
    "plt.figure(figsize=(8,8))\n",
    "\n",
    "# Plotte Wellenfeld f\n",
    "levels = np.linspace(np.min(np.abs(F)), np.max(np.abs(F)), num=101)\n",
    "plt.contourf(KX, KY, np.abs(F),levels=levels,cmap='magma')\n",
    "\n",
    "cbar = plt.colorbar(aspect=8, pad=0.02)\n",
    "cbar.set_label('F(x,y)', labelpad=10)\n",
    "plt.title('Amplitudenspektrum des Wellenfelds f(x,y)')\n",
    "plt.xlabel('Kx [1/m]')\n",
    "plt.ylabel('´Ky [1/m]')\n",
    "xylim = .3\n",
    "plt.xlim([-xylim,xylim])\n",
    "plt.ylim([-xylim,xylim])\n",
    "plt.show()"
   ]
  },
  {
   "cell_type": "markdown",
   "metadata": {},
   "source": [
    "Im Amplitudenspektrum sollten theoretisch zwei Maxima bei Kreiswellenzahlen $(Kx_1,Ky_1)$ = $(\\frac{2\\pi}{50},0)$ und $(Kx_2,Ky_2)$ = $(-\\frac{2\\pi}{50},0)$ auftreten. Also bei ... "
   ]
  },
  {
   "cell_type": "code",
   "execution_count": 18,
   "metadata": {},
   "outputs": [
    {
     "name": "stdout",
     "output_type": "stream",
     "text": [
      "Kx1 =  0.12566370614359174\n",
      "Kx2 =  -0.12566370614359174\n"
     ]
    }
   ],
   "source": [
    "Kx1 = 2. * np.pi / 50\n",
    "Kx2 = -2. * np.pi / 50\n",
    "print('Kx1 = ', Kx1)\n",
    "print('Kx2 = ', Kx2)"
   ]
  },
  {
   "cell_type": "markdown",
   "metadata": {},
   "source": [
    "... auftreten. Dieses können wir verifizieren, indem wir mit der `NumPy` Funktion `where` bestimmen, bei welchen Indices das normierte Amplitudenspektrum einen Wert von 99 oder größer annimmt ..."
   ]
  },
  {
   "cell_type": "code",
   "execution_count": 19,
   "metadata": {},
   "outputs": [
    {
     "name": "stdout",
     "output_type": "stream",
     "text": [
      "(array([100, 100], dtype=int64), array([ 96, 104], dtype=int64))\n"
     ]
    }
   ],
   "source": [
    "out = np.where(np.abs(F)>=99)\n",
    "print(out)"
   ]
  },
  {
   "cell_type": "markdown",
   "metadata": {},
   "source": [
    "... und für diese Indices die entsprechenden Wellenzahl bestimmen:"
   ]
  },
  {
   "cell_type": "code",
   "execution_count": 20,
   "metadata": {},
   "outputs": [
    {
     "data": {
      "text/plain": [
       "-0.12566370614359174"
      ]
     },
     "execution_count": 20,
     "metadata": {},
     "output_type": "execute_result"
    }
   ],
   "source": [
    "KX[96]"
   ]
  },
  {
   "cell_type": "code",
   "execution_count": 21,
   "metadata": {},
   "outputs": [
    {
     "data": {
      "text/plain": [
       "0.12566370614359174"
      ]
     },
     "execution_count": 21,
     "metadata": {},
     "output_type": "execute_result"
    }
   ],
   "source": [
    "KX[104]"
   ]
  }
 ],
 "metadata": {
  "anaconda-cloud": {},
  "kernelspec": {
   "display_name": "Python 3",
   "language": "python",
   "name": "python3"
  },
  "language_info": {
   "codemirror_mode": {
    "name": "ipython",
    "version": 3
   },
   "file_extension": ".py",
   "mimetype": "text/x-python",
   "name": "python",
   "nbconvert_exporter": "python",
   "pygments_lexer": "ipython3",
   "version": "3.6.8"
  }
 },
 "nbformat": 4,
 "nbformat_minor": 1
}
