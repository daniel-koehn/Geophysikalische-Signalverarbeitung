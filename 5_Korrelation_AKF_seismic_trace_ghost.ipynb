{
 "cells": [
  {
   "cell_type": "markdown",
   "metadata": {},
   "source": [
    "###### Content under Creative Commons Attribution license CC-BY 4.0, code under BSD 3-Clause License © 2018  by D. Koehn, T. Meier, R. Hartmann and C. Huebscher, notebook style sheet by L.A. Barba, N.C. Clementi"
   ]
  },
  {
   "cell_type": "code",
   "execution_count": 1,
   "metadata": {},
   "outputs": [
    {
     "data": {
      "text/html": [
       "<link href=\"https://fonts.googleapis.com/css?family=Merriweather:300,300i,400,400i,700,700i,900,900i\" rel='stylesheet' >\n",
       "<link href=\"https://fonts.googleapis.com/css?family=Source+Sans+Pro:300,300i,400,400i,700,700i\" rel='stylesheet' >\n",
       "<link href='http://fonts.googleapis.com/css?family=Source+Code+Pro:300,400' rel='stylesheet' >\n",
       "<style>\n",
       "\n",
       "@font-face {\n",
       "    font-family: \"Computer Modern\";\n",
       "    src: url('http://mirrors.ctan.org/fonts/cm-unicode/fonts/otf/cmunss.otf');\n",
       "}\n",
       "\n",
       "\n",
       "#notebook_panel { /* main background */\n",
       "    background: rgb(245,245,245);\n",
       "}\n",
       "\n",
       "div.cell { /* set cell width */\n",
       "    width: 800px;\n",
       "}\n",
       "\n",
       "div #notebook { /* centre the content */\n",
       "    background: #fff; /* white background for content */\n",
       "    width: 1000px;\n",
       "    margin: auto;\n",
       "    padding-left: 0em;\n",
       "}\n",
       "\n",
       "#notebook li { /* More space between bullet points */\n",
       "margin-top:0.5em;\n",
       "}\n",
       "\n",
       "/* draw border around running cells */\n",
       "div.cell.border-box-sizing.code_cell.running { \n",
       "    border: 1px solid #111;\n",
       "}\n",
       "\n",
       "/* Put a solid color box around each cell and its output, visually linking them*/\n",
       "div.cell.code_cell {\n",
       "    background-color: rgb(256,256,256); \n",
       "    border-radius: 0px; \n",
       "    padding: 0.5em;\n",
       "    margin-left:1em;\n",
       "    margin-top: 1em;\n",
       "}\n",
       "\n",
       "\n",
       "div.text_cell_render{\n",
       "    font-family: 'Source Sans Pro', sans-serif;\n",
       "    line-height: 140%;\n",
       "    font-size: 110%;\n",
       "    width:680px;\n",
       "    margin-left:auto;\n",
       "    margin-right:auto;\n",
       "}\n",
       "\n",
       "/* Formatting for header cells */\n",
       ".text_cell_render h1 {\n",
       "    font-family: 'Merriweather', serif;\n",
       "    font-style:regular;\n",
       "    font-weight: bold;    \n",
       "    font-size: 250%;\n",
       "    line-height: 100%;\n",
       "    color: #004065;\n",
       "    margin-bottom: 1em;\n",
       "    margin-top: 0.5em;\n",
       "    display: block;\n",
       "}\t\n",
       ".text_cell_render h2 {\n",
       "    font-family: 'Merriweather', serif;\n",
       "    font-weight: bold; \n",
       "    font-size: 180%;\n",
       "    line-height: 100%;\n",
       "    color: #0096d6;\n",
       "    margin-bottom: 0.5em;\n",
       "    margin-top: 0.5em;\n",
       "    display: block;\n",
       "}\t\n",
       "\n",
       ".text_cell_render h3 {\n",
       "    font-family: 'Merriweather', serif;\n",
       "\tfont-size: 150%;\n",
       "    margin-top:12px;\n",
       "    margin-bottom: 3px;\n",
       "    font-style: regular;\n",
       "    color: #008367;\n",
       "}\n",
       "\n",
       ".text_cell_render h4 {    /*Use this for captions*/\n",
       "    font-family: 'Merriweather', serif;\n",
       "    font-weight: 300; \n",
       "    font-size: 100%;\n",
       "    line-height: 120%;\n",
       "    text-align: left;\n",
       "    width:500px;\n",
       "    margin-top: 1em;\n",
       "    margin-bottom: 2em;\n",
       "    margin-left: 80pt;\n",
       "    font-style: regular;\n",
       "}\n",
       "\n",
       ".text_cell_render h5 {  /*Use this for small titles*/\n",
       "    font-family: 'Source Sans Pro', sans-serif;\n",
       "    font-weight: regular;\n",
       "    font-size: 130%;\n",
       "    color: #e31937;\n",
       "    font-style: italic;\n",
       "    margin-bottom: .5em;\n",
       "    margin-top: 1em;\n",
       "    display: block;\n",
       "}\n",
       "\n",
       ".text_cell_render h6 { /*use this for copyright note*/\n",
       "    font-family: 'Source Code Pro', sans-serif;\n",
       "    font-weight: 300;\n",
       "    font-size: 9pt;\n",
       "    line-height: 100%;\n",
       "    color: grey;\n",
       "    margin-bottom: 1px;\n",
       "    margin-top: 1px;\n",
       "}\n",
       "\n",
       "    .CodeMirror{\n",
       "            font-family: \"Source Code Pro\";\n",
       "\t\t\tfont-size: 90%;\n",
       "    }\n",
       "/*    .prompt{\n",
       "        display: None;\n",
       "    }*/\n",
       "\t\n",
       "    \n",
       "    .warning{\n",
       "        color: rgb( 240, 20, 20 )\n",
       "        }  \n",
       "</style>\n",
       "<script>\n",
       "    MathJax.Hub.Config({\n",
       "                        TeX: {\n",
       "                           extensions: [\"AMSmath.js\"], \n",
       "                           equationNumbers: { autoNumber: \"AMS\", useLabelIds: true}\n",
       "                           },\n",
       "                tex2jax: {\n",
       "                    inlineMath: [ ['$','$'], [\"\\\\(\",\"\\\\)\"] ],\n",
       "                    displayMath: [ ['$$','$$'], [\"\\\\[\",\"\\\\]\"] ]\n",
       "                },\n",
       "                displayAlign: 'center', // Change this to 'center' to center equations.\n",
       "                \"HTML-CSS\": {\n",
       "                    styles: {'.MathJax_Display': {\"margin\": 4}}\n",
       "                }\n",
       "        });\n",
       "</script>\n"
      ],
      "text/plain": [
       "<IPython.core.display.HTML object>"
      ]
     },
     "execution_count": 1,
     "metadata": {},
     "output_type": "execute_result"
    }
   ],
   "source": [
    "# Execute this cell to load the notebook's style sheet, then ignore it\n",
    "from IPython.core.display import HTML\n",
    "css_file = 'style/custom.css'\n",
    "HTML(open(css_file, \"r\").read())"
   ]
  },
  {
   "cell_type": "markdown",
   "metadata": {},
   "source": [
    "# AKF einer seismischen Spur\n",
    "\n",
    "Als elementares, geophysikalisches Anwendungsbeispiel der Autokovarianzfunktion betrachten wir die AKF einer seismischen Spur mit bzw. ohne Ghost und diskutieren deren Eigenschaften im Frequenzbereich. "
   ]
  },
  {
   "cell_type": "markdown",
   "metadata": {},
   "source": [
    "## AKF einer seismischen Spur\n",
    "\n",
    "Sei \n",
    "\n",
    "$s_{i}=w_{i}\\ast r_{i}=\\sum\\limits_{k}w_{k}\\cdot r_{i-k}$ \n",
    "\n",
    "eine seismische Spur bestehend aus dem deterministischen Wavelet $w_{i}$ und der Reflektivität $r_{i}$. Die Reflektivität $\\{r_{i}\\}$ ist ein [iid](https://de.wikipedia.org/wiki/Unabh%C3%A4ngig_und_identisch_verteilte_Zufallsvariablen)-Zufallsprozess, sodass analog zu dem [Beispiel der AKV eines Zufallsprozesses](https://nbviewer.jupyter.org/github/daniel-koehn/Geophysikalische-Signalverarbeitung/blob/master/3_Korrelation_AKF_Beispiele.ipynb)  für ihre Autokovarianz gilt: \n",
    "\n",
    "$\\rho_{r,r}(i)=\\sigma_{r}^{2}\\delta(i)$. \n",
    "\n",
    "Dann ist die Autokovarianz der seismischen Spur:\n",
    "\n",
    "\\begin{equation}\n",
    "\\begin{split}\n",
    "\\rho_{s,s}(i)&=E[s_{j}\\cdot s_{j+i}]\\\\\n",
    "&=E\\left[\\sum\\limits_{k}w_{k}r_{j-k}\\cdot\\sum\\limits_{l}w_{l}r_{(j+i)-l}\\right]\\\\\n",
    "&=\\sum\\limits_{k,l}w_{k}w_{l}E[r_{j-k}\\cdot r_{j+i-l}]\\\\\n",
    "&=\\begin{cases}\n",
    "\\sum\\limits_{k,l}w_{k}w_{l}\\sigma_{r}^{2}&:j-k=j+i-l\\Leftrightarrow l=k+i\\\\\n",
    "0&:\\text{ sonst}\n",
    "\\end{cases}\\\\\n",
    "&=\\sigma_{r}^{2}\\sum\\limits_{k}w_{k}w_{k+i}\\\\\n",
    "&=\\sigma_{r}^{2}\\cdot\\rho_{w,w}(i)\n",
    "\\end{split}\n",
    "\\notag\n",
    "\\end{equation}\n",
    "\n",
    "Die Autokovarianz der Seismischen Spur ist proportional zur AKF des Wavelets: $\\rho_{s,s}(i)\\propto\\rho_{w,w}(i)$.\n",
    "\n",
    "Für die Spektren gilt demnach:\n",
    "\n",
    "\\begin{align}\n",
    "\\mathfrak{F}\\{\\rho_{s,s}(i)\\}&=\\sigma _{r}^{2}\\cdot\\mathfrak{F}\\{\\rho_{w,w}(i)\\}\\notag\\\\ \\notag\n",
    "|S(\\omega)|^{2}&=\\sigma _{r}^{2}\\cdot|W(\\omega)|^{2}\n",
    "\\end{align}\n",
    "\n",
    "Das Powerspekrtum der Seismischen Spur ist proportional zum Powerspektrum des Wavelets. So kann der Frequenzgehalt des initialen Wavelets aus der AKF der seismischen Spur abgelesen werden. Die AKF der Spur liefert also Informationen über das Amplitudenspektrum des Wavelets nicht über über sein Phasenspektrum.\n",
    "\n",
    "Macht man zusätzliche Annahmen über das Phasenspektrum (z.B., dass es minimalphasig ist,) kann das Wavelet anhand der AKF berechnet werden und eine Dekonvolution der Spur durchgeführt werden (Vergleiche Abschnitt Faltung)."
   ]
  },
  {
   "cell_type": "markdown",
   "metadata": {},
   "source": [
    "### AKF einer seismischen Spur \n",
    "### (marine Akquisitionsgeometrie)\n",
    "\n",
    "Als Beispiel betrachten wir eine Spur, die im Rahmen eines marinen seismischen Surveys am Skagerrak mit einem 680 m langem Streamer gemessen wurde. Die betreffende seismische Spur befindet sich bei einem Offset von 385 m:"
   ]
  },
  {
   "cell_type": "code",
   "execution_count": 2,
   "metadata": {},
   "outputs": [],
   "source": [
    "# Importiere Python Bibliotheken \n",
    "# ------------------------------\n",
    "import numpy                      # Bibliothek NumPy\n",
    "from scipy import signal          # Bibliothek SciPy\n",
    "from gsv.gsv_func import *        # Bibliothek \"Geophysikalische Signalverarbeitung\""
   ]
  },
  {
   "cell_type": "code",
   "execution_count": 6,
   "metadata": {},
   "outputs": [],
   "source": [
    "# Importiere seismische Spur 72 von Schuss 374 des Skagerrak Datensatzes\n",
    "tmp = np.loadtxt('data/skagerrak/skagerrak_streamer_trace_ntr-half_shot_374.dat', delimiter='\\t', skiprows=0, unpack='False')\n",
    "\n",
    "# Das erste Sample bezeichnet das Sampleintervall ...\n",
    "dt = tmp[0]\n",
    "\n",
    "# ... die restlichen Samples die seismische Spur\n",
    "trace_skagerrak = tmp[1:-1]\n",
    "\n",
    "# Definiere Zeit-Vektor\n",
    "nt = (int)(len(trace_skagerrak))\n",
    "time = np.arange(0,nt*dt,dt)"
   ]
  },
  {
   "cell_type": "code",
   "execution_count": 7,
   "metadata": {},
   "outputs": [
    {
     "data": {
      "image/png": "[encoded data removed]",
      "text/plain": [
       "<Figure size 432x288 with 1 Axes>"
      ]
     },
     "metadata": {
      "needs_background": "light"
     },
     "output_type": "display_data"
    }
   ],
   "source": [
    "# Plotte Ausschnitt der Skagerrak Spur\n",
    "nt_start = (int)(0.3/dt)\n",
    "nt_end = (int)(1.2/dt)\n",
    "\n",
    "draw_func1(time[nt_start:nt_end],trace_skagerrak[nt_start:nt_end],'Skagerrak (Schuss 374, Spur 72)', 'Zeit [s]', 'Amplitude []')"
   ]
  },
  {
   "cell_type": "markdown",
   "metadata": {},
   "source": [
    "Das Beispielseismogramm zeigt einen deutlichen Ersteinsatz, sowie mehrere (multiple) Reflexionen. Betrachten wir die AKF,"
   ]
  },
  {
   "cell_type": "code",
   "execution_count": 8,
   "metadata": {},
   "outputs": [
    {
     "data": {
      "image/png": "[encoded data removed]",
      "text/plain": [
       "<Figure size 432x288 with 1 Axes>"
      ]
     },
     "metadata": {
      "needs_background": "light"
     },
     "output_type": "display_data"
    }
   ],
   "source": [
    "# AKF der Skagerrak Spur\n",
    "AKF_skagerrak = np.correlate(trace_skagerrak, trace_skagerrak, mode='same')\n",
    "\n",
    "# Multipliziere AKF_skagerrak mit dt um korrekte Amplituden zu erhalten\n",
    "AKF_skagerrak = AKF_skagerrak * dt\n",
    "\n",
    "# Berechne time-lags\n",
    "nt = (int)(len(time))\n",
    "lags = np.arange(-nt/2,nt/2,1) * dt # time-lags\n",
    "\n",
    "# Plotte AKF der Skagerrak Spur\n",
    "draw_func1(lags,AKF_skagerrak,'AKF von Skagerrak (Schuss 374, Spur 72)', 'time-lag [s]', 'Amplitude [m]')"
   ]
  },
  {
   "cell_type": "markdown",
   "metadata": {},
   "source": [
    "so fällt wie theoretisch vorhergesagt der deutliche $\\delta$-Impuls bei einem time-lag von 0 s auf. Allerdings finden sich weitere Maxima der AKF bei von Null verschiedenen time-lags. Diese entstehen durch den Ghost, sowie multiple Reflexionen. Betrachten wir im folgenden den Einfluß des Ghosts etwas genauer."
   ]
  },
  {
   "cell_type": "markdown",
   "metadata": {},
   "source": [
    "## AKF einer seismischen Spur mit Ghost\n",
    "\n",
    "Sei $y_k=s_k\\ast g_k$ eine seismische Spur mit Ghost, wobei $s_k$ die reine seismische Spur wie oben definiert und $g_k$ der Ghostoperator der Reflexion ist. Dann ist \n",
    "\n",
    "$Y(\\omega)=S(\\omega)\\cdot G(\\omega)$ \n",
    "\n",
    "das Spektrum der Spur mit Ghost und es gilt für die Fouriertransformierte der AKF der Spur:\n",
    "\n",
    "\\begin{equation}\n",
    "\\begin{split}\n",
    "\\mathfrak{F}\\{\\rho_{y,y}(k)\\}&=Y^{\\ast}(\\omega) Y(\\omega)\\\\&=S^{\\ast}(\\omega)G^{\\ast}(\\omega)S(\\omega)G(\\omega)\\\\\n",
    "&=S^{\\ast}(\\omega)S(\\omega)G^{\\ast}(\\omega)G(\\omega)\\\\\n",
    "&=\\mathfrak{F}\\{\\rho_{s,s}(k)\\}\\cdot\\mathfrak{F}\\{\\rho_{g,g}(k)\\}\n",
    "\\end{split}\n",
    "\\notag\n",
    "\\end{equation}\n",
    "\n",
    "Daraus folgt für die AKF im Zeitbereich:\n",
    "\n",
    "\\begin{equation}\n",
    "\\rho_{y,y}(k)=\\rho_{s,s}(k)\\ast\\rho_{g,g}(k)\n",
    "=\\sigma_{r}^{2}\\cdot\\rho_{w,w}(k)\\ast\\rho_{g,g}(k)\n",
    "\\notag\n",
    "\\end{equation}\n",
    "\n",
    "Der Ghost kann anhand der AKF der Spur erkannt werden. Die AKF des Ghostoperators wird mit der AKF der Spur gefaltet, so dass die AKF der Spur ohne Ghost einmal ohne Zeitverschiebung und zweimal symmetrisch zeitverschoben bei $\\pm n \\Delta t$ auftritt. Dadurch kann die Zeitverschiebung zwischen Spur ohne Ghost und mit Ghost $n\\Delta t$ anhand der maximalen Amplitude der verschobenen AKFs abgelesen werden.\n",
    "\n",
    "Im Fall des Skagerrak-Beispiels liegt die Zeitverschiebung des Ghosts bei ca. 0.05 s. "
   ]
  }
 ],
 "metadata": {
  "anaconda-cloud": {},
  "kernelspec": {
   "display_name": "Python 3",
   "language": "python",
   "name": "python3"
  },
  "language_info": {
   "codemirror_mode": {
    "name": "ipython",
    "version": 3
   },
   "file_extension": ".py",
   "mimetype": "text/x-python",
   "name": "python",
   "nbconvert_exporter": "python",
   "pygments_lexer": "ipython3",
   "version": "3.7.4"
  }
 },
 "nbformat": 4,
 "nbformat_minor": 1
}
