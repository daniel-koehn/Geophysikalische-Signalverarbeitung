{
 "cells": [
  {
   "cell_type": "markdown",
   "metadata": {},
   "source": [
    "###### Content under Creative Commons Attribution license CC-BY 4.0, code under BSD 3-Clause License © 2018  by D. Koehn, T. Meier and R. Hartmann, notebook style sheet by L.A. Barba, N.C. Clementi"
   ]
  },
  {
   "cell_type": "code",
   "execution_count": 1,
   "metadata": {},
   "outputs": [
    {
     "data": {
      "text/html": [
       "<link href=\"https://fonts.googleapis.com/css?family=Merriweather:300,300i,400,400i,700,700i,900,900i\" rel='stylesheet' >\n",
       "<link href=\"https://fonts.googleapis.com/css?family=Source+Sans+Pro:300,300i,400,400i,700,700i\" rel='stylesheet' >\n",
       "<link href='http://fonts.googleapis.com/css?family=Source+Code+Pro:300,400' rel='stylesheet' >\n",
       "<style>\n",
       "\n",
       "@font-face {\n",
       "    font-family: \"Computer Modern\";\n",
       "    src: url('http://mirrors.ctan.org/fonts/cm-unicode/fonts/otf/cmunss.otf');\n",
       "}\n",
       "\n",
       "\n",
       "#notebook_panel { /* main background */\n",
       "    background: rgb(245,245,245);\n",
       "}\n",
       "\n",
       "div.cell { /* set cell width */\n",
       "    width: 800px;\n",
       "}\n",
       "\n",
       "div #notebook { /* centre the content */\n",
       "    background: #fff; /* white background for content */\n",
       "    width: 1000px;\n",
       "    margin: auto;\n",
       "    padding-left: 0em;\n",
       "}\n",
       "\n",
       "#notebook li { /* More space between bullet points */\n",
       "margin-top:0.5em;\n",
       "}\n",
       "\n",
       "/* draw border around running cells */\n",
       "div.cell.border-box-sizing.code_cell.running { \n",
       "    border: 1px solid #111;\n",
       "}\n",
       "\n",
       "/* Put a solid color box around each cell and its output, visually linking them*/\n",
       "div.cell.code_cell {\n",
       "    background-color: rgb(256,256,256); \n",
       "    border-radius: 0px; \n",
       "    padding: 0.5em;\n",
       "    margin-left:1em;\n",
       "    margin-top: 1em;\n",
       "}\n",
       "\n",
       "\n",
       "div.text_cell_render{\n",
       "    font-family: 'Source Sans Pro', sans-serif;\n",
       "    line-height: 140%;\n",
       "    font-size: 110%;\n",
       "    width:680px;\n",
       "    margin-left:auto;\n",
       "    margin-right:auto;\n",
       "}\n",
       "\n",
       "/* Formatting for header cells */\n",
       ".text_cell_render h1 {\n",
       "    font-family: 'Merriweather', serif;\n",
       "    font-style:regular;\n",
       "    font-weight: bold;    \n",
       "    font-size: 250%;\n",
       "    line-height: 100%;\n",
       "    color: #004065;\n",
       "    margin-bottom: 1em;\n",
       "    margin-top: 0.5em;\n",
       "    display: block;\n",
       "}\t\n",
       ".text_cell_render h2 {\n",
       "    font-family: 'Merriweather', serif;\n",
       "    font-weight: bold; \n",
       "    font-size: 180%;\n",
       "    line-height: 100%;\n",
       "    color: #0096d6;\n",
       "    margin-bottom: 0.5em;\n",
       "    margin-top: 0.5em;\n",
       "    display: block;\n",
       "}\t\n",
       "\n",
       ".text_cell_render h3 {\n",
       "    font-family: 'Merriweather', serif;\n",
       "\tfont-size: 150%;\n",
       "    margin-top:12px;\n",
       "    margin-bottom: 3px;\n",
       "    font-style: regular;\n",
       "    color: #008367;\n",
       "}\n",
       "\n",
       ".text_cell_render h4 {    /*Use this for captions*/\n",
       "    font-family: 'Merriweather', serif;\n",
       "    font-weight: 300; \n",
       "    font-size: 100%;\n",
       "    line-height: 120%;\n",
       "    text-align: left;\n",
       "    width:500px;\n",
       "    margin-top: 1em;\n",
       "    margin-bottom: 2em;\n",
       "    margin-left: 80pt;\n",
       "    font-style: regular;\n",
       "}\n",
       "\n",
       ".text_cell_render h5 {  /*Use this for small titles*/\n",
       "    font-family: 'Source Sans Pro', sans-serif;\n",
       "    font-weight: regular;\n",
       "    font-size: 130%;\n",
       "    color: #e31937;\n",
       "    font-style: italic;\n",
       "    margin-bottom: .5em;\n",
       "    margin-top: 1em;\n",
       "    display: block;\n",
       "}\n",
       "\n",
       ".text_cell_render h6 { /*use this for copyright note*/\n",
       "    font-family: 'Source Code Pro', sans-serif;\n",
       "    font-weight: 300;\n",
       "    font-size: 9pt;\n",
       "    line-height: 100%;\n",
       "    color: grey;\n",
       "    margin-bottom: 1px;\n",
       "    margin-top: 1px;\n",
       "}\n",
       "\n",
       "    .CodeMirror{\n",
       "            font-family: \"Source Code Pro\";\n",
       "\t\t\tfont-size: 90%;\n",
       "    }\n",
       "/*    .prompt{\n",
       "        display: None;\n",
       "    }*/\n",
       "\t\n",
       "    \n",
       "    .warning{\n",
       "        color: rgb( 240, 20, 20 )\n",
       "        }  \n",
       "</style>\n",
       "<script>\n",
       "    MathJax.Hub.Config({\n",
       "                        TeX: {\n",
       "                           extensions: [\"AMSmath.js\"], \n",
       "                           equationNumbers: { autoNumber: \"AMS\", useLabelIds: true}\n",
       "                           },\n",
       "                tex2jax: {\n",
       "                    inlineMath: [ ['$','$'], [\"\\\\(\",\"\\\\)\"] ],\n",
       "                    displayMath: [ ['$$','$$'], [\"\\\\[\",\"\\\\]\"] ]\n",
       "                },\n",
       "                displayAlign: 'center', // Change this to 'center' to center equations.\n",
       "                \"HTML-CSS\": {\n",
       "                    styles: {'.MathJax_Display': {\"margin\": 4}}\n",
       "                }\n",
       "        });\n",
       "</script>\n"
      ],
      "text/plain": [
       "<IPython.core.display.HTML object>"
      ]
     },
     "execution_count": 1,
     "metadata": {},
     "output_type": "execute_result"
    }
   ],
   "source": [
    "# Execute this cell to load the notebook's style sheet, then ignore it\n",
    "from IPython.core.display import HTML\n",
    "css_file = 'style/custom.css'\n",
    "HTML(open(css_file, \"r\").read())"
   ]
  },
  {
   "cell_type": "markdown",
   "metadata": {},
   "source": [
    "# Korrelation von Signalen: Kreuz- und Autokorrelation \n",
    "\n",
    "Bisher haben wir die Ähnlichkeit von Zeitreihen über den Korrelationskoeffizienten bestimmt. Dabei wird allerdings vernachlässigt, daß einer Ursache nicht zwangsläufig sofort eine Wirkung folgen muß. So kann es zu Zeitverschiebungen zwischen zwei Zeitreihen kommen. Damit können zwei Zeitreihen eine Korrelation zeigen, welche der klassische Korrelationskoeffizient nicht registrieren kann. \n",
    "\n",
    "In dieser Vorlesung führen wir deshalb als Maß einer Korrelation von zwei Signalen gegenüber einer Zeitverschiebung die Kreuzkorrelationsfunktion (KKF) ein. Ähnliche oder periodisch wiederkehrende Signale innerhalb einer Zeitreihe lassen sich mit der Autokorrelationsfunktion (AKF) identifizieren."
   ]
  },
  {
   "cell_type": "markdown",
   "metadata": {},
   "source": [
    "## Kreuzkorrelationsfunktion (KKF) & Autokorrelationsfunktion (AKF)\n",
    "\n",
    "Die **Kreuzkorrelationsfunktion (KKF)** beschreibt die Korrelation zweier Signale $x$ und $y$ bezüglich einer Zeitverschiebung (Englisch: time lag). Die KKF ist ein Maß für die Ähnlichkeit zweier Signale in Abhängigkeit von der Zeitverschiebung zwischen den Signalen. \n",
    "\n",
    "Seien $x(t)$ und $y(t)$ zwei kontinuierliche, deterministische Funktionen. Dann ist die **kontinuierliche KKF** bzgl. einer Zeitverschiebung $\\tau\\in\\mathbb{R}$:\n",
    "\n",
    "\\begin{equation}\n",
    "\\rho_{x,y}(\\tau)=\\int\\limits_{-\\infty}^{\\infty}x(t')\\cdot y(t'+\\tau)\\mathrm{dt’} \\notag\n",
    "\\end{equation}\n",
    "\n",
    "Sind die Funktionen $x(t)$ und $y(t)$ auf einem bestimmten endlichen Beobachtungsintervall $[0,T]$ gegeben, normiert man häufig die KKF auf die Länge dieses Intervalls:\n",
    "\n",
    "\\begin{equation}\n",
    "\\rho_{x,y}(\\tau)=\\frac{1}{T}\\int\\limits_{0}^{T}x(t')\\cdot y(t'+\\tau)\\mathrm{dt’} \\notag\n",
    "\\end{equation}\n",
    "\n",
    "Das Problem mit der kontinuierlichen KKF ist daß Computer aufgrund ihrer Architektur und begrenzten Speicherkapazität keine kontinuierlichen Zeitreihen speichern und verarbeiten können. Schon bei der Akquisition der Daten wird das Signal nur zu diskreten Zeiten \n",
    "\n",
    "$$t_j = j * dt$$\n",
    "\n",
    "wobei $dt$ das Sampleintervall und $j$ den Zeitindex bezeichnen, auf der Festplatte des Computers gespeichert. Entsprechend müssen wir das kontinuierliche Integral in der KKF näherungsweise numerisch berechnen.\n",
    "\n",
    "Die folgende Abbildung zeigt als Beispiel für eine vorgegebene Zeitverschiebung $\\tau$ das Produkt der Zeitreihen $x(t')$ und $y(t'+\\tau)$. Für die Berechnung der KKF müssen wir das Integral über diese Funktion, also die Fläche unter der Funktion berechnen.  \n",
    "\n",
    "<img src=\"images/gauss_int_final.jpg\" style=\"width: 800px;\"/>\n",
    "\n",
    "Wir erhalten eine sehr simple Näherung der Fläche unter der Funktion und damit des Integrals, indem wir die Fläche durch Rechtecke annähern. Deren Höhe wird durch den diskreten Funktionswert $\\{x_j\\}\\{y_{j+k}\\}$ vorgegeben. Hierbei bezeichnet $k\\in\\mathbb{N}$ eine Zeitindexverschiebung. Die Breite eines Rechtecks wird durch das konstante Zeitsampleintervall $dt$ vorgegeben. Die Fläche, z.b. des rot markierten Rechtecks, ergibt sich also zu \n",
    "\n",
    "$$A_j = x_{j} \\cdot y_{j+k} \\cdot dt$$\n",
    "\n",
    "Das Integral der KKF läßt sich über die Summation aller Rechtecke näherungsweise berechnen:\n",
    "\n",
    "$$\\rho_{x,y}(\\tau) \\approx \\sum\\limits_{j=-\\infty}^{\\infty}x_{j} \\cdot y_{j+k} \\cdot dt$$\n",
    "\n",
    "Da der Speicherplatz auf dem Rechner beschränkt ist und die meisten Zeitreihen ohnehin durch die Kausalität und maximale Aufzeichnungsdauer eines Signals nach unten und oben beschränkt sind, können wir die Summe auf eine endliche Anzahl von $N$ Indizes beschränken:\n",
    "\n",
    "$$\\rho_{x,y}(\\tau) \\approx \\sum\\limits_{j=1}^{N}x_{j} \\cdot y_{j+k} \\cdot dt$$\n",
    "\n",
    "Da das Sampleintervall $dt$ konstant ist, kann man dieses vor die Summe ziehen\n",
    "\n",
    "$$\\rho_{x,y}(\\tau) \\approx dt \\sum\\limits_{j=1}^{N}x_{j} \\cdot y_{j+k}$$\n",
    "\n",
    "In den meisten Fällen interessiert man sich auch nicht für absolute Amplituden der KKF, so daß man den Faktor $dt$ häufig vernachlässigt:\n",
    "\n",
    "$$\\rho_{x,y}(\\tau) \\approx \\sum\\limits_{j=1}^{N}x_{j} \\cdot y_{j+k}$$\n",
    "\n",
    "Im Fall von diskreten, spikeartigen Signalen, welche effektiv keine Fläche abdecken, wie z.B. ein $\\delta$-Impuls, tritt kein Faktor $dt$ auf. \n",
    "\n",
    "Seien also $\\{x_j\\}$ und $\\{y_j\\}$ zwei diskrete, deterministische Zeitreihen. Dann ist die **diskrete KKF** bzgl. einer Zeitindexverschiebung $k\\in\\mathbb{N}$:\n",
    "\n",
    "\\begin{equation}\n",
    "\\rho_{x,y}(k)=\\sum\\limits_{j}x_{j}\\cdot y_{j+k} \\notag\n",
    "\\end{equation}\n",
    "\n",
    "Die **Autokorrelationsfunktion (AKF)** beschreibt den Spezialfall der Korrelation eines Signals $x$ mit sich selbst bezüglich einer Zeitverschiebung. Sie ist ein Maß für die Ähnlichkeit eines Signals mit sich selbst als Funktion der Zeitverschiebung oder auch ein Maß für die Abhängigkeit zukünftiger Werte von den aktuellen. \n",
    "\n",
    "Für $x=y$ ergibt sich aus der kontinuierlichen und diskreten KKF die entsprechende AKF des Signals $x$: \n",
    "\n",
    "\\begin{equation}\n",
    "\\rho_{x,x}(k)=\\sum\\limits_{j}x_{j}\\cdot x_{j+k} \\notag\n",
    "\\end{equation}\n",
    "\n",
    "bzw.\n",
    "\n",
    "\\begin{equation}\n",
    "\\rho_{x,x}(\\tau)=\\int\\limits_{-\\infty}^{\\infty}x(t')\\cdot x(t'+\\tau)\\mathrm{dt’} \\notag\n",
    "\\end{equation}\n",
    "\n",
    "Betrachten wir ein Beispiel für eine diskrete KKF. Dazu nehmen wir an, daß die Zeitreihe $x_j$ eine Länge von $T$ = 30 s besitzt und aus der ersten Ableitung der Gauss-Funktion mit einer dominanten Frequenz von $f_0$ = 1 Hz besteht:"
   ]
  },
  {
   "cell_type": "code",
   "execution_count": 2,
   "metadata": {},
   "outputs": [],
   "source": [
    "# Importiere Python Bibliotheken \n",
    "# ------------------------------\n",
    "import numpy                      # Bibliothek NumPy\n",
    "from scipy import signal          # Bibliothek SciPy\n",
    "from gsv.gsv_func import *        # Bibliothek \"Geophysikalische Signalverarbeitung\""
   ]
  },
  {
   "cell_type": "code",
   "execution_count": 3,
   "metadata": {},
   "outputs": [
    {
     "data": {
      "image/png": "[encoded data removed]",
      "text/plain": [
       "<Figure size 432x288 with 1 Axes>"
      ]
     },
     "metadata": {
      "needs_background": "light"
     },
     "output_type": "display_data"
    }
   ],
   "source": [
    "# Definiere Zeitreihe xj bestehend aus der ersten Ableitung der Gauss-Funktion\n",
    "# ----------------------------------------------------------------------------\n",
    "T = 30.     # Aufzeichnunsdauer [s]\n",
    "f0 = 1     # dominante Frequenz [Hz]\n",
    "time, xj = create_gauss_1st_derv(T,f0)\n",
    "\n",
    "# Plotte erste Ableitung der Gaussfunktion\n",
    "draw_func(time,xj,r'Zeitreihe $x_j$', 'Zeit [s]', 'Amplitude [m]')"
   ]
  },
  {
   "cell_type": "markdown",
   "metadata": {},
   "source": [
    "Die Zeitreihe $y_j$ besteht aus einer Abfolge von ersten Ableitungen der Gaussfunktion, die allerdings relativ zur Zeitreihe $x_j$ zeitlich verschoben, der Amplitude mit einem Faktor -0.5, bzw. 0.25 multipliziert wurden:"
   ]
  },
  {
   "cell_type": "code",
   "execution_count": 4,
   "metadata": {},
   "outputs": [
    {
     "data": {
      "image/png": "[encoded data removed]",
      "text/plain": [
       "<Figure size 432x288 with 1 Axes>"
      ]
     },
     "metadata": {
      "needs_background": "light"
     },
     "output_type": "display_data"
    }
   ],
   "source": [
    "# Definiere Zeitreihe yj bestehend aus Abfolge von ersten Ableitungen der Gaussfunktion\n",
    "# -------------------------------------------------------------------------------------\n",
    "T = 30.     # Aufzeichnunsdauer [s]\n",
    "f0 = 1     # dominante Frequenz [Hz]\n",
    "time, yj = create_gauss_1st_derv_timeseries(T,f0)\n",
    "\n",
    "# Plotte erste Ableitung der Gaussfunktion\n",
    "draw_func(time,yj,r'Zeitreihe $y_j$', 'Zeit [s]', 'Amplitude [m]')"
   ]
  },
  {
   "cell_type": "markdown",
   "metadata": {},
   "source": [
    "Im nächsten Schritt berechnen wir die diskrete KKF der Zeitreihen $x_j$ und $y_j$\n",
    "\n",
    "\\begin{equation}\n",
    "\\rho_{x,y}(k)=\\sum\\limits_{j}x_{j}\\cdot y_{j+k} \\notag\n",
    "\\end{equation}\n",
    "\n",
    "mit der SciPy Funktion `signal.correlate`"
   ]
  },
  {
   "cell_type": "code",
   "execution_count": 5,
   "metadata": {},
   "outputs": [],
   "source": [
    "# KKF der Rechteckfunktion\n",
    "KKF_xy = signal.correlate(xj, yj, mode='same')"
   ]
  },
  {
   "cell_type": "markdown",
   "metadata": {},
   "source": [
    "Um korrekte Amplituden zu erhalten, multiplizieren wir die KKF mit dem Sample-Intervall $dt$"
   ]
  },
  {
   "cell_type": "code",
   "execution_count": 6,
   "metadata": {},
   "outputs": [],
   "source": [
    "# Bestimme Sample-Intervall dt und multipliziere mit KKF_xy\n",
    "# um korrekte Amplituden zu erhalten\n",
    "dt = time[1] - time[0]\n",
    "KKF_xy = KKF_xy * dt"
   ]
  },
  {
   "cell_type": "markdown",
   "metadata": {},
   "source": [
    "Bei vielen Matlab und Python Beispielen zur Berechnung der KKF wird diese einfach unter die Zeitreihe geplottet. Dabei darf man nicht vergessen, daß die Zeitreihen $x_j$ und $y_j$ über der Zeit aufgetragen werden, die KKF dagegen über den Time-lags.\n",
    "\n",
    "Im Fall von Matlab wird ein time-lag Vektor zurückgegeben. Bei der SciPy Funktion `signal.correlate` muß man dagegen wissen, daß bei $N$ Zeitsamples in jeder Zeitreihe Lags zwischen $-N/2:N/2$ berechnet werden. Entsprechend ergeben sich die Time-lags zu:"
   ]
  },
  {
   "cell_type": "code",
   "execution_count": 7,
   "metadata": {},
   "outputs": [],
   "source": [
    "# Berechne time-lags\n",
    "nt = len(KKF_xy)                    # Anzahl der Samples der KKF\n",
    "lags = np.arange(-nt/2,nt/2,1) * dt # time-lags"
   ]
  },
  {
   "cell_type": "markdown",
   "metadata": {},
   "source": [
    "Schließlich folgt als Ergebnis der KKF:"
   ]
  },
  {
   "cell_type": "code",
   "execution_count": 8,
   "metadata": {},
   "outputs": [
    {
     "data": {
      "image/png": "[encoded data removed]",
      "text/plain": [
       "<Figure size 432x288 with 1 Axes>"
      ]
     },
     "metadata": {
      "needs_background": "light"
     },
     "output_type": "display_data"
    }
   ],
   "source": [
    "# Plotte Ergebnis der KKF_xy\n",
    "draw_func(lags,KKF_xy,r'$\\rho_{x,y}(k)$', 'lags [s]', 'Amplitude [m]')"
   ]
  },
  {
   "cell_type": "markdown",
   "metadata": {},
   "source": [
    "Das Ergebnis zeigt starke Korrelationen bei negativen time-lags. Dies läßt sich dadurch erklären daß wir die Zeitreihe $y_j$ um negative Zeitindizes verschieben müssen, um deren Signal mit der ersten Ableitung der Gaussfunktion in der Zeitreihe $x_j$ korrelieren zu können.\n",
    "\n",
    "Die Maxima der KKF bei einem Lag von -3 s, -7 s und -11 s entsprechen genau der Zeitdifferenz zwischen der ersten Ableitung der Gaussfunktion in der Zeitreihe $x_j$ und den entsprechenden Einsätzen der Wellenformen in der Zeitreihe $y_j$.\n",
    "\n",
    "Man beachte daß bei dem mittleren Einsatz (lag = -7 s) eine Antikorrelation vorliegt."
   ]
  },
  {
   "cell_type": "markdown",
   "metadata": {},
   "source": [
    "## Kreuzkovarianz- & Autokovarianzfunktion\n",
    "\n",
    "Das stochastische Analogon zur KKF bzw. AKF ist die (Kreuz- bzw. Auto-) **Kovarianzfunktion**:\n",
    "\n",
    "Seien $\\{x_j\\}$ und $\\{y_j\\}$ bzw. $x(t)$ und $y(t)$ stochastische Prozesse mit\n",
    "\n",
    "$E[x_j],E[y_j],E[x(t)],E[y(t)]=0$ \n",
    "\n",
    "und \n",
    "\n",
    "$E[x_j^2],E[y_j^2],E[x^2(t)],E[y^2(t)]<\\infty$.\n",
    "\n",
    "Dann gilt für die **Kreuzkovarianz**:\n",
    "\n",
    "\\begin{equation}\n",
    "\\begin{split}\n",
    "\\mathrm{Cov}(x_{j},y_{j+k})&=E[x_j\\cdot y_{j+k}]:=\\rho_{x,y}(j,j+k)\\\\\n",
    "&\\text{bzw.}\\\\\n",
    "\\mathrm{Cov}(x(t_0),y(t_0+\\tau))&=E[x(t_0)\\cdot y(t_0+\\tau)]:=\\rho_{x,y}(t_0,t_0+\\tau).\n",
    "\\end{split}\n",
    "\\notag\n",
    "\\end{equation}\n",
    "\n",
    "Für schwach stationäre Prozesse ist die Kreuzkovarianzfunktion nur von der Zeitverschiebung und nicht von der Referenzzeit abhängig. Dann gilt weiter:\n",
    "\n",
    "\\begin{equation}\n",
    "\\begin{split}\n",
    "\\rho_{x,y}(j,j+k)&:=\\rho_{x,y}(k)\\\\\n",
    "&\\text{bzw.}\\\\\n",
    "\\rho_{x,y}(t_0,t_0+\\tau)&:=\\rho_{x,y}(\\tau).\n",
    "\\end{split}\n",
    "\\notag\n",
    "\\end{equation}\n",
    "\n",
    "Für $\\{x_j\\}=\\{y_j\\}$ bzw. $x(t)=y(t)$ ergeben sich analog die diskreten, bzw. kontinuierlichen **Autokovarianzfunktionen**"
   ]
  },
  {
   "cell_type": "markdown",
   "metadata": {},
   "source": [
    "## AKF bei Nullzahliger Verschiebung\n",
    "\n",
    "Für alle Funktionen $x:\\;\\mathbb{R}\\to\\mathbb{R}$ gilt für deren AKF:\n",
    "\n",
    "\\begin{equation}\n",
    "\\rho_{x,x}(0)=||x||_{2} \\notag\n",
    "\\end{equation}\n",
    "\n",
    "Bei nullzahliger Verschiebung ergibt die AKF die $L_{2}$-Norm der Funktion $x$.\n",
    "\n",
    "**Beweis:**\n",
    "\n",
    "\\begin{equation*}\n",
    "\\rho_{x,x}(0)=\\int\\limits_{\\mathbb{R}}x(t^{\\prime})x(t^{\\prime}-0)\\mathrm{dt^{\\prime}}=\\int\\limits_{\\mathbb{R}}x(t^{\\prime})^{2}\\mathrm{dt^{\\prime}}=:||x||_{2}\n",
    "\\end{equation*}\n",
    "\n",
    "Dies gilt analog für den diskreten Fall."
   ]
  },
  {
   "cell_type": "markdown",
   "metadata": {},
   "source": [
    "## AKF eines zeitverschobenen Signals\n",
    "\n",
    "1. Seien $x,y:\\;\\mathbb{R}\\to\\mathbb{R}$ kontinuierliche Funktionen der Zeit $t$, wobei $y(t)=x(t-t_{0})$ die um die Zeit $t_{0}\\in\\mathbb{R}$ verschobene Funktion von $x(t)$ ist. Dann gilt für alle die AKF der Funktionen:\n",
    "\n",
    "\\begin{equation}\n",
    "\\rho_{y,y}(t)=\\rho_{x,x}(t) \\notag\n",
    "\\end{equation}\n",
    "\n",
    "**Beweis:**\n",
    "\n",
    "\\begin{equation*}\n",
    "\\rho_{y,y}(t)=\\int\\limits_{\\mathbb{R}}x(t^{\\prime}-t_{0})x(t^{\\prime}-t_{0}+t)\\mathrm{dt}^{\\prime}\n",
    "\\underset{t^{\\prime\\prime}=t^{\\prime}-t_{0}}{=}\n",
    "\\int\\limits_{\\mathbb{R}}x(t^{\\prime\\prime})x(t^{\\prime\\prime}+t)\\mathrm{dt}^{\\prime\\prime}=\\rho_{x,x}(t)\n",
    "\\end{equation*}\n",
    "\n",
    "2. Dies gilt analog für den diskreten Fall."
   ]
  },
  {
   "cell_type": "markdown",
   "metadata": {},
   "source": [
    "## Normierte KKF, AKF, Kreuz- & Autokovarianz\n",
    "\n",
    "1. Normierte KKF und normierte Kreuzkovarianz lauten:\n",
    "\n",
    "\\begin{equation}\n",
    "\\tilde{\\rho}_{x,y}(t)=\\frac{\\rho_{x,y}(t)}{\\sqrt{\\rho_{x,x}(0)\\cdot\\rho_{y,y}(0)}}\\in[-1,1] \\notag\n",
    "\\end{equation}\n",
    "\n",
    "2. Normierte AKF und normierte Autokovarianz lauten:\n",
    "\n",
    "\\begin{equation}\n",
    "\\tilde{\\rho}_{x,x}(t)=\\frac{\\rho_{x,x}(t)}{\\rho_{x,x}(0)}\\in[-1,1] \\notag\n",
    "\\end{equation}\n",
    "\n",
    "Dabei gilt: $t=\\begin{cases}k\\in\\mathbb{N}&:x,y\\text{ diskret}\\\\\\tau\\in\\mathbb{R}&:x,y\\text{ kontinuierlich}\\end{cases}$"
   ]
  },
  {
   "cell_type": "markdown",
   "metadata": {},
   "source": [
    "## Schätzung der Kreuz- & Autokovarianzfunktionen\n",
    "\n",
    "1. Kreuz- und Autokovarianzfunktionen können auf Grund des [Gesetzes der großen Zahlen](https://de.wikipedia.org/wiki/Gesetz_der_gro%C3%9Fen_Zahlen)  wieder mithilfe des Mittelwerts von $N$ diskreten Realisierungen geschätzt werden:\n",
    "\n",
    "\\begin{equation}\n",
    "\\hat{\\rho}_{x,y}(k)=\\frac{1}{N-k}\\sum\\limits_{j=1}^{N-k}x_j\\cdot y_{j+k} \\notag\n",
    "\\end{equation}\n",
    "\n",
    "2. Diese Schätzung der Kreuz- und Autokovarianzfunktionen ist erwartungstreu. Dazu betrachtet man den Erwartungswert der Schätzung: \n",
    "\n",
    "\\begin{equation}\n",
    "E[\\hat{\\rho}_{x,y}(k)]=\\frac{1}{N-k}\\sum\\limits_{j=1}^{N-k}E[x_{j}\\cdot y_{j+k}]=\\frac{N-k}{N-k}\\rho_{x,y}(k)=\\rho_{x,y}(k).\\notag\n",
    "\\end{equation}\n",
    "\n",
    "Sie ist gleich der gesuchten Kreuzkovarianzfunktion. "
   ]
  },
  {
   "cell_type": "markdown",
   "metadata": {},
   "source": [
    "## Beziehungen zwischen Korrelation und Faltung\n",
    "\n",
    "Seien $x(t)$ und $y(t)$ zwei kontinuierliche Funktionen, dann ist \n",
    "\n",
    "$x(t) \\ast y(t)=\\int_{\\mathbb{R}}x(t’)\\cdot y(t’-t)\\mathrm{dt}’$ \n",
    "\n",
    "deren **Faltung** und \n",
    "\n",
    "$\\rho_{x,y}(t)=\\int_{\\mathbb{R}}x(t’)\\cdot y(t’+t)\\mathrm{dt}’$ \n",
    "\n",
    "deren **KKF**. \n",
    "\n",
    "Dann gilt:\n",
    "\n",
    "1. Die Faltung ist kommutativ:\n",
    "\n",
    "\\begin{equation}\n",
    "x(t)\\ast y(t)=y(t)\\ast x(t) \\notag\n",
    "\\end{equation}\n",
    "\n",
    "2. Die KKF ist nicht kommutativ:\n",
    "\n",
    "\\begin{equation}\n",
    "\\rho_{x,y}(t)=\\rho_{y,x}(-t) \\notag\n",
    "\\end{equation}\n",
    "\n",
    "3. Der Zusammenhang zwischen KKF und Faltung lautet:\n",
    "\n",
    "\\begin{equation}\n",
    "\\rho_{x,y}(t)=x(-t)\\ast y(t) \\notag\n",
    "\\end{equation}\n",
    "\n",
    "4. Die AKF ist immer symmetrisch:\n",
    "\n",
    "\\begin{equation}\n",
    "\\rho_{x,x}(t)=\\rho_{x,x}(-t) \\notag\n",
    "\\end{equation}\n",
    "\n",
    "5. Das Spektrum der Faltung lautet:\n",
    "\n",
    "\\begin{equation}\n",
    "\\mathfrak{F}\\{x(t)\\ast y(t)\\}=X(\\omega)\\;Y(\\omega)=|X(\\omega)|\\;|Y(\\omega)|\\;\\exp(\\varphi_{x}(\\omega)+\\varphi_{y}(\\omega)) \\notag\n",
    "\\end{equation}\n",
    "\n",
    "6. Das Spektrum der KKF lautet:\n",
    "\n",
    "\\begin{equation}\n",
    "\\mathfrak{F}\\{\\rho_{x,y}(t)\\}=X^{\\ast}(\\omega)\\;Y(\\omega)=|X(\\omega)|\\;|Y(\\omega)|\\;\\exp(\\varphi_{y}(\\omega)-\\varphi_{x}(\\omega)) \\notag\n",
    "\\end{equation}\n",
    "\n",
    "Man beachte den Vorzeichenwechsel im Phasenspektrum. Das Amplitudenspektrum der Faltung und der KKF unterscheidet sich dagegen nicht.\n",
    "\n",
    "7. Das Spektrum der AKF bildet dann das Powerspektrum:\n",
    "\n",
    "\\begin{equation}\n",
    "\\mathfrak{F}\\{\\rho_{x,x}(t)\\}=|X(\\omega)|^{2}. \\notag\n",
    "\\end{equation}\n",
    "\n",
    "Die AKF ist nullphasig und somit unabhängig vom Phasenspektrum des Signals. Sie ist nur vom Amplitudenspektrum des Signals abhängig."
   ]
  }
 ],
 "metadata": {
  "anaconda-cloud": {},
  "kernelspec": {
   "display_name": "Python 3",
   "language": "python",
   "name": "python3"
  },
  "language_info": {
   "codemirror_mode": {
    "name": "ipython",
    "version": 3
   },
   "file_extension": ".py",
   "mimetype": "text/x-python",
   "name": "python",
   "nbconvert_exporter": "python",
   "pygments_lexer": "ipython3",
   "version": "3.6.8"
  }
 },
 "nbformat": 4,
 "nbformat_minor": 1
}
