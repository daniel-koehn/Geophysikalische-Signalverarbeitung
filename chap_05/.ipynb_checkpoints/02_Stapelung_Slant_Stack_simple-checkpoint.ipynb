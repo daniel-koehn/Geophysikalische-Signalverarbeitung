{
 "cells": [
  {
   "cell_type": "markdown",
   "metadata": {},
   "source": [
    "###### Content under Creative Commons Attribution license CC-BY 4.0, code under BSD 3-Clause License © 2022  by D. Koehn, T. Meier and J. Stampa, notebook style sheet by L.A. Barba, N.C. Clementi"
   ]
  },
  {
   "cell_type": "code",
   "execution_count": 1,
   "metadata": {},
   "outputs": [
    {
     "data": {
      "text/html": [
       "<link href=\"https://fonts.googleapis.com/css?family=Merriweather:300,300i,400,400i,700,700i,900,900i\" rel='stylesheet' >\n",
       "<link href=\"https://fonts.googleapis.com/css?family=Source+Sans+Pro:300,300i,400,400i,700,700i\" rel='stylesheet' >\n",
       "<link href='http://fonts.googleapis.com/css?family=Source+Code+Pro:300,400' rel='stylesheet' >\n",
       "<style>\n",
       "\n",
       "@font-face {\n",
       "    font-family: \"Computer Modern\";\n",
       "    src: url('http://mirrors.ctan.org/fonts/cm-unicode/fonts/otf/cmunss.otf');\n",
       "}\n",
       "\n",
       "\n",
       "#notebook_panel { /* main background */\n",
       "    background: rgb(245,245,245);\n",
       "}\n",
       "\n",
       "div.cell { /* set cell width */\n",
       "    width: 800px;\n",
       "}\n",
       "\n",
       "div #notebook { /* centre the content */\n",
       "    background: #fff; /* white background for content */\n",
       "    width: 1000px;\n",
       "    margin: auto;\n",
       "    padding-left: 0em;\n",
       "}\n",
       "\n",
       "#notebook li { /* More space between bullet points */\n",
       "margin-top:0.5em;\n",
       "}\n",
       "\n",
       "/* draw border around running cells */\n",
       "div.cell.border-box-sizing.code_cell.running { \n",
       "    border: 1px solid #111;\n",
       "}\n",
       "\n",
       "/* Put a solid color box around each cell and its output, visually linking them*/\n",
       "div.cell.code_cell {\n",
       "    background-color: rgb(256,256,256); \n",
       "    border-radius: 0px; \n",
       "    padding: 0.5em;\n",
       "    margin-left:1em;\n",
       "    margin-top: 1em;\n",
       "}\n",
       "\n",
       "\n",
       "div.text_cell_render{\n",
       "    font-family: 'Source Sans Pro', sans-serif;\n",
       "    line-height: 140%;\n",
       "    font-size: 110%;\n",
       "    width:680px;\n",
       "    margin-left:auto;\n",
       "    margin-right:auto;\n",
       "}\n",
       "\n",
       "/* Formatting for header cells */\n",
       ".text_cell_render h1 {\n",
       "    font-family: 'Merriweather', serif;\n",
       "    font-style:regular;\n",
       "    font-weight: bold;    \n",
       "    font-size: 250%;\n",
       "    line-height: 100%;\n",
       "    color: #004065;\n",
       "    margin-bottom: 1em;\n",
       "    margin-top: 0.5em;\n",
       "    display: block;\n",
       "}\t\n",
       ".text_cell_render h2 {\n",
       "    font-family: 'Merriweather', serif;\n",
       "    font-weight: bold; \n",
       "    font-size: 180%;\n",
       "    line-height: 100%;\n",
       "    color: #0096d6;\n",
       "    margin-bottom: 0.5em;\n",
       "    margin-top: 0.5em;\n",
       "    display: block;\n",
       "}\t\n",
       "\n",
       ".text_cell_render h3 {\n",
       "    font-family: 'Merriweather', serif;\n",
       "\tfont-size: 150%;\n",
       "    margin-top:12px;\n",
       "    margin-bottom: 3px;\n",
       "    font-style: regular;\n",
       "    color: #008367;\n",
       "}\n",
       "\n",
       ".text_cell_render h4 {    /*Use this for captions*/\n",
       "    font-family: 'Merriweather', serif;\n",
       "    font-weight: 300; \n",
       "    font-size: 100%;\n",
       "    line-height: 120%;\n",
       "    text-align: left;\n",
       "    width:500px;\n",
       "    margin-top: 1em;\n",
       "    margin-bottom: 2em;\n",
       "    margin-left: 80pt;\n",
       "    font-style: regular;\n",
       "}\n",
       "\n",
       ".text_cell_render h5 {  /*Use this for small titles*/\n",
       "    font-family: 'Source Sans Pro', sans-serif;\n",
       "    font-weight: regular;\n",
       "    font-size: 130%;\n",
       "    color: #e31937;\n",
       "    font-style: italic;\n",
       "    margin-bottom: .5em;\n",
       "    margin-top: 1em;\n",
       "    display: block;\n",
       "}\n",
       "\n",
       ".text_cell_render h6 { /*use this for copyright note*/\n",
       "    font-family: 'Source Code Pro', sans-serif;\n",
       "    font-weight: 300;\n",
       "    font-size: 9pt;\n",
       "    line-height: 100%;\n",
       "    color: grey;\n",
       "    margin-bottom: 1px;\n",
       "    margin-top: 1px;\n",
       "}\n",
       "\n",
       "    .CodeMirror{\n",
       "            font-family: \"Source Code Pro\";\n",
       "\t\t\tfont-size: 90%;\n",
       "    }\n",
       "/*    .prompt{\n",
       "        display: None;\n",
       "    }*/\n",
       "\t\n",
       "    \n",
       "    .warning{\n",
       "        color: rgb( 240, 20, 20 )\n",
       "        }  \n",
       "</style>\n",
       "<script>\n",
       "    MathJax.Hub.Config({\n",
       "                        TeX: {\n",
       "                           extensions: [\"AMSmath.js\"], \n",
       "                           equationNumbers: { autoNumber: \"AMS\", useLabelIds: true}\n",
       "                           },\n",
       "                tex2jax: {\n",
       "                    inlineMath: [ ['$','$'], [\"\\\\(\",\"\\\\)\"] ],\n",
       "                    displayMath: [ ['$$','$$'], [\"\\\\[\",\"\\\\]\"] ]\n",
       "                },\n",
       "                displayAlign: 'center', // Change this to 'center' to center equations.\n",
       "                \"HTML-CSS\": {\n",
       "                    styles: {'.MathJax_Display': {\"margin\": 4}}\n",
       "                }\n",
       "        });\n",
       "</script>\n"
      ],
      "text/plain": [
       "<IPython.core.display.HTML object>"
      ]
     },
     "execution_count": 1,
     "metadata": {},
     "output_type": "execute_result"
    }
   ],
   "source": [
    "# Execute this cell to load the notebook's style sheet, then ignore it\n",
    "from IPython.core.display import HTML\n",
    "css_file = '../style/custom.css'\n",
    "HTML(open(css_file, \"r\").read())"
   ]
  },
  {
   "cell_type": "markdown",
   "metadata": {},
   "source": [
    "# Digitale Signalbearbeitung in der Geophysik \n",
    "\n",
    "## Kapitel 5 Stapelung von Signalen\n",
    "\n",
    "In diesem Notebook will ich erläutern wie man lineare Geschwindigkeitskorrekturen in einem Shot Gather implementiert und das Konzept des Slant Stacks, sowie Phasengeschwindigkeits-Frequenz Spektrums einführen."
   ]
  },
  {
   "cell_type": "markdown",
   "metadata": {},
   "source": [
    "### Synthetisches Shotgather\n",
    "\n",
    "Als erstes schreiben wir einen Code mit dem wir einfache synthetische Shot Gather berechnen können. Dieser basiert auf dem Faltungsmodell von seismischen Spuren, das am Anfang von Kapitel 3 eingeführt wurde. Die Faltung des Wavelets der seismischen Quelle mit der Impulsantwort (Reflektivität) der Erde lieferte die seismische Spur. Die Impulsantwort enthält die Reflexionskoeffizienten an den Schichtgrenzen zu den Zeitpunkten des Auftretens der Reflexionen.\n",
    "\n",
    "In diesem Beispiel nehmen wir an, daß nur eine direkte Welle aufgezeichnet wurde, deren Laufzeitkurve als Funktion des Offsets $x$ und einer konstanten S-Wellengeschwindigkeit des Untergrundes $vs$ wir mit der Gleichung\n",
    "\n",
    "\\begin{equation}\n",
    "t_{dir} = x / vs  \\notag\n",
    "\\end{equation}\n",
    "\n",
    "beschreiben können. Im folgenden gehen wir von einer wahren S-Wellengeschwindigkeit des Untergrundes $vs = 200\\; m/s$ aus.\n",
    "\n",
    "Die Akquisitionsgeometrie besteht aus einem $xmax = 25\\; m$ langen Profil mit einem Empfängerabstand von $dx = 0.5\\; m$. Die maximale Aufzeichungsdauer der Seismogramme beträgt $tmax = 0.2\\;s$ und das zeitliche Sampleintervall $dt = 125\\; \\mu s$.\n",
    "\n",
    "Um das Seismogramm zu berechnen, müssen wir schließlich noch das Quellwavelet $w$ definieren, das mit der Impulsantwort des Untergrundes gefaltet werden soll. In diesem Fall verwenden wir die erste Ableitung der Gaussfunktion:\n",
    "\n",
    "\\begin{equation}\n",
    "w = - 2 \\sigma t_s e^{-(\\sigma t_s)^2}  \\notag\n",
    "\\end{equation}\n",
    "\n",
    "Hierbei ist die Halbwertsbreite $\\sigma = 4 f_0$ verknüft mit der dominanten Frequenz des Quellwavelets $f_0$, während $t_s=t-t_0$ eine Zeitverschiebung des Quellwavelets angibt. In diesem Fall verknüpfen wir die Zeitverschiebung mit der dominanten Frequenz des Quellwavelets $t_0 = 1/f_0$. Die dominante Frequenz des Quellwavelets soll $f_0 = 40\\;Hz$ betragen.\n",
    "\n",
    "Mit diesen Parametern können wir das synthetische Shotgather $TT$ berechnen ..."
   ]
  },
  {
   "cell_type": "code",
   "execution_count": 2,
   "metadata": {},
   "outputs": [],
   "source": [
    "# Importiere Python Bibliotheken \n",
    "# ------------------------------\n",
    "%matplotlib inline\n",
    "from ipywidgets import interactive\n",
    "import matplotlib.pyplot as plt\n",
    "import numpy as np"
   ]
  },
  {
   "cell_type": "code",
   "execution_count": 3,
   "metadata": {},
   "outputs": [],
   "source": [
    "def create_shotgather():\n",
    "    \n",
    "    # Define acquisition parameters\n",
    "    xmax = 25.               # maximum offset [m]\n",
    "    dx = 0.5                 # spatial geophone sampling [m]\n",
    "    \n",
    "    tmax = 0.2               # maximum recording time [s]\n",
    "    dt = 1.25e-4             # time sampling [s]\n",
    "    \n",
    "    # Initialize shot gather\n",
    "    x = np.arange(0, xmax+dx, dx) # offsets [m]\n",
    "    t = np.arange(0, tmax+dt, dt) # time [s]   \n",
    "    \n",
    "    # Compute impulse response of direct SH wave\n",
    "    # ------------------------------------------\n",
    "    # compute travel times of direct SH wave\n",
    "    vst = 200.     # true SH wave velocity\n",
    "    td = (x / vst) # traveltime [s]\n",
    "    nd = (td/dt)   # traveltime [sample#]\n",
    "    nd = nd.astype(np.int32) # convert floats to integers\n",
    "    \n",
    "    # add spikes at direct wave first  arrival times\n",
    "    nx = len(x)             # compute number of receivers\n",
    "    nt = len(t)             # compute time samples\n",
    "    TT = np.zeros((nx,nt))  # initialize shot gather as matrix\n",
    "    \n",
    "    for i in range(0,nx):\n",
    "        TT[i,nd[i]] = 1.\n",
    "    \n",
    "    # Define source wavelet \n",
    "    # ---------------------\n",
    "    f0 = 40         # Frequency (Hz)\n",
    "    p=1./f0          # period\n",
    "    t0 = p/dt        # defining t0\n",
    "    sigma=4./p      \n",
    "\n",
    "    # Initialization of source wavelet\n",
    "    w=np.zeros(nt) \n",
    "\n",
    "    # Initialization of first derivative of gaussian\n",
    "    for it in range(nt):\n",
    "        ts=(it-t0)*dt\n",
    "        w[it]=-2*sigma*ts*np.exp(-(sigma*ts)**2)\n",
    "    \n",
    "    # Convolve source wavelet with Greens function\n",
    "    # --------------------------------------------\n",
    "    for i in range(0,nx):\n",
    "        conv = np.convolve(w,TT[i,:])\n",
    "        TT[i,:] = conv[1:nt+1]\n",
    "    \n",
    "    return x,t,TT"
   ]
  },
  {
   "cell_type": "code",
   "execution_count": 4,
   "metadata": {},
   "outputs": [
    {
     "data": {
      "text/plain": [
       "Text(0.5, 1.0, 'Shot Gather')"
      ]
     },
     "execution_count": 4,
     "metadata": {},
     "output_type": "execute_result"
    },
    {
     "data": {
      "image/png": "[encoded data removed]",
      "text/plain": [
       "<Figure size 720x360 with 1 Axes>"
      ]
     },
     "metadata": {
      "needs_background": "light"
     },
     "output_type": "display_data"
    }
   ],
   "source": [
    "x,t,TT = create_shotgather()\n",
    "\n",
    "# Initialize Plots\n",
    "plt.figure(figsize=(10,5))\n",
    "    \n",
    "# Plot shot gather\n",
    "plt.imshow(TT.T, cmap=plt.cm.seismic, interpolation='none', \n",
    "                extent=[np.min(x),np.max(x),np.max(t),np.min(t)],aspect=140)\n",
    "plt.xlabel('Offset (m)')\n",
    "plt.ylabel('Time (s)')\n",
    "title = r'Shot Gather'\n",
    "plt.title(title)"
   ]
  },
  {
   "cell_type": "markdown",
   "metadata": {},
   "source": [
    "### NMO Korrektur \n",
    "\n",
    "Wie man sieht kann man mit dem Konvolutionsmodell einen einfachen synthetischen Datensatz erzeugen. Im nächsten Schritt soll der **Normal Move Out (NMO)** der direkten Welle für verschiedene Testgeschwindigkeiten $vstack$ über die Formel \n",
    "\n",
    "\\begin{equation}\n",
    "\\Delta t_{NMO} = - \\frac{x}{vstack}\\notag\n",
    "\\end{equation}\n",
    "\n",
    "korrigiert und die korrigierten seismischen Spuren gemäß \n",
    "\n",
    "\\begin{equation}\n",
    "\\mbox{stack}(t) = \\frac{1}{M} \\sum_{i=1}^M x_i(t+\\Delta t_{NMO}). \\notag\n",
    "\\end{equation}\n",
    "\n",
    "aufgestapelt werden."
   ]
  },
  {
   "cell_type": "code",
   "execution_count": 5,
   "metadata": {},
   "outputs": [],
   "source": [
    "def NMO_corr(vstack,stackcorr):\n",
    "    \n",
    "    # create data\n",
    "    x,t,TT = create_shotgather()\n",
    "    \n",
    "    # Define parameters\n",
    "    nx = len(x)\n",
    "    nt = len(t)\n",
    "    dt = t[1]-t[0]\n",
    "    \n",
    "    if(stackcorr==True):\n",
    "        \n",
    "        # NMO correction by dtNMO = - offset / vstack \n",
    "        # --------------------------------------------------------\n",
    "        TTc = np.zeros((nx,nt))  # initialize corrected shot gather\n",
    "        tstack = (x / vstack)    # traveltime [s]\n",
    "        nc = (tstack/dt)         # traveltime [sample#]\n",
    "        nc = nc.astype(np.int32)   # convert floats to integers\n",
    "    \n",
    "        for i in range(0,nx):\n",
    "            for j in range(0,nt):\n",
    "            \n",
    "                if((j+nc[i]) < nt):\n",
    "                    TTc[i,j] = TT[i,j+nc[i]]\n",
    "    \n",
    "        \n",
    "        TT = TTc\n",
    "        \n",
    "    # Initialize Plots\n",
    "    plt.figure(figsize=(10,5))\n",
    "    \n",
    "    plt.subplot(121)\n",
    "    \n",
    "    # Plot shot gather\n",
    "    plt.imshow(TT.T, cmap=plt.cm.seismic, interpolation='none', \n",
    "                   extent=[np.min(x),np.max(x),np.max(t),np.min(t)],aspect=140)\n",
    "    plt.xlabel('Offset (m)')\n",
    "    plt.ylabel('Time (s)')\n",
    "    title = r'Shot Gather'\n",
    "    plt.title(title)\n",
    "    \n",
    "    plt.subplot(122)\n",
    "    \n",
    "    # Stack data along offsets\n",
    "    stack = np.sum(TT,0) / nx\n",
    "    \n",
    "    # Plot stack\n",
    "    plt.plot(np.flip(stack), np.flip(t), 'b')\n",
    "    plt.xlabel('Stack Amplitude ()')\n",
    "    plt.title('Stack')\n",
    "    plt.xlim(-1.,1.)\n",
    "    plt.ylim(np.min(t),np.max(t))\n",
    "    plt.gca().invert_yaxis()"
   ]
  },
  {
   "cell_type": "code",
   "execution_count": 6,
   "metadata": {
    "scrolled": false
   },
   "outputs": [
    {
     "data": {
      "application/vnd.jupyter.widget-view+json": {
       "model_id": "28fc369b6a434fcc81522e4c827752ca",
       "version_major": 2,
       "version_minor": 0
      },
      "text/plain": [
       "interactive(children=(FloatSlider(value=150.0, description='vstack', max=300.0, min=10.0, step=10.0), Checkbox…"
      ]
     },
     "metadata": {},
     "output_type": "display_data"
    }
   ],
   "source": [
    "interactive_plot = interactive(NMO_corr, vstack=(10., 300., 10.), stackcorr=False )\n",
    "output = interactive_plot.children[-1]\n",
    "output.layout.height = '350px'\n",
    "interactive_plot"
   ]
  },
  {
   "cell_type": "markdown",
   "metadata": {},
   "source": [
    "### Slant Stack \n",
    "\n",
    "Basierend auf der Funktion `NMO_corr` können wir eine Funktion programmieren, welche den **Slant Stack** eines Shot Gathers berechnet. Dazu wenden wir einfach die NMO Korrektur für verschiedene Stapelgeschwindigkeiten $vstack$ auf das Shot Gather an und speichern die gestapelten Stacks für jede Geschwindigkeit. Plotten wir die Zeiten über die Stacks erhalten wir den Slant Stack ..."
   ]
  },
  {
   "cell_type": "code",
   "execution_count": 7,
   "metadata": {},
   "outputs": [],
   "source": [
    "def slant_stack():\n",
    "    \n",
    "    # create data\n",
    "    x,t,TT = create_shotgather()\n",
    "    \n",
    "    # Define parameters\n",
    "    nx = len(x)\n",
    "    nt = len(t)\n",
    "    dt = t[1]-t[0]\n",
    "    \n",
    "    # Compute Slant Stack\n",
    "    # -------------------\n",
    "    \n",
    "    # define array for stacking velocities\n",
    "    vstack = np.arange(10.,400.,10.)\n",
    "    nv = len(vstack) # number of tested velocities\n",
    "    \n",
    "    # initialize slant stack with zeros\n",
    "    sstack = np.zeros((nv,nt))\n",
    "    \n",
    "    # loop over velocities\n",
    "    for k in range(0,nv) :\n",
    "        \n",
    "        # NMO correction by dtNMO = - offset / vstack \n",
    "        TTc = np.zeros((nx,nt))    # initialize corrected shot gather\n",
    "        tstack = (x / vstack[k])   # traveltime [s]\n",
    "        nc = (tstack/dt)           # traveltime [sample#]\n",
    "        nc = nc.astype(np.int32)   # convert floats to integers\n",
    "    \n",
    "        for i in range(0,nx):\n",
    "            for j in range(0,nt):\n",
    "            \n",
    "                if((j+nc[i]) < nt):\n",
    "                    TTc[i,j] = TT[i,j+nc[i]]\n",
    "    \n",
    "        # Stack NMO corrected data\n",
    "        stack = np.sum(TTc,0) / nx\n",
    "            \n",
    "    \n",
    "        # update slant stack\n",
    "        sstack[k,:] = stack[:]\n",
    "    \n",
    "    \n",
    "    # Initialize Plots\n",
    "    plt.figure(figsize=(10,5))\n",
    "    \n",
    "    # Plot slant stack\n",
    "    plt.imshow(sstack.T, cmap=plt.cm.seismic, interpolation='none', \n",
    "                   extent=[np.min(vstack),np.max(vstack),np.max(t),np.min(t)],aspect=1e3)\n",
    "    plt.xlabel('vstack (m/s)')\n",
    "    plt.ylabel(r'$\\tau$ (s)')\n",
    "    title = r'Slant Stack'\n",
    "    plt.title(title)\n",
    "    \n",
    "    return sstack"
   ]
  },
  {
   "cell_type": "code",
   "execution_count": 8,
   "metadata": {
    "scrolled": false
   },
   "outputs": [
    {
     "data": {
      "image/png": "[encoded data removed]",
      "text/plain": [
       "<Figure size 720x360 with 1 Axes>"
      ]
     },
     "metadata": {
      "needs_background": "light"
     },
     "output_type": "display_data"
    }
   ],
   "source": [
    "sstack = slant_stack()"
   ]
  },
  {
   "cell_type": "markdown",
   "metadata": {},
   "source": [
    "### Phasengeschwindigkeits-Frequenzspektren\n",
    "\n",
    "Berechnen wir die Fouriertransformation der Zeitachse erhalten wir das **Phasengeschwindigkeits-Frequenzspektrum**. Dies läßt sich einfach in unseren Slant-Stack Code implementieren ..."
   ]
  },
  {
   "cell_type": "code",
   "execution_count": 9,
   "metadata": {},
   "outputs": [],
   "source": [
    "def pf_spec():\n",
    "    \n",
    "    # create data\n",
    "    x,t,TT = create_shotgather()\n",
    "    \n",
    "    # Define parameters\n",
    "    nx = len(x)\n",
    "    nt = len(t)\n",
    "    dt = t[1]-t[0]\n",
    "    \n",
    "    # Compute Slant Stack\n",
    "    # -------------------\n",
    "    \n",
    "    # define array for stacking velocities\n",
    "    vstack = np.arange(10.,400.,10.)\n",
    "    nv = len(vstack) # number of tested velocities\n",
    "    \n",
    "    # initialize slant stack with zeros\n",
    "    sstack = np.zeros((nv,nt))\n",
    "    \n",
    "    # loop over velocities\n",
    "    for k in range(0,nv) :\n",
    "        \n",
    "        # NMO correction by dtNMO = - offset / vstack \n",
    "        TTc = np.zeros((nx,nt))    # initialize corrected shot gather\n",
    "        tstack = (x / vstack[k])   # traveltime [s]\n",
    "        nc = (tstack/dt)           # traveltime [sample#]\n",
    "        nc = nc.astype(np.int32)   # convert floats to integers\n",
    "    \n",
    "        for i in range(0,nx):\n",
    "            for j in range(0,nt):\n",
    "            \n",
    "                if((j+nc[i]) < nt):\n",
    "                    TTc[i,j] = TT[i,j+nc[i]]\n",
    "    \n",
    "        # Stack NMO corrected data\n",
    "        stack = np.sum(TTc,0) / nx\n",
    "            \n",
    "        # update slant stack\n",
    "        sstack[k,:] = stack[:]\n",
    "    \n",
    "    # Compute pf-spectrum\n",
    "    # -------------------\n",
    "    \n",
    "    # Fourier transform slant stack along the time axis\n",
    "    pf = np.fft.fft(sstack)\n",
    "    \n",
    "    # Normalize by length of the time series\n",
    "    pf = pf / (nt*dt)\n",
    "    \n",
    "    # estimate frequencies    \n",
    "    freq = np.fft.fftfreq(nt, d=dt)\n",
    "    \n",
    "    # Initialize Plots\n",
    "    plt.figure(figsize=(10,5))\n",
    "    \n",
    "    # Plot pf spectrum\n",
    "    levels = np.linspace(0., np.max(np.abs(pf)), num=1000)\n",
    "    plt.contourf(freq,vstack,np.abs(pf),levels=levels,cmap='magma')\n",
    "    \n",
    "    plt.ylabel('Phase velocity vstack (m/s)')\n",
    "    plt.xlabel(r'Frequency (Hz)')\n",
    "    title = r'Phasevelocity-Frequency Spectrum'\n",
    "    plt.title(title)\n",
    "    plt.xlim(0.,100.)"
   ]
  },
  {
   "cell_type": "code",
   "execution_count": 10,
   "metadata": {},
   "outputs": [
    {
     "data": {
      "image/png": "[encoded data removed]",
      "text/plain": [
       "<Figure size 720x360 with 1 Axes>"
      ]
     },
     "metadata": {
      "needs_background": "light"
     },
     "output_type": "display_data"
    }
   ],
   "source": [
    "pf_spec()"
   ]
  },
  {
   "cell_type": "markdown",
   "metadata": {},
   "source": [
    "## Zusammenfassung:\n",
    "\n",
    "- Durch eine einfache Kombination aus Laufzeitkorrektur und Stapelung konnten wir ein einfaches Werkzeug entwickeln, um die Geschwindigkeit einer direkten Welle zu bestimmen - den sogenannten Slant Stack.\n",
    "\n",
    "- Die Fouriertransformation der Zeitachse ergibt das Phasengeschwindigkeits-Frequenzspektrum."
   ]
  }
 ],
 "metadata": {
  "anaconda-cloud": {},
  "kernelspec": {
   "display_name": "Python 3",
   "language": "python",
   "name": "python3"
  },
  "language_info": {
   "codemirror_mode": {
    "name": "ipython",
    "version": 3
   },
   "file_extension": ".py",
   "mimetype": "text/x-python",
   "name": "python",
   "nbconvert_exporter": "python",
   "pygments_lexer": "ipython3",
   "version": "3.7.4"
  }
 },
 "nbformat": 4,
 "nbformat_minor": 1
}
