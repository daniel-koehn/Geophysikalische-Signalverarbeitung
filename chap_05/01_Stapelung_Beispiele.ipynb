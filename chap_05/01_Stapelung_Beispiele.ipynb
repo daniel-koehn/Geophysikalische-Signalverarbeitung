{
 "cells": [
  {
   "cell_type": "markdown",
   "metadata": {},
   "source": [
    "###### Content under Creative Commons Attribution license CC-BY 4.0, code under BSD 3-Clause License © 2022  by D. Koehn, T. Meier and J. Stampa, notebook style sheet by L.A. Barba, N.C. Clementi"
   ]
  },
  {
   "cell_type": "code",
   "execution_count": 1,
   "metadata": {},
   "outputs": [
    {
     "data": {
      "text/html": [
       "<link href=\"https://fonts.googleapis.com/css?family=Merriweather:300,300i,400,400i,700,700i,900,900i\" rel='stylesheet' >\n",
       "<link href=\"https://fonts.googleapis.com/css?family=Source+Sans+Pro:300,300i,400,400i,700,700i\" rel='stylesheet' >\n",
       "<link href='http://fonts.googleapis.com/css?family=Source+Code+Pro:300,400' rel='stylesheet' >\n",
       "<style>\n",
       "\n",
       "@font-face {\n",
       "    font-family: \"Computer Modern\";\n",
       "    src: url('http://mirrors.ctan.org/fonts/cm-unicode/fonts/otf/cmunss.otf');\n",
       "}\n",
       "\n",
       "\n",
       "#notebook_panel { /* main background */\n",
       "    background: rgb(245,245,245);\n",
       "}\n",
       "\n",
       "div.cell { /* set cell width */\n",
       "    width: 800px;\n",
       "}\n",
       "\n",
       "div #notebook { /* centre the content */\n",
       "    background: #fff; /* white background for content */\n",
       "    width: 1000px;\n",
       "    margin: auto;\n",
       "    padding-left: 0em;\n",
       "}\n",
       "\n",
       "#notebook li { /* More space between bullet points */\n",
       "margin-top:0.5em;\n",
       "}\n",
       "\n",
       "/* draw border around running cells */\n",
       "div.cell.border-box-sizing.code_cell.running { \n",
       "    border: 1px solid #111;\n",
       "}\n",
       "\n",
       "/* Put a solid color box around each cell and its output, visually linking them*/\n",
       "div.cell.code_cell {\n",
       "    background-color: rgb(256,256,256); \n",
       "    border-radius: 0px; \n",
       "    padding: 0.5em;\n",
       "    margin-left:1em;\n",
       "    margin-top: 1em;\n",
       "}\n",
       "\n",
       "\n",
       "div.text_cell_render{\n",
       "    font-family: 'Source Sans Pro', sans-serif;\n",
       "    line-height: 140%;\n",
       "    font-size: 110%;\n",
       "    width:680px;\n",
       "    margin-left:auto;\n",
       "    margin-right:auto;\n",
       "}\n",
       "\n",
       "/* Formatting for header cells */\n",
       ".text_cell_render h1 {\n",
       "    font-family: 'Merriweather', serif;\n",
       "    font-style:regular;\n",
       "    font-weight: bold;    \n",
       "    font-size: 250%;\n",
       "    line-height: 100%;\n",
       "    color: #004065;\n",
       "    margin-bottom: 1em;\n",
       "    margin-top: 0.5em;\n",
       "    display: block;\n",
       "}\t\n",
       ".text_cell_render h2 {\n",
       "    font-family: 'Merriweather', serif;\n",
       "    font-weight: bold; \n",
       "    font-size: 180%;\n",
       "    line-height: 100%;\n",
       "    color: #0096d6;\n",
       "    margin-bottom: 0.5em;\n",
       "    margin-top: 0.5em;\n",
       "    display: block;\n",
       "}\t\n",
       "\n",
       ".text_cell_render h3 {\n",
       "    font-family: 'Merriweather', serif;\n",
       "\tfont-size: 150%;\n",
       "    margin-top:12px;\n",
       "    margin-bottom: 3px;\n",
       "    font-style: regular;\n",
       "    color: #008367;\n",
       "}\n",
       "\n",
       ".text_cell_render h4 {    /*Use this for captions*/\n",
       "    font-family: 'Merriweather', serif;\n",
       "    font-weight: 300; \n",
       "    font-size: 100%;\n",
       "    line-height: 120%;\n",
       "    text-align: left;\n",
       "    width:500px;\n",
       "    margin-top: 1em;\n",
       "    margin-bottom: 2em;\n",
       "    margin-left: 80pt;\n",
       "    font-style: regular;\n",
       "}\n",
       "\n",
       ".text_cell_render h5 {  /*Use this for small titles*/\n",
       "    font-family: 'Source Sans Pro', sans-serif;\n",
       "    font-weight: regular;\n",
       "    font-size: 130%;\n",
       "    color: #e31937;\n",
       "    font-style: italic;\n",
       "    margin-bottom: .5em;\n",
       "    margin-top: 1em;\n",
       "    display: block;\n",
       "}\n",
       "\n",
       ".text_cell_render h6 { /*use this for copyright note*/\n",
       "    font-family: 'Source Code Pro', sans-serif;\n",
       "    font-weight: 300;\n",
       "    font-size: 9pt;\n",
       "    line-height: 100%;\n",
       "    color: grey;\n",
       "    margin-bottom: 1px;\n",
       "    margin-top: 1px;\n",
       "}\n",
       "\n",
       "    .CodeMirror{\n",
       "            font-family: \"Source Code Pro\";\n",
       "\t\t\tfont-size: 90%;\n",
       "    }\n",
       "/*    .prompt{\n",
       "        display: None;\n",
       "    }*/\n",
       "\t\n",
       "    \n",
       "    .warning{\n",
       "        color: rgb( 240, 20, 20 )\n",
       "        }  \n",
       "</style>\n",
       "<script>\n",
       "    MathJax.Hub.Config({\n",
       "                        TeX: {\n",
       "                           extensions: [\"AMSmath.js\"], \n",
       "                           equationNumbers: { autoNumber: \"AMS\", useLabelIds: true}\n",
       "                           },\n",
       "                tex2jax: {\n",
       "                    inlineMath: [ ['$','$'], [\"\\\\(\",\"\\\\)\"] ],\n",
       "                    displayMath: [ ['$$','$$'], [\"\\\\[\",\"\\\\]\"] ]\n",
       "                },\n",
       "                displayAlign: 'center', // Change this to 'center' to center equations.\n",
       "                \"HTML-CSS\": {\n",
       "                    styles: {'.MathJax_Display': {\"margin\": 4}}\n",
       "                }\n",
       "        });\n",
       "</script>\n"
      ],
      "text/plain": [
       "<IPython.core.display.HTML object>"
      ]
     },
     "execution_count": 1,
     "metadata": {},
     "output_type": "execute_result"
    }
   ],
   "source": [
    "# Execute this cell to load the notebook's style sheet, then ignore it\n",
    "from IPython.core.display import HTML\n",
    "css_file = '../style/custom.css'\n",
    "HTML(open(css_file, \"r\").read())"
   ]
  },
  {
   "cell_type": "markdown",
   "metadata": {},
   "source": [
    "# Digitale Signalbearbeitung in der Geophysik \n",
    "\n",
    "## Kapitel 5 Stapelung von Signalen\n",
    "\n",
    "Bei der Stapelung wird allgemein ein Modell der Form\n",
    "\n",
    "\\begin{equation}\n",
    "x_i(t) = s(t - t_i) + n_i(t) \\tag{5.1}\n",
    "\\end{equation}\n",
    "\n",
    "angenommen. Dabei besteht die Wertereihe $x_i$ aus einem deterministischen Signal $s(t)$, dass in der Wertereihe $i$ zeitlich um $-t_i$ verschoben ist. Es wird angenommen, dass die Form des Signals in den unterschiedlichen Wertereihen gleich ist. $n_i(t)$ ist zufälliges Rauschen, für das oft angenommen wird, dass es sich um einen Gaußschen iid-Zufallsprozess mit $E[n_i(t)] = 0$ handelt. \n",
    "Bei der Stapelung werden $M$ gemessene Wertereihen zeitlich um Schätzungen $\\hat{t}_i$ verschoben und gemittelt:\n",
    "\n",
    "\\begin{equation}\n",
    "\\mbox{stack}(t) = \\frac{1}{M} \\sum_{i=1}^M x_i(t+\\hat{t}_i). \\tag{5.2}\n",
    "\\end{equation}\n",
    "\n",
    "Es wird versucht, die Zeitverschiebung rückgängig zu machen. Anschließend werden die Wertereihen gemittelt. Die Schätzungen $\\hat{t}_i$ werden für eine zu testende Hypothese berechnet. Ist sie richtig bzw. kommt sie der tatsächlichen Situation sehr nahe, liegt konstruktive Interferenz vor und $\\mbox{stack}(t)$ nimmt große Werte an. Geringe Werte von $\\mbox{stack}(t)$ zeigen dagegen destruktive Interferenz an und die getestete Hypothese ist eher abzulehnen. Für den Fall das $\\hat{t}_i = t_i$ ist, gilt  \n",
    "\n",
    "\\begin{equation}\n",
    "E[\\mbox{stack}(t)] = s(t) \\tag{5.3}\n",
    "\\end{equation}\n",
    "\n",
    "und für große $M$ nimmt $\\mbox{stack}(t)$ die Form des Signals an.\n",
    "\n",
    "Gl. (5.2) will ich an einem einfachen Beispiel veranschaulichen. Dazu importieren wir einige `Python` Bibliotheken ..."
   ]
  },
  {
   "cell_type": "code",
   "execution_count": 2,
   "metadata": {},
   "outputs": [],
   "source": [
    "# Importiere Python Bibliotheken \n",
    "# ------------------------------\n",
    "%matplotlib inline\n",
    "from ipywidgets import interactive\n",
    "import matplotlib.pyplot as plt\n",
    "import numpy as np\n",
    "from gsv.gsv_func import *        # Bibliothek \"Geophysikalische Signalverarbeitung\""
   ]
  },
  {
   "cell_type": "markdown",
   "metadata": {},
   "source": [
    "... inklusive einer neuen Bibliothek \"Geophysikalische Signalverarbeitung\", welche diverse Funktionen enthält, die ich speziell für die Vorlesung geschrieben hab. Die Funktion `slant_stack_intro` berechnet ein stark vereinfachtes Shotgather und stapelt die Seismogramme auf ..."
   ]
  },
  {
   "cell_type": "code",
   "execution_count": 3,
   "metadata": {},
   "outputs": [
    {
     "data": {
      "application/vnd.jupyter.widget-view+json": {
       "model_id": "f8e05793b4624fda9645ec6ac2097599",
       "version_major": 2,
       "version_minor": 0
      },
      "text/plain": [
       "interactive(children=(FloatSlider(value=200.0, description='vstack', max=400.0, min=10.0, step=10.0), Checkbox…"
      ]
     },
     "metadata": {},
     "output_type": "display_data"
    }
   ],
   "source": [
    "interactive_plot = interactive(slant_stack_intro, vstack=(10., 400., 10.), stackcorr=False )\n",
    "output = interactive_plot.children[-1]\n",
    "output.layout.height = '350px'\n",
    "interactive_plot"
   ]
  },
  {
   "cell_type": "markdown",
   "metadata": {},
   "source": [
    "Wie man sieht enthält das Shotgather nur eine direkte SH-Welle (links). Eine simple Stapelung aller Spuren über die Offsets (rechts) macht keinen Sinn, da man nicht über das Signal der Welle summiert, sondern zeitlich verschobene Spuren. Nach Gl. (5.2) müssen wir  zunächst den Laufzeitunterschied \n",
    "\n",
    "\\begin{equation}\n",
    "\\hat{t} = - \\frac{\\text{offset}}{vs}\\notag\n",
    "\\end{equation}\n",
    "\n",
    "korrigieren, wobei $\\text{offset}$ den Offset der Geophone von der Quellposition und $vs$ die S-Wellengeschwindigkeit des Untergrundes bezeichnen. Wir können diese Laufzeitkorrektur über die Option **stackcorr** aktivieren und mit dem Parameter **vstack** die Stapelgeschwindigkeit variieren. Für eine Stapelgeschwindigkeit vstack = 200 m/s wird der Laufzeitunterschied perfekt ausgeglichen und die konstruktive Interferenz führt zu einer Verstärkung des Signals. Wie in Gl. (5.3) beschrieben, ergibt der Stack die Form des Signals. \n",
    "\n",
    "Wir können die Kombination aus Zeitverschiebung und Stack auch so interpretieren, daß wir entlang der Laufzeitkurve der direkten Welle die Wellenform aufaddieren. Ist vstack größer oder kleiner als die optimale Stapelgeschwindigkeit, kommt es zu destruktiver Interferenz und die gestapelten Amplituden werden entsprechend kleiner. Dies können wir nutzen, um ein einfaches Werkzeug zu entwickeln, um die S-Wellengeschwindigkeit des Untergrundes basierend auf der Stapelung entlang von Laufzeitkurven zu bestimmen. \n",
    "\n",
    "Bevor wir uns damit genauer beschäftigen, sollen im Folgenden einige Eigenschaften der Stapelung anhand einfacher Beispiele veranschaulicht werden. "
   ]
  },
  {
   "cell_type": "markdown",
   "metadata": {},
   "source": [
    "### 5.1 Beispiele\n",
    "\n",
    "Im einfachsten Fall ist $\\hat{t}_i = 0$. Der Stack ist dann:\n",
    "\n",
    "\\begin{equation}\n",
    "\\mbox{stack}(t) = \\frac{1}{M} \\sum_{i=1}^M x_i(t). \\tag{5.4}\n",
    "\\end{equation}\n",
    "\n",
    "Z.B. kann durch wiederholte Anregung im Fall der  Hammerschlagseismik das Signal-Rausch-Verhältnis verbessert werden. Der Erwartungswert für den Stack beträgt:\n",
    "\n",
    "\\begin{equation}\n",
    "E[\\mbox{stack}(t)] = s(t). \\tag{5.5}\n",
    "\\end{equation}\n",
    "\n",
    "Mit zunehmendem $M$ wird das Rauschen stärker unterdrückt. Das Signal-Rausch-Verhältnis nach $M$ Messungen kann nach Abschnitt 2.3 (Signal-Rausch-Verhältnis) durch \n",
    "\n",
    "\\begin{equation}\n",
    "\\frac{s_{max}}{\\sigma_n(M)} \\tag{5.5}\n",
    "\\label{eq:SNR}\n",
    "\\end{equation}\n",
    "\n",
    "gemessen werden. Dabei ist $s_{max}$ der maximale Betrag des Signals und $\\sigma_n(M)$ ist die erwartete Abweichung des gestapelten Rauschens von dem Erwartungswert des Rauschens nach einer Mittelung über $M$ Messungen. Der Erwartungswert des Rauschens ist Null und die Standardabweichung des Rauschens ist $\\sigma_n$. Da für $\\sigma_n(M)$, den Fehler in der Schätzung des Erwartungswerts nach einer Mittelung über $M$ Messungen oder den Standardfehler,\n",
    "\n",
    "\\begin{equation}\n",
    "\\sigma_n(M) = \\frac{\\sigma_n} {\\sqrt{M}} \\tag{5.6}\n",
    "\\end{equation} \n",
    "\n",
    "gilt, wird erwartet, dass sich das Signal-Rausch-Verhältnis proportional zu $\\sqrt{M}$ verbessert:\n",
    "\n",
    "\\begin{equation}\n",
    "\\frac{s_{max} \\sqrt{M}}{\\sigma_n}. \\tag{5.7}\n",
    "\\label{eq:E_SNR}\n",
    "\\end{equation}\n",
    "\n",
    "Testen wir das Konzept am Beispiel einer Sinusfunktion auf die wir normalverteilten Noise addieren und M Zeitreihen aufstapeln. "
   ]
  },
  {
   "cell_type": "code",
   "execution_count": 4,
   "metadata": {},
   "outputs": [],
   "source": [
    "def stack(sigman, M):\n",
    "    \n",
    "    # Define parameters\n",
    "    T = 25.                  # period 1 [s]\n",
    "    dt = .1                  # time sampling [s]\n",
    "    L = 500.                # length of the time series [s]\n",
    "\n",
    "    # Define sine function ...\n",
    "    omega = 2. * np.pi / T   # compute circular frequency from period\n",
    "    t = np.arange(0,L+dt,dt) # compute time vector\n",
    "    x = np.sin(omega*t)  # compute sine wave\n",
    "        \n",
    "    # Add normal distributed noise to the time series\n",
    "    mu = 0.\n",
    "    \n",
    "    # Initialize stack\n",
    "    N = len(x)\n",
    "    xstack = np.zeros(N)\n",
    "    for i in range(M):\n",
    "    \n",
    "        # Add random noise to time series\n",
    "        xnoise = np.random.normal(mu, sigman, N) # create random numbers\n",
    "        x1 = x + xnoise # add random noise to time series \n",
    "        \n",
    "        # Stack time series\n",
    "        xstack = xstack + x1 \n",
    "        \n",
    "    # Divide xstack by number of stacks M\n",
    "    xstack = xstack / M\n",
    "        \n",
    "    # Initialize Plots\n",
    "    plt.figure(figsize=(10,5))\n",
    "    \n",
    "    # Plot time series\n",
    "    plt.plot(t, xstack, 'b')\n",
    "    plt.xlabel('Time (s)')\n",
    "    plt.ylabel('f(t) (s)')\n",
    "    \n",
    "    # Estimate and print S/N ratio\n",
    "    SN = np.sqrt(M) / sigman \n",
    "    title = r'Stacked Time Series f(t) = Sin(t) ($S/N = \\frac{smax\\sqrt{M}}{\\sigma_n} = $' + str(SN) + ')'\n",
    "    \n",
    "    plt.title(title)"
   ]
  },
  {
   "cell_type": "markdown",
   "metadata": {},
   "source": [
    "Wir können die Noise Amplitude über die Standardabweichung der normalverteilten Zufallszahlen $sigman$ und die Größe des Stacks mit $M$ definieren ..."
   ]
  },
  {
   "cell_type": "code",
   "execution_count": 5,
   "metadata": {},
   "outputs": [
    {
     "data": {
      "application/vnd.jupyter.widget-view+json": {
       "model_id": "3932d236f46240db812e52a41d244486",
       "version_major": 2,
       "version_minor": 0
      },
      "text/plain": [
       "interactive(children=(FloatSlider(value=5.0, description='sigman', max=10.0, step=0.5), IntSlider(value=491, d…"
      ]
     },
     "metadata": {},
     "output_type": "display_data"
    }
   ],
   "source": [
    "interactive_plot = interactive(stack, sigman=(0., 10., .5), M=(1, 1000, 10) )\n",
    "output = interactive_plot.children[-1]\n",
    "output.layout.height = '350px'\n",
    "interactive_plot"
   ]
  },
  {
   "cell_type": "markdown",
   "metadata": {},
   "source": [
    "Überlagerung zweier Signale mit gleicher Frequenz $\\omega_0$, aber unterschiedlicher Phase.  Das ist ein einfaches Beispiel für eine Stapelung mit $t_i\\not= 0$ und $n_i=0$. Die zwei Signale können durch:\n",
    "\n",
    "\\begin{align}\n",
    "s_1(t) & =\\cos(\\omega_0 t+\\varphi_1),\\tag{5.9}\\\\\n",
    "s_2(t) & =\\cos(\\omega_0 t+\\varphi_2)\\tag{5.10}\n",
    "\\end{align}\n",
    "\n",
    "beschrieben werden. Ändert sich durch die Stapelung die im Signal enthaltene Frequenz? Wovon hängt die Amplitude des Ergebnisses ab?\n",
    "Nach dem Additionstheorem ergibt die Überlagerung der zwei Signale:\n",
    "\n",
    "\\begin{equation}\n",
    "s_1(t)+s_2(t)=2 \\cos \\left(\\omega_0 t + \\frac {\\varphi_1 + \\varphi_2}{2}\\right)\\, \\cos\\left(\\frac {\\varphi_1 - \\varphi_2}{2}\\right). \\tag{5.11}\n",
    "\\end{equation}\n",
    "\n",
    "Das bedeutet, die Frequenz $\\omega_0$ bleibt nach der Stapelung erhalten. Die im Signal vorhandenen Frequenzen ändern sich durch die Stapelung nicht. Die Phasenverschiebung wird gemittelt. Die Amplitude ist von der Phasendifferenz abhängig, da der zeitunabhängige Wichtungsfaktor  von der Phasendifferenz abhängt.  \n",
    "\n",
    "Schauen wir uns das genauer an ..."
   ]
  },
  {
   "cell_type": "code",
   "execution_count": 6,
   "metadata": {},
   "outputs": [],
   "source": [
    "def cos_phase(phi1, phi2):\n",
    "    \n",
    "    # Define parameters\n",
    "    T = 60.                  # period 1 [s]\n",
    "    dt = .1                  # time sampling [s]\n",
    "    L = 200.                # length of the time series [s]\n",
    "\n",
    "    # Define sine function ...\n",
    "    omega = 2. * np.pi / T        # compute circular frequency from period\n",
    "    t = np.arange(0,L+dt,dt)      # compute time vector\n",
    "    s1 = np.cos(omega*t + phi1)   # compute sine wave 1\n",
    "    s2 = np.cos(omega*t + phi2)   # compute sine wave 2\n",
    "        \n",
    "    # Initialize Plots\n",
    "    plt.figure(figsize=(10,5))\n",
    "    \n",
    "    # Plot time series\n",
    "    plt.plot(t, s1, 'b',label=r'$s_1(t) = \\cos(\\omega_0 t+\\varphi_1)$')\n",
    "    plt.plot(t, s2, 'c',label=r'$s_2(t) = \\cos(\\omega_0 t+\\varphi_2)$')\n",
    "    plt.plot(t, s1+s2, 'r',label=r'$s_1 +s_2$')\n",
    "    plt.legend()\n",
    "    plt.xlabel('Time (s)')\n",
    "    plt.ylabel('f(t) (s)')\n",
    "\n",
    "    title = r'Sum of Time Series $s_1(t) + s_2(t)$ ($\\Delta \\phi$ =' + str((phi1-phi2)/np.pi) + ' $\\pi$)'    \n",
    "    plt.title(title)"
   ]
  },
  {
   "cell_type": "code",
   "execution_count": 7,
   "metadata": {},
   "outputs": [
    {
     "data": {
      "application/vnd.jupyter.widget-view+json": {
       "model_id": "18f07cd9da2b41d291507c069d9dfc80",
       "version_major": 2,
       "version_minor": 0
      },
      "text/plain": [
       "interactive(children=(FloatSlider(value=3.141592653589793, description='phi1', max=6.283185307179586, step=0.7…"
      ]
     },
     "metadata": {},
     "output_type": "display_data"
    }
   ],
   "source": [
    "interactive_plot = interactive(cos_phase, phi1=(0.,2*np.pi,np.pi/4.), phi2=(0.,2*np.pi,np.pi/4.) )\n",
    "output = interactive_plot.children[-1]\n",
    "output.layout.height = '350px'\n",
    "interactive_plot"
   ]
  },
  {
   "cell_type": "markdown",
   "metadata": {},
   "source": [
    "Für eine Phasenverschiebung von $|\\varphi_1-\\varphi_2|\\le \\frac{\\pi}{2}$ (das entspricht einer Phasenverschiebung um ein Viertel der Periode oder im Orstbereich um ein Viertel der Wellenlänge) gilt für den Wichtungsfaktor $\\cos \\left(\\frac{\\varphi_1-\\varphi_2}{2} \\right)\\ge 0.7071$ und damit liegt konstruktive Interferenz vor. Für zunehmend größere Phasenunterschiede nimmt die Amplitude des resultierenden Signals ab. Das bedeutet destruktive Interferenz. Für $\\varphi_1-\\varphi_2= \\pi $ löschen sich die Signale gegenseitig aus. Für Phasenunterschiede größer $\\pi$ nimmt aufgrund der Periodizität der Signale die Amplitude wieder zu."
   ]
  },
  {
   "cell_type": "markdown",
   "metadata": {},
   "source": [
    "Als nächstes wird die Summation von zwei Signalen mit unterschiedlicher Frequenz betrachtet:\n",
    "\n",
    "\\begin{align}\n",
    "s_1(t) & = \\cos(\\omega_1 t),\\tag{5.12}\\\\\n",
    "s_2(t) &= \\cos(\\omega_2 t),\\tag{5.13}\n",
    "\\end{align}\n",
    "\n",
    "mit $\\omega_1 > \\omega_2$. Mit dem Additionstheorem folgt:\n",
    "\n",
    "\\begin{equation}\n",
    "s_1(t)+s_2(t)= 2 \\cos \\left(\\frac{\\omega_1+\\omega_2}{2}t\\right)\\, \\cos \\left(\\frac{\\omega_1-\\omega_2}{2}t\\right).\\tag{5.14}\n",
    "\\label{eq:stack3}\n",
    "\\end{equation}\n",
    "\n",
    "Es ergibt sich ein Signal, dass eine hochfrequente Trägerfrequenz $\\frac{\\omega_1+\\omega_2}{2}$ enthält, die der mittleren Frequenz entspricht, und dessen Amplitude niederfrequent mit $\\frac{\\omega_1-\\omega_2}{2}$ bzw. mit der Frequenz $f_A = \\frac{1}{2\\pi}\\frac{\\omega_1-\\omega_2}{2}$ moduliert ist."
   ]
  },
  {
   "cell_type": "code",
   "execution_count": 8,
   "metadata": {},
   "outputs": [],
   "source": [
    "def cos_freq(T1, T2):\n",
    "    \n",
    "    # Define parameters\n",
    "    dt = .1                  # time sampling [s]\n",
    "    L = 200.                # length of the time series [s]\n",
    "\n",
    "    # Define sine function ...\n",
    "    t = np.arange(-L,L+dt,dt)      # compute time vector\n",
    "    \n",
    "    omega1 = 2. * np.pi / T1      # compute circular frequency from period 1\n",
    "    omega2 = 2. * np.pi / T2      # compute circular frequency from period 2\n",
    "    \n",
    "    s1 = np.cos(omega1*t)   # compute sine wave 1\n",
    "    s2 = np.cos(omega2*t)   # compute sine wave 2\n",
    "    \n",
    "    # add both sine waves\n",
    "    s = s1 + s2\n",
    "    \n",
    "    # Fourier transform\n",
    "    S = np.fft.fft(s)\n",
    "    \n",
    "    # Normalize by length of the time series\n",
    "    N = len(s)               # length of the time series [#samples]\n",
    "    S = S / (N*dt)\n",
    "    \n",
    "    # estimate frequencies    \n",
    "    freq = np.fft.fftfreq(N, d=dt)\n",
    "    \n",
    "    # Initialize Plots\n",
    "    plt.figure(figsize=(20,10))\n",
    "    \n",
    "    # Plot time series\n",
    "    plt.subplot(211)\n",
    "    \n",
    "    plt.plot(t, s1, 'b',label=r'$s_1(t) = \\cos(\\omega_1 t)$')\n",
    "    plt.plot(t, s2, 'c',label=r'$s_2(t) = \\cos(\\omega_2 t)$')\n",
    "    plt.plot(t, s1+s2, 'r',label=r'$s_1 +s_2$')\n",
    "    plt.legend()\n",
    "    plt.xlabel('Time (s)')\n",
    "    plt.ylabel('f(t) (s)')\n",
    "    plt.xlim(-200,200)    \n",
    "    plt.title(r'Sum of Time Series $s_1(t) + s_2(t)$')\n",
    "    \n",
    "    # Plot Spectrum\n",
    "    plt.subplot(212)\n",
    "    \n",
    "    plt.plot(freq, np.abs(S), 'b')\n",
    "    plt.xlabel('Freq (Hz)')\n",
    "    plt.ylabel('Amplitude |X(freq)|')\n",
    "    plt.title(r'Amplitude spectrum of Time Series $s_1(t) + s_2(t)$')\n",
    "    plt.xlim(0., .125)"
   ]
  },
  {
   "cell_type": "code",
   "execution_count": 9,
   "metadata": {},
   "outputs": [
    {
     "data": {
      "application/vnd.jupyter.widget-view+json": {
       "model_id": "6857857c95ff482794d6309a047d5368",
       "version_major": 2,
       "version_minor": 0
      },
      "text/plain": [
       "interactive(children=(FloatSlider(value=50.0, description='T1', step=1.0), FloatSlider(value=60.0, description…"
      ]
     },
     "metadata": {},
     "output_type": "display_data"
    }
   ],
   "source": [
    "interactive_plot = interactive(cos_freq, T1=(0.,100.,1.), T2=(0.,120.,1.) )\n",
    "output = interactive_plot.children[-1]\n",
    "output.layout.height = '350px'\n",
    "interactive_plot"
   ]
  },
  {
   "cell_type": "markdown",
   "metadata": {},
   "source": [
    "Interessant ist, dass bei $\\frac{\\omega_1-\\omega_2}{2}t = \\frac{\\pi}{2}  + n\\pi$ mit  $n \\in \\mathbb{G}$ sich das Vorzeichen der Amplitudenmodulation ändert. Dadurch kommt es zu den Zeitpunkten $\\frac{1}{4f_A}+\\frac{n}{2f_A}$ zu einem Phasensprung im resultierenden Signal. In diesem Beispiel ($T_1$=50 s, $T_2$=60 s)ist das bei $\\pm 150 s$ der Fall: aufeinanderfolgende Phasen zeigen die gleiche Polarität. Die Maxima der Einhüllenden sind $\\frac{1}{2f_A}$ entfernt. Sind die Frequenzen ähnlich, ergeben sich sogenannte Schwebungen, z.B. für $T_1$=11 s, $T_2$=12 s. \n",
    "\n",
    "Beachte: wird eine Fourieranalyse von diesem Signal durchgeführt, treten nur die Frequenzen $\\omega_1$ und $\\omega_2$ auf und nicht die mittlere Trägerfrequenz bzw. die Frequenz der Amplitudenmodulation. Die Formulierung mit Hilfe der amplitudenmodulierter Trägerfrequenz ist  mathematisch äquivalent zu der Addition der beiden Signale. Da bei der Fourieranalyse eine Funktion durch Summation von Cosinus-Funktionen verschiedener Frequenz dargestellt wird, werden die sich überlagernden Frequenzen erkannt."
   ]
  },
  {
   "cell_type": "markdown",
   "metadata": {},
   "source": [
    "Im nächsten Beispiel soll ein Signal zwei Frequenzen $\\omega_1$ und $\\omega_2$, mit $\\omega_1<\\omega_2$ enthalten: $s(t) = \\cos (\\omega_1t) + \\cos(\\omega_2t)$. Betrachtet wird die Überlagerung dieses Signals mit sich selbst, wobei das zweite Signal gegenüber dem ersten um $\\tau$ zeitverschoben ist: \n",
    "\n",
    "\\begin{align}\n",
    "s_1(t) &=s(t),\\tag{5.15}\\\\\n",
    "s_2(t) &=s(t+\\tau).\\tag{5.16}\n",
    "\\end{align}"
   ]
  },
  {
   "cell_type": "code",
   "execution_count": 10,
   "metadata": {},
   "outputs": [],
   "source": [
    "def cos_freq_tau(T1, T2,tau):\n",
    "    \n",
    "    # Define parameters\n",
    "    dt = .1                  # time sampling [s]\n",
    "    L = 180.                 # length of the time series [s]\n",
    "\n",
    "    # Define sine function ...\n",
    "    t = np.arange(0.,L+dt,dt)      # compute time vector\n",
    "    \n",
    "    omega1 = 2. * np.pi / T1      # compute circular frequency from period 1\n",
    "    omega2 = 2. * np.pi / T2      # compute circular frequency from period 2\n",
    "    \n",
    "    s1 = np.cos(omega1*t) + np.cos(omega2*t) # compute sine wave 1\n",
    "    s2 = np.cos(omega1*(t+tau)) + np.cos(omega2*(t+tau))   # compute sine wave 2\n",
    "    \n",
    "    s = s1 + s2\n",
    "    \n",
    "    # Fourier transform\n",
    "    S = np.fft.fft(s)\n",
    "    \n",
    "    # Normalize by length of the time series\n",
    "    N = len(s)               # length of the time series [#samples]\n",
    "    S = S / (N*dt)\n",
    "    \n",
    "    # estimate frequencies    \n",
    "    freq = np.fft.fftfreq(N, d=dt)\n",
    "    \n",
    "    # Initialize Plots\n",
    "    plt.figure(figsize=(20,10))\n",
    "    \n",
    "    # Plot time series\n",
    "    plt.subplot(211)\n",
    "    \n",
    "    plt.plot(t, s1, 'b',label=r'$s_1(t) = \\cos(\\omega_1 t) + \\cos(\\omega_2 t)$')\n",
    "    plt.plot(t, s2, 'c',label=r'$s_2(t) = \\cos(\\omega_1 (t+\\tau)) + \\cos(\\omega_2 (t+\\tau))$')\n",
    "    plt.plot(t, s, 'r',label=r'$s_1 +s_2$')\n",
    "    plt.legend()\n",
    "    plt.xlabel('Time (s)')\n",
    "    plt.ylabel('f(t) (s)')\n",
    "    plt.xlim(0.,180)    \n",
    "    plt.title(r'Sum of Time Series $s_1(t) + s_2(t)$')\n",
    "    \n",
    "    # Plot Spectrum\n",
    "    plt.subplot(212)\n",
    "    \n",
    "    plt.plot(freq, np.abs(S), 'b')\n",
    "    plt.xlabel('Freq (Hz)')\n",
    "    plt.ylabel('Amplitude |X(freq)|')\n",
    "    plt.title(r'Amplitude spectrum of Time Series $s_1(t) + s_2(t)$')\n",
    "    plt.xlim(0., .125)"
   ]
  },
  {
   "cell_type": "code",
   "execution_count": 11,
   "metadata": {},
   "outputs": [
    {
     "data": {
      "application/vnd.jupyter.widget-view+json": {
       "model_id": "ac10566b89344c06b5059011d973fdea",
       "version_major": 2,
       "version_minor": 0
      },
      "text/plain": [
       "interactive(children=(FloatSlider(value=20.0, description='T1', max=40.0, step=1.0), FloatSlider(value=80.0, d…"
      ]
     },
     "metadata": {},
     "output_type": "display_data"
    }
   ],
   "source": [
    "interactive_plot = interactive(cos_freq_tau, T1=(0.,40.,1.), T2=(0.,160.,1.), tau=(0.,16.,1.))\n",
    "output = interactive_plot.children[-1]\n",
    "output.layout.height = '350px'\n",
    "interactive_plot"
   ]
  },
  {
   "cell_type": "markdown",
   "metadata": {},
   "source": [
    "Wie wirkt sich die Zeitverschiebung auf die beiden Frequenzen aus? Mit dem Additionstheorem folgt:\n",
    "\n",
    "\\begin{equation}\n",
    "s_1(t)+s_2(t)= 2 \\cos \\left(\\omega_1 t +\\omega_1\\frac{\\tau}{2}\\right)\\, \\cos \\left(\\omega_1\\frac{\\tau}{2}\\right)+2 \\cos \\left(\\omega_2 t +\\omega_2\\frac{\\tau}{2}\\right)\\, \\cos\\left(\\omega_2\\frac{\\tau}{2}\\right).\\tag{5.17}\n",
    "\\end{equation}\n",
    "\n",
    "- Die Frequenzen $\\omega_1$ und $\\omega_2$ bleiben erwartungsgemäß erhalten, da die Addition zweier Signale eine lineare Operation ist.\n",
    "\n",
    "- Es kommt bei beiden Frequenzen zu einer Phasenverschiebung, die einer Zeitverschiebung um $\\tau/2$ entspricht. \n",
    "\n",
    "- $\\cos \\left(\\omega_1\\frac{\\tau}{2} \\right)=a_1$ und $ \\cos\\left(\\omega_2\\frac{\\tau}{2}\\right)=a_2$ sind zeitunabhängige Wichtungsfaktoren, die für beide Frequenzen aber unterschiedlich sind. \n",
    "\n",
    "- Wegen $\\omega_1<\\omega_2$ ist $a_1>a_2$, d.h. die Stapelung ist ein Tiefpass. Die Bedingung für konstruktive Interferenz ist also für tiefe Frequenzen eher erfüllt als für hohe Frequenzen."
   ]
  },
  {
   "cell_type": "code",
   "execution_count": 12,
   "metadata": {},
   "outputs": [
    {
     "name": "stdout",
     "output_type": "stream",
     "text": [
      "w1 =  0.3141592653589793 > w2 =  0.07853981633974483\n"
     ]
    }
   ],
   "source": [
    "T1 = 20.\n",
    "w1 = 2. * np.pi / T1\n",
    "\n",
    "T2 = 80.\n",
    "w2 = 2. * np.pi / T2\n",
    "\n",
    "print('w1 = ', w1, '> w2 = ', w2)"
   ]
  },
  {
   "cell_type": "code",
   "execution_count": 13,
   "metadata": {},
   "outputs": [
    {
     "name": "stdout",
     "output_type": "stream",
     "text": [
      "a1 =  0.30901699437494745 < a2 =  0.9510565162951535\n"
     ]
    }
   ],
   "source": [
    "a1 = np.cos(w1 * 4)\n",
    "a2 = np.cos(w2 * 4)\n",
    "\n",
    "print('a1 = ', a1, '< a2 = ', a2)"
   ]
  },
  {
   "cell_type": "markdown",
   "metadata": {},
   "source": [
    "## Zusammenfassung:"
   ]
  }
 ],
 "metadata": {
  "anaconda-cloud": {},
  "kernelspec": {
   "display_name": "Python 3",
   "language": "python",
   "name": "python3"
  },
  "language_info": {
   "codemirror_mode": {
    "name": "ipython",
    "version": 3
   },
   "file_extension": ".py",
   "mimetype": "text/x-python",
   "name": "python",
   "nbconvert_exporter": "python",
   "pygments_lexer": "ipython3",
   "version": "3.6.8"
  }
 },
 "nbformat": 4,
 "nbformat_minor": 1
}
